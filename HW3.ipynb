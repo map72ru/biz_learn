{
  "nbformat": 4,
  "nbformat_minor": 0,
  "metadata": {
    "colab": {
      "name": "HW3.ipynb",
      "provenance": [],
      "collapsed_sections": [],
      "authorship_tag": "ABX9TyOLykeS/z7Qj2X40vXLtDbW",
      "include_colab_link": true
    },
    "kernelspec": {
      "name": "python3",
      "display_name": "Python 3"
    },
    "language_info": {
      "name": "python"
    }
  },
  "cells": [
    {
      "cell_type": "markdown",
      "metadata": {
        "id": "view-in-github",
        "colab_type": "text"
      },
      "source": [
        "<a href=\"https://colab.research.google.com/github/map72ru/biz_learn/blob/main/HW3.ipynb\" target=\"_parent\"><img src=\"https://colab.research.google.com/assets/colab-badge.svg\" alt=\"Open In Colab\"/></a>"
      ]
    },
    {
      "cell_type": "markdown",
      "metadata": {
        "id": "NAuZU7DMTi5N"
      },
      "source": [
        "1.  обучить несколько разных моделей на наборе данных ССЗ (train_case2.csv): \n",
        "логрег, бустинг, лес и т.д - на ваш выбор 2-3 варианта\n",
        "2.  при обучении моделей обязательно использовать кроссвалидацию\n",
        "3.  вывести сравнение полученных моделей по основным метрикам классификации: pr/rec/auc/f_score (можно в виде таблицы, где строки - модели, а столбцы - метрики)\n",
        "4.  сделать выводы о том, какая модель справилась с задачей лучше других\n",
        "5.  (опциональный вопрос) какая метрика (precision_recall_curve или roc_auc_curve) больше подходит в случае сильного дисбаланса классов? (когда объектов одного из классов намного больше чем другого).\n",
        "\n",
        "p.s.В вопросе проще разобраться, если вспомнить оси на графике roc auc curve и рассмотреть такой пример:\n",
        "\n",
        "Имеется 100000 объектов, из которых только 100 - класс \"1\" (99900 - класс \"0\", соответственно). Допустим, у нас две модели:\n",
        "\n",
        "*   первая помечает 100 объектов как класс 1, но TP = 90\n",
        "*   вторая помечает 1000 объектов как класс 1, но TP такой же - 90\n",
        "\n",
        "Какая модель лучше и почему? И что позволяет легче сделать вывод - roc_auc_curve или precision_recall_curve?\n",
        "\n",
        "6.  (опциональный вопрос) Найти порог классификации по деньгам (Стоимость лечения 15000 р, если сделали тест и начали лечить вовремя. Стоимость лечения 20000, если упустили и начали лечить когда уже проявились все симптомы. Стоимость теста 1400 р)"
      ]
    },
    {
      "cell_type": "code",
      "metadata": {
        "colab": {
          "base_uri": "https://localhost:8080/"
        },
        "id": "M6773sbZPyh2",
        "outputId": "ccc79ddb-d85c-4eb7-85ea-349dafbb745a"
      },
      "source": [
        "from google.colab import drive\n",
        "drive.mount('/content/hw2')"
      ],
      "execution_count": 1,
      "outputs": [
        {
          "output_type": "stream",
          "text": [
            "Mounted at /content/hw2\n"
          ],
          "name": "stdout"
        }
      ]
    },
    {
      "cell_type": "code",
      "metadata": {
        "id": "guilQ_V0QiXO"
      },
      "source": [
        "import pandas as pd"
      ],
      "execution_count": 3,
      "outputs": []
    },
    {
      "cell_type": "code",
      "metadata": {
        "colab": {
          "base_uri": "https://localhost:8080/",
          "height": 159
        },
        "id": "J3QFkD2tQlzO",
        "outputId": "f95819d6-5572-4fd2-95d1-81c8a1a9db7d"
      },
      "source": [
        "data = pd.read_csv(\"hw2/MyDrive/data/train_case2_.csv\")\n",
        "print(data.shape)\n",
        "data.head(3)"
      ],
      "execution_count": 4,
      "outputs": [
        {
          "output_type": "stream",
          "text": [
            "(70000, 13)\n"
          ],
          "name": "stdout"
        },
        {
          "output_type": "execute_result",
          "data": {
            "text/html": [
              "<div>\n",
              "<style scoped>\n",
              "    .dataframe tbody tr th:only-of-type {\n",
              "        vertical-align: middle;\n",
              "    }\n",
              "\n",
              "    .dataframe tbody tr th {\n",
              "        vertical-align: top;\n",
              "    }\n",
              "\n",
              "    .dataframe thead th {\n",
              "        text-align: right;\n",
              "    }\n",
              "</style>\n",
              "<table border=\"1\" class=\"dataframe\">\n",
              "  <thead>\n",
              "    <tr style=\"text-align: right;\">\n",
              "      <th></th>\n",
              "      <th>id</th>\n",
              "      <th>age</th>\n",
              "      <th>gender</th>\n",
              "      <th>height</th>\n",
              "      <th>weight</th>\n",
              "      <th>ap_hi</th>\n",
              "      <th>ap_lo</th>\n",
              "      <th>cholesterol</th>\n",
              "      <th>gluc</th>\n",
              "      <th>smoke</th>\n",
              "      <th>alco</th>\n",
              "      <th>active</th>\n",
              "      <th>cardio</th>\n",
              "    </tr>\n",
              "  </thead>\n",
              "  <tbody>\n",
              "    <tr>\n",
              "      <th>0</th>\n",
              "      <td>0</td>\n",
              "      <td>18393</td>\n",
              "      <td>2</td>\n",
              "      <td>168</td>\n",
              "      <td>62.0</td>\n",
              "      <td>110</td>\n",
              "      <td>80</td>\n",
              "      <td>1</td>\n",
              "      <td>1</td>\n",
              "      <td>0</td>\n",
              "      <td>0</td>\n",
              "      <td>1</td>\n",
              "      <td>0</td>\n",
              "    </tr>\n",
              "    <tr>\n",
              "      <th>1</th>\n",
              "      <td>1</td>\n",
              "      <td>20228</td>\n",
              "      <td>1</td>\n",
              "      <td>156</td>\n",
              "      <td>85.0</td>\n",
              "      <td>140</td>\n",
              "      <td>90</td>\n",
              "      <td>3</td>\n",
              "      <td>1</td>\n",
              "      <td>0</td>\n",
              "      <td>0</td>\n",
              "      <td>1</td>\n",
              "      <td>1</td>\n",
              "    </tr>\n",
              "    <tr>\n",
              "      <th>2</th>\n",
              "      <td>2</td>\n",
              "      <td>18857</td>\n",
              "      <td>1</td>\n",
              "      <td>165</td>\n",
              "      <td>64.0</td>\n",
              "      <td>130</td>\n",
              "      <td>70</td>\n",
              "      <td>3</td>\n",
              "      <td>1</td>\n",
              "      <td>0</td>\n",
              "      <td>0</td>\n",
              "      <td>0</td>\n",
              "      <td>1</td>\n",
              "    </tr>\n",
              "  </tbody>\n",
              "</table>\n",
              "</div>"
            ],
            "text/plain": [
              "   id    age  gender  height  weight  ...  gluc  smoke  alco  active  cardio\n",
              "0   0  18393       2     168    62.0  ...     1      0     0       1       0\n",
              "1   1  20228       1     156    85.0  ...     1      0     0       1       1\n",
              "2   2  18857       1     165    64.0  ...     1      0     0       0       1\n",
              "\n",
              "[3 rows x 13 columns]"
            ]
          },
          "metadata": {
            "tags": []
          },
          "execution_count": 4
        }
      ]
    },
    {
      "cell_type": "code",
      "metadata": {
        "colab": {
          "base_uri": "https://localhost:8080/"
        },
        "id": "-NxROdJdSOz-",
        "outputId": "2c28051f-b533-4623-bc34-8c641efa1f9f"
      },
      "source": [
        "data.info()"
      ],
      "execution_count": 5,
      "outputs": [
        {
          "output_type": "stream",
          "text": [
            "<class 'pandas.core.frame.DataFrame'>\n",
            "RangeIndex: 70000 entries, 0 to 69999\n",
            "Data columns (total 13 columns):\n",
            " #   Column       Non-Null Count  Dtype  \n",
            "---  ------       --------------  -----  \n",
            " 0   id           70000 non-null  int64  \n",
            " 1   age          70000 non-null  int64  \n",
            " 2   gender       70000 non-null  int64  \n",
            " 3   height       70000 non-null  int64  \n",
            " 4   weight       70000 non-null  float64\n",
            " 5   ap_hi        70000 non-null  int64  \n",
            " 6   ap_lo        70000 non-null  int64  \n",
            " 7   cholesterol  70000 non-null  int64  \n",
            " 8   gluc         70000 non-null  int64  \n",
            " 9   smoke        70000 non-null  int64  \n",
            " 10  alco         70000 non-null  int64  \n",
            " 11  active       70000 non-null  int64  \n",
            " 12  cardio       70000 non-null  int64  \n",
            "dtypes: float64(1), int64(12)\n",
            "memory usage: 6.9 MB\n"
          ],
          "name": "stdout"
        }
      ]
    },
    {
      "cell_type": "code",
      "metadata": {
        "id": "9ehnWDM_TLeg"
      },
      "source": [
        "from sklearn.linear_model import LogisticRegression\n",
        "from sklearn.ensemble import GradientBoostingClassifier, RandomForestClassifier\n",
        "from sklearn.model_selection import cross_val_score,train_test_split,StratifiedKFold\n",
        "import numpy as np\n",
        "from sklearn import metrics\n",
        "\n",
        "#import itertools\n",
        "\n",
        "import matplotlib.pyplot as plt\n",
        "from sklearn.metrics import f1_score, roc_auc_score, precision_score, classification_report, \\\n",
        "precision_recall_curve, confusion_matrix, recall_score"
      ],
      "execution_count": 52,
      "outputs": []
    },
    {
      "cell_type": "code",
      "metadata": {
        "id": "YrxtUuXrTNyd"
      },
      "source": [
        "features = ['age', 'gender', 'height', 'weight',\t'ap_hi',\t'ap_lo',\t'cholesterol',\t'gluc',\t'smoke',\t'alco',\t'active']\n",
        "X = data[features]\n",
        "y = data['cardio']"
      ],
      "execution_count": 7,
      "outputs": []
    },
    {
      "cell_type": "code",
      "metadata": {
        "id": "RfgURv6spIEr"
      },
      "source": [
        "from sklearn.preprocessing import StandardScaler\n",
        "scaler = StandardScaler(copy=True, with_mean=True, with_std=True)\n",
        "X_sc = scaler.fit_transform(X)\n",
        "X_train,X_test,y_train,y_test=train_test_split(X_sc,y,test_size=0.25,random_state=42)"
      ],
      "execution_count": 109,
      "outputs": []
    },
    {
      "cell_type": "code",
      "metadata": {
        "id": "Ci2LUNwbjCV6"
      },
      "source": [
        "result = dict()"
      ],
      "execution_count": 110,
      "outputs": []
    },
    {
      "cell_type": "code",
      "metadata": {
        "id": "Jyyp1Cwbq35a"
      },
      "source": [
        "logreg_sc = LogisticRegression()\n",
        "\n",
        "cv_scores = cross_val_score(logreg_sc, X_train, y_train, cv=3, scoring='roc_auc')\n",
        "cv_score = np.mean(cv_scores)\n",
        "\n",
        "# fit the model with data with cross validation\n",
        "logreg_sc.fit(X_train, y_train)\n",
        "\n",
        "y_pred=logreg_sc.predict(X_test)\n",
        "\n",
        "r =  roc_auc_score(y_test, logreg_sc.predict_proba(X_test)[:, 1])\n",
        "\n",
        "result['logreg'] = {'roc_auc': r, 'cv_score':  cv_score, 'Accuracy': metrics.accuracy_score(y_test, y_pred),\n",
        "                    'Precision': metrics.precision_score(y_test, y_pred), \"Recall\": metrics.recall_score(y_test, y_pred),\n",
        "                    'matrix': metrics.confusion_matrix(y_test, y_pred)}"
      ],
      "execution_count": 111,
      "outputs": []
    },
    {
      "cell_type": "code",
      "metadata": {
        "colab": {
          "base_uri": "https://localhost:8080/"
        },
        "id": "b4sE13XQX2vD",
        "outputId": "1fbdf973-d195-4d7b-9062-735d2647ea86"
      },
      "source": [
        "clf = GradientBoostingClassifier(n_estimators=100, learning_rate=1.0, max_depth=5, random_state=42)\n",
        "\n",
        "cv_scores = cross_val_score(clf, X_train, y_train, cv=3, scoring='roc_auc')\n",
        "cv_score = np.mean(cv_scores)\n",
        "print('CV score is {}'.format(cv_score))\n",
        "\n",
        "clf.fit(X_train, y_train)\n",
        "\n",
        "y_pred=clf.predict(X_test)\n",
        "r =  roc_auc_score(y_test, clf.predict_proba(X_test)[:, 1])\n",
        "result['boosting'] = {'roc_auc': r, 'cv_score':  cv_score, 'Accuracy': metrics.accuracy_score(y_test, y_pred),\n",
        "                    'Precision': metrics.precision_score(y_test, y_pred), \"Recall\": metrics.recall_score(y_test, y_pred),\n",
        "                    'matrix': metrics.confusion_matrix(y_test, y_pred)}"
      ],
      "execution_count": 112,
      "outputs": [
        {
          "output_type": "stream",
          "text": [
            "CV score is 0.7533647279874719\n"
          ],
          "name": "stdout"
        }
      ]
    },
    {
      "cell_type": "code",
      "metadata": {
        "colab": {
          "base_uri": "https://localhost:8080/"
        },
        "id": "ibEOalyXa4s1",
        "outputId": "d9f80a10-9781-4c54-beac-81b002a72936"
      },
      "source": [
        "clf = RandomForestClassifier(max_depth=5, random_state=42)\n",
        "\n",
        "cv = StratifiedKFold(10)\n",
        "\n",
        "cv_scores = cross_val_score(clf, X_train, y_train, cv=cv, scoring='roc_auc', n_jobs=8, verbose=0)\n",
        "cv_score = np.mean(cv_scores)\n",
        "print('CV score is {}'.format(cv_score))\n",
        "\n",
        "clf.fit(X_train, y_train)\n",
        "\n",
        "y_pred=clf.predict(X_test)\n",
        "r =  roc_auc_score(y_test, clf.predict_proba(X_test)[:, 1])\n",
        "\n",
        "result['forest'] = {'roc_auc': r, 'cv_score':  cv_score, 'Accuracy': metrics.accuracy_score(y_test, y_pred),\n",
        "                    'Precision': metrics.precision_score(y_test, y_pred), \"Recall\": metrics.recall_score(y_test, y_pred),\n",
        "                    'matrix': metrics.confusion_matrix(y_test, y_pred)}\n",
        "\n"
      ],
      "execution_count": 113,
      "outputs": [
        {
          "output_type": "stream",
          "text": [
            "CV score is 0.7960189436582974\n"
          ],
          "name": "stdout"
        }
      ]
    },
    {
      "cell_type": "code",
      "metadata": {
        "colab": {
          "base_uri": "https://localhost:8080/"
        },
        "id": "hDjCIeOTkg8k",
        "outputId": "503ba8d0-1fc9-4cbb-d780-8644455afac7"
      },
      "source": [
        "\n",
        "print(f'{\"Метод\":8} |  Precision |   Recall   |  Accurancy |  roc_auc   |  cv_score  |   Matrix')\n",
        "print('----------------------------------------------------------------------------------------------------')\n",
        "\n",
        "for classifier in result.keys():\n",
        "  c = result.get(classifier)\n",
        "  p = c.get('cv_score')\n",
        "  r = c.get('Recall')\n",
        "  a = c.get('Accuracy')\n",
        "  s = c.get('cv_score')\n",
        "  m = c.get('matrix')\n",
        "  u = c.get('roc_auc')\n",
        "  print(f'{classifier:8} | {p:.8f} | {r:.8f} | {a:.8f} | {u:.8f} | {s:.8f} | [{m[0][0]} {m[0][1]}]/[{m[1][0]} {m[1][1]}]')"
      ],
      "execution_count": 114,
      "outputs": [
        {
          "output_type": "stream",
          "text": [
            "Метод    |  Precision |   Recall   |  Accurancy |  roc_auc   |  cv_score  |   Matrix\n",
            "----------------------------------------------------------------------------------------------------\n",
            "logreg   | 0.78132816 | 0.67680436 | 0.71971429 | 0.78478682 | 0.78132816 | [6631 2057]/[2848 5964]\n",
            "boosting | 0.75336473 | 0.68293236 | 0.70942857 | 0.76651423 | 0.75336473 | [6397 2291]/[2794 6018]\n",
            "forest   | 0.79601894 | 0.67328643 | 0.73188571 | 0.79671429 | 0.79601894 | [6875 1813]/[2879 5933]\n"
          ],
          "name": "stdout"
        }
      ]
    },
    {
      "cell_type": "markdown",
      "metadata": {
        "id": "LB5Bg9egqVuW"
      },
      "source": [
        "Результат случайного леса дает лучшие оценки, но не принципиально, Я пробовал менять параметры как кросс-валидации, так и модели, но принципиальных улучшений не получил, даже иногда модели работали хуже. Плохо то, что не дается понимания влияния тех или иных параметров на результат."
      ]
    },
    {
      "cell_type": "code",
      "metadata": {
        "colab": {
          "base_uri": "https://localhost:8080/"
        },
        "id": "pW9uqsZIdCjF",
        "outputId": "6ef37980-8b6f-4ba7-9b01-dd6f69e271c0"
      },
      "source": [
        "X_train,X_test,y_train,y_test=train_test_split(X,y,test_size=0.25,random_state=42)\n",
        "clf = RandomForestClassifier(max_depth=5, random_state=42)\n",
        "\n",
        "clf.fit(X_train, y_train)\n",
        "\n",
        "y_pred=clf.predict(X_test)\n",
        "cnf_matrix = metrics.confusion_matrix(y_test, y_pred)\n",
        "cnf_matrix"
      ],
      "execution_count": 49,
      "outputs": [
        {
          "output_type": "execute_result",
          "data": {
            "text/plain": [
              "array([[6875, 1813],\n",
              "       [2879, 5933]])"
            ]
          },
          "metadata": {
            "tags": []
          },
          "execution_count": 49
        }
      ]
    },
    {
      "cell_type": "markdown",
      "metadata": {
        "id": "VK2BolKIsl_X"
      },
      "source": [
        "Отдельным вопросом является кросс-валидация. В приведенной ячейке модель обучалась без кросс-валидации и видно, что результат не изменился. Я просмотрел несколько примеров из докусентации и интернета, все примерно делают одинаково. Но тогда не понятно, почему не сработала кросс-валидация? Или я что-то все-таки делаю не правильно?"
      ]
    }
  ]
}