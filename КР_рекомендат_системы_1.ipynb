{
  "nbformat": 4,
  "nbformat_minor": 0,
  "metadata": {
    "colab": {
      "name": "КР_рекомендат_системы_1.ipynb",
      "provenance": [],
      "collapsed_sections": [],
      "include_colab_link": true
    },
    "kernelspec": {
      "display_name": "Python 3",
      "language": "python",
      "name": "python3"
    },
    "language_info": {
      "codemirror_mode": {
        "name": "ipython",
        "version": 3
      },
      "file_extension": ".py",
      "mimetype": "text/x-python",
      "name": "python",
      "nbconvert_exporter": "python",
      "pygments_lexer": "ipython3",
      "version": "3.8.8"
    },
    "widgets": {
      "application/vnd.jupyter.widget-state+json": {
        "c11cbba341564f9a823610de0cdb829f": {
          "model_module": "@jupyter-widgets/controls",
          "model_name": "HBoxModel",
          "model_module_version": "1.5.0",
          "state": {
            "_view_name": "HBoxView",
            "_dom_classes": [],
            "_model_name": "HBoxModel",
            "_view_module": "@jupyter-widgets/controls",
            "_model_module_version": "1.5.0",
            "_view_count": null,
            "_view_module_version": "1.5.0",
            "box_style": "",
            "layout": "IPY_MODEL_87377a6bfe9c4f048e07dec22931e270",
            "_model_module": "@jupyter-widgets/controls",
            "children": [
              "IPY_MODEL_21c1d0985198416aa45c6b115863e67b",
              "IPY_MODEL_3dbbd3176581413ca561f647cfcf851e",
              "IPY_MODEL_c9534c5167a34a999c2be517311e1324"
            ]
          }
        },
        "87377a6bfe9c4f048e07dec22931e270": {
          "model_module": "@jupyter-widgets/base",
          "model_name": "LayoutModel",
          "model_module_version": "1.2.0",
          "state": {
            "_view_name": "LayoutView",
            "grid_template_rows": null,
            "right": null,
            "justify_content": null,
            "_view_module": "@jupyter-widgets/base",
            "overflow": null,
            "_model_module_version": "1.2.0",
            "_view_count": null,
            "flex_flow": null,
            "width": null,
            "min_width": null,
            "border": null,
            "align_items": null,
            "bottom": null,
            "_model_module": "@jupyter-widgets/base",
            "top": null,
            "grid_column": null,
            "overflow_y": null,
            "overflow_x": null,
            "grid_auto_flow": null,
            "grid_area": null,
            "grid_template_columns": null,
            "flex": null,
            "_model_name": "LayoutModel",
            "justify_items": null,
            "grid_row": null,
            "max_height": null,
            "align_content": null,
            "visibility": null,
            "align_self": null,
            "height": null,
            "min_height": null,
            "padding": null,
            "grid_auto_rows": null,
            "grid_gap": null,
            "max_width": null,
            "order": null,
            "_view_module_version": "1.2.0",
            "grid_template_areas": null,
            "object_position": null,
            "object_fit": null,
            "grid_auto_columns": null,
            "margin": null,
            "display": null,
            "left": null
          }
        },
        "21c1d0985198416aa45c6b115863e67b": {
          "model_module": "@jupyter-widgets/controls",
          "model_name": "HTMLModel",
          "model_module_version": "1.5.0",
          "state": {
            "_view_name": "HTMLView",
            "style": "IPY_MODEL_89ad5a2e9b184f0aaf54dd94d0de8464",
            "_dom_classes": [],
            "description": "",
            "_model_name": "HTMLModel",
            "placeholder": "​",
            "_view_module": "@jupyter-widgets/controls",
            "_model_module_version": "1.5.0",
            "value": "100%",
            "_view_count": null,
            "_view_module_version": "1.5.0",
            "description_tooltip": null,
            "_model_module": "@jupyter-widgets/controls",
            "layout": "IPY_MODEL_bcf0e41b5f17427ca176222c188901e8"
          }
        },
        "3dbbd3176581413ca561f647cfcf851e": {
          "model_module": "@jupyter-widgets/controls",
          "model_name": "FloatProgressModel",
          "model_module_version": "1.5.0",
          "state": {
            "_view_name": "ProgressView",
            "style": "IPY_MODEL_59f44b2898ff48559871616a43f58f4b",
            "_dom_classes": [],
            "description": "",
            "_model_name": "FloatProgressModel",
            "bar_style": "success",
            "max": 30,
            "_view_module": "@jupyter-widgets/controls",
            "_model_module_version": "1.5.0",
            "value": 30,
            "_view_count": null,
            "_view_module_version": "1.5.0",
            "orientation": "horizontal",
            "min": 0,
            "description_tooltip": null,
            "_model_module": "@jupyter-widgets/controls",
            "layout": "IPY_MODEL_52be42585c9140828948d6e902002701"
          }
        },
        "c9534c5167a34a999c2be517311e1324": {
          "model_module": "@jupyter-widgets/controls",
          "model_name": "HTMLModel",
          "model_module_version": "1.5.0",
          "state": {
            "_view_name": "HTMLView",
            "style": "IPY_MODEL_e0dfa1fe23b14e60854300774addf1f2",
            "_dom_classes": [],
            "description": "",
            "_model_name": "HTMLModel",
            "placeholder": "​",
            "_view_module": "@jupyter-widgets/controls",
            "_model_module_version": "1.5.0",
            "value": " 30/30 [20:42&lt;00:00, 46.88s/it]",
            "_view_count": null,
            "_view_module_version": "1.5.0",
            "description_tooltip": null,
            "_model_module": "@jupyter-widgets/controls",
            "layout": "IPY_MODEL_3ea7498df47d4a3d9a5be33cb3ee501e"
          }
        },
        "89ad5a2e9b184f0aaf54dd94d0de8464": {
          "model_module": "@jupyter-widgets/controls",
          "model_name": "DescriptionStyleModel",
          "model_module_version": "1.5.0",
          "state": {
            "_view_name": "StyleView",
            "_model_name": "DescriptionStyleModel",
            "description_width": "",
            "_view_module": "@jupyter-widgets/base",
            "_model_module_version": "1.5.0",
            "_view_count": null,
            "_view_module_version": "1.2.0",
            "_model_module": "@jupyter-widgets/controls"
          }
        },
        "bcf0e41b5f17427ca176222c188901e8": {
          "model_module": "@jupyter-widgets/base",
          "model_name": "LayoutModel",
          "model_module_version": "1.2.0",
          "state": {
            "_view_name": "LayoutView",
            "grid_template_rows": null,
            "right": null,
            "justify_content": null,
            "_view_module": "@jupyter-widgets/base",
            "overflow": null,
            "_model_module_version": "1.2.0",
            "_view_count": null,
            "flex_flow": null,
            "width": null,
            "min_width": null,
            "border": null,
            "align_items": null,
            "bottom": null,
            "_model_module": "@jupyter-widgets/base",
            "top": null,
            "grid_column": null,
            "overflow_y": null,
            "overflow_x": null,
            "grid_auto_flow": null,
            "grid_area": null,
            "grid_template_columns": null,
            "flex": null,
            "_model_name": "LayoutModel",
            "justify_items": null,
            "grid_row": null,
            "max_height": null,
            "align_content": null,
            "visibility": null,
            "align_self": null,
            "height": null,
            "min_height": null,
            "padding": null,
            "grid_auto_rows": null,
            "grid_gap": null,
            "max_width": null,
            "order": null,
            "_view_module_version": "1.2.0",
            "grid_template_areas": null,
            "object_position": null,
            "object_fit": null,
            "grid_auto_columns": null,
            "margin": null,
            "display": null,
            "left": null
          }
        },
        "59f44b2898ff48559871616a43f58f4b": {
          "model_module": "@jupyter-widgets/controls",
          "model_name": "ProgressStyleModel",
          "model_module_version": "1.5.0",
          "state": {
            "_view_name": "StyleView",
            "_model_name": "ProgressStyleModel",
            "description_width": "",
            "_view_module": "@jupyter-widgets/base",
            "_model_module_version": "1.5.0",
            "_view_count": null,
            "_view_module_version": "1.2.0",
            "bar_color": null,
            "_model_module": "@jupyter-widgets/controls"
          }
        },
        "52be42585c9140828948d6e902002701": {
          "model_module": "@jupyter-widgets/base",
          "model_name": "LayoutModel",
          "model_module_version": "1.2.0",
          "state": {
            "_view_name": "LayoutView",
            "grid_template_rows": null,
            "right": null,
            "justify_content": null,
            "_view_module": "@jupyter-widgets/base",
            "overflow": null,
            "_model_module_version": "1.2.0",
            "_view_count": null,
            "flex_flow": null,
            "width": null,
            "min_width": null,
            "border": null,
            "align_items": null,
            "bottom": null,
            "_model_module": "@jupyter-widgets/base",
            "top": null,
            "grid_column": null,
            "overflow_y": null,
            "overflow_x": null,
            "grid_auto_flow": null,
            "grid_area": null,
            "grid_template_columns": null,
            "flex": null,
            "_model_name": "LayoutModel",
            "justify_items": null,
            "grid_row": null,
            "max_height": null,
            "align_content": null,
            "visibility": null,
            "align_self": null,
            "height": null,
            "min_height": null,
            "padding": null,
            "grid_auto_rows": null,
            "grid_gap": null,
            "max_width": null,
            "order": null,
            "_view_module_version": "1.2.0",
            "grid_template_areas": null,
            "object_position": null,
            "object_fit": null,
            "grid_auto_columns": null,
            "margin": null,
            "display": null,
            "left": null
          }
        },
        "e0dfa1fe23b14e60854300774addf1f2": {
          "model_module": "@jupyter-widgets/controls",
          "model_name": "DescriptionStyleModel",
          "model_module_version": "1.5.0",
          "state": {
            "_view_name": "StyleView",
            "_model_name": "DescriptionStyleModel",
            "description_width": "",
            "_view_module": "@jupyter-widgets/base",
            "_model_module_version": "1.5.0",
            "_view_count": null,
            "_view_module_version": "1.2.0",
            "_model_module": "@jupyter-widgets/controls"
          }
        },
        "3ea7498df47d4a3d9a5be33cb3ee501e": {
          "model_module": "@jupyter-widgets/base",
          "model_name": "LayoutModel",
          "model_module_version": "1.2.0",
          "state": {
            "_view_name": "LayoutView",
            "grid_template_rows": null,
            "right": null,
            "justify_content": null,
            "_view_module": "@jupyter-widgets/base",
            "overflow": null,
            "_model_module_version": "1.2.0",
            "_view_count": null,
            "flex_flow": null,
            "width": null,
            "min_width": null,
            "border": null,
            "align_items": null,
            "bottom": null,
            "_model_module": "@jupyter-widgets/base",
            "top": null,
            "grid_column": null,
            "overflow_y": null,
            "overflow_x": null,
            "grid_auto_flow": null,
            "grid_area": null,
            "grid_template_columns": null,
            "flex": null,
            "_model_name": "LayoutModel",
            "justify_items": null,
            "grid_row": null,
            "max_height": null,
            "align_content": null,
            "visibility": null,
            "align_self": null,
            "height": null,
            "min_height": null,
            "padding": null,
            "grid_auto_rows": null,
            "grid_gap": null,
            "max_width": null,
            "order": null,
            "_view_module_version": "1.2.0",
            "grid_template_areas": null,
            "object_position": null,
            "object_fit": null,
            "grid_auto_columns": null,
            "margin": null,
            "display": null,
            "left": null
          }
        },
        "deb579a0f85e4c13bc9e605b19657f1b": {
          "model_module": "@jupyter-widgets/controls",
          "model_name": "HBoxModel",
          "model_module_version": "1.5.0",
          "state": {
            "_view_name": "HBoxView",
            "_dom_classes": [],
            "_model_name": "HBoxModel",
            "_view_module": "@jupyter-widgets/controls",
            "_model_module_version": "1.5.0",
            "_view_count": null,
            "_view_module_version": "1.5.0",
            "box_style": "",
            "layout": "IPY_MODEL_d2da526dfe264bd081e210460db99ebb",
            "_model_module": "@jupyter-widgets/controls",
            "children": [
              "IPY_MODEL_c5eed816c0ab4e7f9b9d831bfda951c5",
              "IPY_MODEL_61eccb93812240138fedf51177ee50b9",
              "IPY_MODEL_b125280af8ff4eb2828e2e1026a5baeb"
            ]
          }
        },
        "d2da526dfe264bd081e210460db99ebb": {
          "model_module": "@jupyter-widgets/base",
          "model_name": "LayoutModel",
          "model_module_version": "1.2.0",
          "state": {
            "_view_name": "LayoutView",
            "grid_template_rows": null,
            "right": null,
            "justify_content": null,
            "_view_module": "@jupyter-widgets/base",
            "overflow": null,
            "_model_module_version": "1.2.0",
            "_view_count": null,
            "flex_flow": null,
            "width": null,
            "min_width": null,
            "border": null,
            "align_items": null,
            "bottom": null,
            "_model_module": "@jupyter-widgets/base",
            "top": null,
            "grid_column": null,
            "overflow_y": null,
            "overflow_x": null,
            "grid_auto_flow": null,
            "grid_area": null,
            "grid_template_columns": null,
            "flex": null,
            "_model_name": "LayoutModel",
            "justify_items": null,
            "grid_row": null,
            "max_height": null,
            "align_content": null,
            "visibility": null,
            "align_self": null,
            "height": null,
            "min_height": null,
            "padding": null,
            "grid_auto_rows": null,
            "grid_gap": null,
            "max_width": null,
            "order": null,
            "_view_module_version": "1.2.0",
            "grid_template_areas": null,
            "object_position": null,
            "object_fit": null,
            "grid_auto_columns": null,
            "margin": null,
            "display": null,
            "left": null
          }
        },
        "c5eed816c0ab4e7f9b9d831bfda951c5": {
          "model_module": "@jupyter-widgets/controls",
          "model_name": "HTMLModel",
          "model_module_version": "1.5.0",
          "state": {
            "_view_name": "HTMLView",
            "style": "IPY_MODEL_e5dd1829273d4a9bbeb5e4fe4d9fee55",
            "_dom_classes": [],
            "description": "",
            "_model_name": "HTMLModel",
            "placeholder": "​",
            "_view_module": "@jupyter-widgets/controls",
            "_model_module_version": "1.5.0",
            "value": "100%",
            "_view_count": null,
            "_view_module_version": "1.5.0",
            "description_tooltip": null,
            "_model_module": "@jupyter-widgets/controls",
            "layout": "IPY_MODEL_0a00755c5fa84ed090db7c75ec2b642e"
          }
        },
        "61eccb93812240138fedf51177ee50b9": {
          "model_module": "@jupyter-widgets/controls",
          "model_name": "FloatProgressModel",
          "model_module_version": "1.5.0",
          "state": {
            "_view_name": "ProgressView",
            "style": "IPY_MODEL_8c4287f8edab4b529b5d068718eedd24",
            "_dom_classes": [],
            "description": "",
            "_model_name": "FloatProgressModel",
            "bar_style": "success",
            "max": 10001,
            "_view_module": "@jupyter-widgets/controls",
            "_model_module_version": "1.5.0",
            "value": 10001,
            "_view_count": null,
            "_view_module_version": "1.5.0",
            "orientation": "horizontal",
            "min": 0,
            "description_tooltip": null,
            "_model_module": "@jupyter-widgets/controls",
            "layout": "IPY_MODEL_ab7ef4029d7c400a8f2a1932ef089e9d"
          }
        },
        "b125280af8ff4eb2828e2e1026a5baeb": {
          "model_module": "@jupyter-widgets/controls",
          "model_name": "HTMLModel",
          "model_module_version": "1.5.0",
          "state": {
            "_view_name": "HTMLView",
            "style": "IPY_MODEL_ca064e3f143842428643aa7d5a81afa3",
            "_dom_classes": [],
            "description": "",
            "_model_name": "HTMLModel",
            "placeholder": "​",
            "_view_module": "@jupyter-widgets/controls",
            "_model_module_version": "1.5.0",
            "value": " 10001/10001 [00:01&lt;00:00, 10185.70it/s]",
            "_view_count": null,
            "_view_module_version": "1.5.0",
            "description_tooltip": null,
            "_model_module": "@jupyter-widgets/controls",
            "layout": "IPY_MODEL_27b121e119e244d1a930d0cbe46694e7"
          }
        },
        "e5dd1829273d4a9bbeb5e4fe4d9fee55": {
          "model_module": "@jupyter-widgets/controls",
          "model_name": "DescriptionStyleModel",
          "model_module_version": "1.5.0",
          "state": {
            "_view_name": "StyleView",
            "_model_name": "DescriptionStyleModel",
            "description_width": "",
            "_view_module": "@jupyter-widgets/base",
            "_model_module_version": "1.5.0",
            "_view_count": null,
            "_view_module_version": "1.2.0",
            "_model_module": "@jupyter-widgets/controls"
          }
        },
        "0a00755c5fa84ed090db7c75ec2b642e": {
          "model_module": "@jupyter-widgets/base",
          "model_name": "LayoutModel",
          "model_module_version": "1.2.0",
          "state": {
            "_view_name": "LayoutView",
            "grid_template_rows": null,
            "right": null,
            "justify_content": null,
            "_view_module": "@jupyter-widgets/base",
            "overflow": null,
            "_model_module_version": "1.2.0",
            "_view_count": null,
            "flex_flow": null,
            "width": null,
            "min_width": null,
            "border": null,
            "align_items": null,
            "bottom": null,
            "_model_module": "@jupyter-widgets/base",
            "top": null,
            "grid_column": null,
            "overflow_y": null,
            "overflow_x": null,
            "grid_auto_flow": null,
            "grid_area": null,
            "grid_template_columns": null,
            "flex": null,
            "_model_name": "LayoutModel",
            "justify_items": null,
            "grid_row": null,
            "max_height": null,
            "align_content": null,
            "visibility": null,
            "align_self": null,
            "height": null,
            "min_height": null,
            "padding": null,
            "grid_auto_rows": null,
            "grid_gap": null,
            "max_width": null,
            "order": null,
            "_view_module_version": "1.2.0",
            "grid_template_areas": null,
            "object_position": null,
            "object_fit": null,
            "grid_auto_columns": null,
            "margin": null,
            "display": null,
            "left": null
          }
        },
        "8c4287f8edab4b529b5d068718eedd24": {
          "model_module": "@jupyter-widgets/controls",
          "model_name": "ProgressStyleModel",
          "model_module_version": "1.5.0",
          "state": {
            "_view_name": "StyleView",
            "_model_name": "ProgressStyleModel",
            "description_width": "",
            "_view_module": "@jupyter-widgets/base",
            "_model_module_version": "1.5.0",
            "_view_count": null,
            "_view_module_version": "1.2.0",
            "bar_color": null,
            "_model_module": "@jupyter-widgets/controls"
          }
        },
        "ab7ef4029d7c400a8f2a1932ef089e9d": {
          "model_module": "@jupyter-widgets/base",
          "model_name": "LayoutModel",
          "model_module_version": "1.2.0",
          "state": {
            "_view_name": "LayoutView",
            "grid_template_rows": null,
            "right": null,
            "justify_content": null,
            "_view_module": "@jupyter-widgets/base",
            "overflow": null,
            "_model_module_version": "1.2.0",
            "_view_count": null,
            "flex_flow": null,
            "width": null,
            "min_width": null,
            "border": null,
            "align_items": null,
            "bottom": null,
            "_model_module": "@jupyter-widgets/base",
            "top": null,
            "grid_column": null,
            "overflow_y": null,
            "overflow_x": null,
            "grid_auto_flow": null,
            "grid_area": null,
            "grid_template_columns": null,
            "flex": null,
            "_model_name": "LayoutModel",
            "justify_items": null,
            "grid_row": null,
            "max_height": null,
            "align_content": null,
            "visibility": null,
            "align_self": null,
            "height": null,
            "min_height": null,
            "padding": null,
            "grid_auto_rows": null,
            "grid_gap": null,
            "max_width": null,
            "order": null,
            "_view_module_version": "1.2.0",
            "grid_template_areas": null,
            "object_position": null,
            "object_fit": null,
            "grid_auto_columns": null,
            "margin": null,
            "display": null,
            "left": null
          }
        },
        "ca064e3f143842428643aa7d5a81afa3": {
          "model_module": "@jupyter-widgets/controls",
          "model_name": "DescriptionStyleModel",
          "model_module_version": "1.5.0",
          "state": {
            "_view_name": "StyleView",
            "_model_name": "DescriptionStyleModel",
            "description_width": "",
            "_view_module": "@jupyter-widgets/base",
            "_model_module_version": "1.5.0",
            "_view_count": null,
            "_view_module_version": "1.2.0",
            "_model_module": "@jupyter-widgets/controls"
          }
        },
        "27b121e119e244d1a930d0cbe46694e7": {
          "model_module": "@jupyter-widgets/base",
          "model_name": "LayoutModel",
          "model_module_version": "1.2.0",
          "state": {
            "_view_name": "LayoutView",
            "grid_template_rows": null,
            "right": null,
            "justify_content": null,
            "_view_module": "@jupyter-widgets/base",
            "overflow": null,
            "_model_module_version": "1.2.0",
            "_view_count": null,
            "flex_flow": null,
            "width": null,
            "min_width": null,
            "border": null,
            "align_items": null,
            "bottom": null,
            "_model_module": "@jupyter-widgets/base",
            "top": null,
            "grid_column": null,
            "overflow_y": null,
            "overflow_x": null,
            "grid_auto_flow": null,
            "grid_area": null,
            "grid_template_columns": null,
            "flex": null,
            "_model_name": "LayoutModel",
            "justify_items": null,
            "grid_row": null,
            "max_height": null,
            "align_content": null,
            "visibility": null,
            "align_self": null,
            "height": null,
            "min_height": null,
            "padding": null,
            "grid_auto_rows": null,
            "grid_gap": null,
            "max_width": null,
            "order": null,
            "_view_module_version": "1.2.0",
            "grid_template_areas": null,
            "object_position": null,
            "object_fit": null,
            "grid_auto_columns": null,
            "margin": null,
            "display": null,
            "left": null
          }
        }
      }
    }
  },
  "cells": [
    {
      "cell_type": "markdown",
      "metadata": {
        "id": "view-in-github",
        "colab_type": "text"
      },
      "source": [
        "<a href=\"https://colab.research.google.com/github/map72ru/biz_learn/blob/main/%D0%9A%D0%A0_%D1%80%D0%B5%D0%BA%D0%BE%D0%BC%D0%B5%D0%BD%D0%B4%D0%B0%D1%82_%D1%81%D0%B8%D1%81%D1%82%D0%B5%D0%BC%D1%8B_1.ipynb\" target=\"_parent\"><img src=\"https://colab.research.google.com/assets/colab-badge.svg\" alt=\"Open In Colab\"/></a>"
      ]
    },
    {
      "cell_type": "code",
      "metadata": {
        "colab": {
          "base_uri": "https://localhost:8080/"
        },
        "id": "GRpYkHeiailc",
        "outputId": "096c2d5f-cdad-4dbf-a3f7-2dd99c03226a"
      },
      "source": [
        "!pip install implicit"
      ],
      "execution_count": 1,
      "outputs": [
        {
          "output_type": "stream",
          "name": "stdout",
          "text": [
            "Collecting implicit\n",
            "  Downloading implicit-0.4.8.tar.gz (1.1 MB)\n",
            "\u001b[?25l\r\u001b[K     |▎                               | 10 kB 21.6 MB/s eta 0:00:01\r\u001b[K     |▋                               | 20 kB 26.9 MB/s eta 0:00:01\r\u001b[K     |▉                               | 30 kB 12.4 MB/s eta 0:00:01\r\u001b[K     |█▏                              | 40 kB 9.2 MB/s eta 0:00:01\r\u001b[K     |█▍                              | 51 kB 5.0 MB/s eta 0:00:01\r\u001b[K     |█▊                              | 61 kB 5.4 MB/s eta 0:00:01\r\u001b[K     |██                              | 71 kB 5.8 MB/s eta 0:00:01\r\u001b[K     |██▎                             | 81 kB 6.5 MB/s eta 0:00:01\r\u001b[K     |██▋                             | 92 kB 4.7 MB/s eta 0:00:01\r\u001b[K     |██▉                             | 102 kB 5.1 MB/s eta 0:00:01\r\u001b[K     |███▏                            | 112 kB 5.1 MB/s eta 0:00:01\r\u001b[K     |███▍                            | 122 kB 5.1 MB/s eta 0:00:01\r\u001b[K     |███▊                            | 133 kB 5.1 MB/s eta 0:00:01\r\u001b[K     |████                            | 143 kB 5.1 MB/s eta 0:00:01\r\u001b[K     |████▎                           | 153 kB 5.1 MB/s eta 0:00:01\r\u001b[K     |████▋                           | 163 kB 5.1 MB/s eta 0:00:01\r\u001b[K     |████▉                           | 174 kB 5.1 MB/s eta 0:00:01\r\u001b[K     |█████▏                          | 184 kB 5.1 MB/s eta 0:00:01\r\u001b[K     |█████▍                          | 194 kB 5.1 MB/s eta 0:00:01\r\u001b[K     |█████▊                          | 204 kB 5.1 MB/s eta 0:00:01\r\u001b[K     |██████                          | 215 kB 5.1 MB/s eta 0:00:01\r\u001b[K     |██████▎                         | 225 kB 5.1 MB/s eta 0:00:01\r\u001b[K     |██████▋                         | 235 kB 5.1 MB/s eta 0:00:01\r\u001b[K     |██████▉                         | 245 kB 5.1 MB/s eta 0:00:01\r\u001b[K     |███████▏                        | 256 kB 5.1 MB/s eta 0:00:01\r\u001b[K     |███████▌                        | 266 kB 5.1 MB/s eta 0:00:01\r\u001b[K     |███████▊                        | 276 kB 5.1 MB/s eta 0:00:01\r\u001b[K     |████████                        | 286 kB 5.1 MB/s eta 0:00:01\r\u001b[K     |████████▎                       | 296 kB 5.1 MB/s eta 0:00:01\r\u001b[K     |████████▋                       | 307 kB 5.1 MB/s eta 0:00:01\r\u001b[K     |████████▉                       | 317 kB 5.1 MB/s eta 0:00:01\r\u001b[K     |█████████▏                      | 327 kB 5.1 MB/s eta 0:00:01\r\u001b[K     |█████████▌                      | 337 kB 5.1 MB/s eta 0:00:01\r\u001b[K     |█████████▊                      | 348 kB 5.1 MB/s eta 0:00:01\r\u001b[K     |██████████                      | 358 kB 5.1 MB/s eta 0:00:01\r\u001b[K     |██████████▎                     | 368 kB 5.1 MB/s eta 0:00:01\r\u001b[K     |██████████▋                     | 378 kB 5.1 MB/s eta 0:00:01\r\u001b[K     |██████████▉                     | 389 kB 5.1 MB/s eta 0:00:01\r\u001b[K     |███████████▏                    | 399 kB 5.1 MB/s eta 0:00:01\r\u001b[K     |███████████▌                    | 409 kB 5.1 MB/s eta 0:00:01\r\u001b[K     |███████████▊                    | 419 kB 5.1 MB/s eta 0:00:01\r\u001b[K     |████████████                    | 430 kB 5.1 MB/s eta 0:00:01\r\u001b[K     |████████████▎                   | 440 kB 5.1 MB/s eta 0:00:01\r\u001b[K     |████████████▋                   | 450 kB 5.1 MB/s eta 0:00:01\r\u001b[K     |█████████████                   | 460 kB 5.1 MB/s eta 0:00:01\r\u001b[K     |█████████████▏                  | 471 kB 5.1 MB/s eta 0:00:01\r\u001b[K     |█████████████▌                  | 481 kB 5.1 MB/s eta 0:00:01\r\u001b[K     |█████████████▊                  | 491 kB 5.1 MB/s eta 0:00:01\r\u001b[K     |██████████████                  | 501 kB 5.1 MB/s eta 0:00:01\r\u001b[K     |██████████████▎                 | 512 kB 5.1 MB/s eta 0:00:01\r\u001b[K     |██████████████▋                 | 522 kB 5.1 MB/s eta 0:00:01\r\u001b[K     |███████████████                 | 532 kB 5.1 MB/s eta 0:00:01\r\u001b[K     |███████████████▏                | 542 kB 5.1 MB/s eta 0:00:01\r\u001b[K     |███████████████▌                | 552 kB 5.1 MB/s eta 0:00:01\r\u001b[K     |███████████████▊                | 563 kB 5.1 MB/s eta 0:00:01\r\u001b[K     |████████████████                | 573 kB 5.1 MB/s eta 0:00:01\r\u001b[K     |████████████████▎               | 583 kB 5.1 MB/s eta 0:00:01\r\u001b[K     |████████████████▋               | 593 kB 5.1 MB/s eta 0:00:01\r\u001b[K     |█████████████████               | 604 kB 5.1 MB/s eta 0:00:01\r\u001b[K     |█████████████████▏              | 614 kB 5.1 MB/s eta 0:00:01\r\u001b[K     |█████████████████▌              | 624 kB 5.1 MB/s eta 0:00:01\r\u001b[K     |█████████████████▊              | 634 kB 5.1 MB/s eta 0:00:01\r\u001b[K     |██████████████████              | 645 kB 5.1 MB/s eta 0:00:01\r\u001b[K     |██████████████████▍             | 655 kB 5.1 MB/s eta 0:00:01\r\u001b[K     |██████████████████▋             | 665 kB 5.1 MB/s eta 0:00:01\r\u001b[K     |███████████████████             | 675 kB 5.1 MB/s eta 0:00:01\r\u001b[K     |███████████████████▏            | 686 kB 5.1 MB/s eta 0:00:01\r\u001b[K     |███████████████████▌            | 696 kB 5.1 MB/s eta 0:00:01\r\u001b[K     |███████████████████▊            | 706 kB 5.1 MB/s eta 0:00:01\r\u001b[K     |████████████████████            | 716 kB 5.1 MB/s eta 0:00:01\r\u001b[K     |████████████████████▍           | 727 kB 5.1 MB/s eta 0:00:01\r\u001b[K     |████████████████████▋           | 737 kB 5.1 MB/s eta 0:00:01\r\u001b[K     |█████████████████████           | 747 kB 5.1 MB/s eta 0:00:01\r\u001b[K     |█████████████████████▏          | 757 kB 5.1 MB/s eta 0:00:01\r\u001b[K     |█████████████████████▌          | 768 kB 5.1 MB/s eta 0:00:01\r\u001b[K     |█████████████████████▊          | 778 kB 5.1 MB/s eta 0:00:01\r\u001b[K     |██████████████████████          | 788 kB 5.1 MB/s eta 0:00:01\r\u001b[K     |██████████████████████▍         | 798 kB 5.1 MB/s eta 0:00:01\r\u001b[K     |██████████████████████▋         | 808 kB 5.1 MB/s eta 0:00:01\r\u001b[K     |███████████████████████         | 819 kB 5.1 MB/s eta 0:00:01\r\u001b[K     |███████████████████████▏        | 829 kB 5.1 MB/s eta 0:00:01\r\u001b[K     |███████████████████████▌        | 839 kB 5.1 MB/s eta 0:00:01\r\u001b[K     |███████████████████████▉        | 849 kB 5.1 MB/s eta 0:00:01\r\u001b[K     |████████████████████████        | 860 kB 5.1 MB/s eta 0:00:01\r\u001b[K     |████████████████████████▍       | 870 kB 5.1 MB/s eta 0:00:01\r\u001b[K     |████████████████████████▋       | 880 kB 5.1 MB/s eta 0:00:01\r\u001b[K     |█████████████████████████       | 890 kB 5.1 MB/s eta 0:00:01\r\u001b[K     |█████████████████████████▏      | 901 kB 5.1 MB/s eta 0:00:01\r\u001b[K     |█████████████████████████▌      | 911 kB 5.1 MB/s eta 0:00:01\r\u001b[K     |█████████████████████████▉      | 921 kB 5.1 MB/s eta 0:00:01\r\u001b[K     |██████████████████████████      | 931 kB 5.1 MB/s eta 0:00:01\r\u001b[K     |██████████████████████████▍     | 942 kB 5.1 MB/s eta 0:00:01\r\u001b[K     |██████████████████████████▋     | 952 kB 5.1 MB/s eta 0:00:01\r\u001b[K     |███████████████████████████     | 962 kB 5.1 MB/s eta 0:00:01\r\u001b[K     |███████████████████████████▏    | 972 kB 5.1 MB/s eta 0:00:01\r\u001b[K     |███████████████████████████▌    | 983 kB 5.1 MB/s eta 0:00:01\r\u001b[K     |███████████████████████████▉    | 993 kB 5.1 MB/s eta 0:00:01\r\u001b[K     |████████████████████████████    | 1.0 MB 5.1 MB/s eta 0:00:01\r\u001b[K     |████████████████████████████▍   | 1.0 MB 5.1 MB/s eta 0:00:01\r\u001b[K     |████████████████████████████▋   | 1.0 MB 5.1 MB/s eta 0:00:01\r\u001b[K     |█████████████████████████████   | 1.0 MB 5.1 MB/s eta 0:00:01\r\u001b[K     |█████████████████████████████▎  | 1.0 MB 5.1 MB/s eta 0:00:01\r\u001b[K     |█████████████████████████████▌  | 1.1 MB 5.1 MB/s eta 0:00:01\r\u001b[K     |█████████████████████████████▉  | 1.1 MB 5.1 MB/s eta 0:00:01\r\u001b[K     |██████████████████████████████  | 1.1 MB 5.1 MB/s eta 0:00:01\r\u001b[K     |██████████████████████████████▍ | 1.1 MB 5.1 MB/s eta 0:00:01\r\u001b[K     |██████████████████████████████▋ | 1.1 MB 5.1 MB/s eta 0:00:01\r\u001b[K     |███████████████████████████████ | 1.1 MB 5.1 MB/s eta 0:00:01\r\u001b[K     |███████████████████████████████▎| 1.1 MB 5.1 MB/s eta 0:00:01\r\u001b[K     |███████████████████████████████▌| 1.1 MB 5.1 MB/s eta 0:00:01\r\u001b[K     |███████████████████████████████▉| 1.1 MB 5.1 MB/s eta 0:00:01\r\u001b[K     |████████████████████████████████| 1.1 MB 5.1 MB/s \n",
            "\u001b[?25h  Installing build dependencies ... \u001b[?25l\u001b[?25hdone\n",
            "  Getting requirements to build wheel ... \u001b[?25l\u001b[?25hdone\n",
            "  Installing backend dependencies ... \u001b[?25l\u001b[?25hdone\n",
            "    Preparing wheel metadata ... \u001b[?25l\u001b[?25hdone\n",
            "Requirement already satisfied: numpy in /usr/local/lib/python3.7/dist-packages (from implicit) (1.19.5)\n",
            "Requirement already satisfied: scipy>=0.16 in /usr/local/lib/python3.7/dist-packages (from implicit) (1.4.1)\n",
            "Requirement already satisfied: tqdm>=4.27 in /usr/local/lib/python3.7/dist-packages (from implicit) (4.62.3)\n",
            "Building wheels for collected packages: implicit\n",
            "  Building wheel for implicit (PEP 517) ... \u001b[?25l\u001b[?25hdone\n",
            "  Created wheel for implicit: filename=implicit-0.4.8-cp37-cp37m-linux_x86_64.whl size=4606616 sha256=e8ef8362cb844ad1428fb7e8c5c5683414c1edd0da862a966c2d895592cecb0f\n",
            "  Stored in directory: /root/.cache/pip/wheels/88/e6/34/25e73cccbaf1a961154bb562a5f86123b68fdbf40e306073d6\n",
            "Successfully built implicit\n",
            "Installing collected packages: implicit\n",
            "Successfully installed implicit-0.4.8\n"
          ]
        }
      ]
    },
    {
      "cell_type": "code",
      "metadata": {
        "colab": {
          "base_uri": "https://localhost:8080/"
        },
        "id": "Q5pEPDEsaDvC",
        "outputId": "dcf25be6-c324-4f47-9394-fe06c261cec9"
      },
      "source": [
        "from google.colab import drive\n",
        "drive.flush_and_unmount()\n",
        "drive.mount('/content/hw2')\n",
        "\n",
        "import sys\n",
        "sys.path.append('/content/hw2/MyDrive')"
      ],
      "execution_count": 2,
      "outputs": [
        {
          "output_type": "stream",
          "name": "stdout",
          "text": [
            "Drive not mounted, so nothing to flush and unmount.\n",
            "Mounted at /content/hw2\n"
          ]
        }
      ]
    },
    {
      "cell_type": "code",
      "metadata": {
        "id": "5Aur99NsC4Jm"
      },
      "source": [
        "import pandas as pd\n",
        "import numpy as np\n",
        "import matplotlib.pyplot as plt\n",
        "%matplotlib inline\n",
        "\n",
        "# Для работы с матрицами\n",
        "from scipy.sparse import csr_matrix\n",
        "\n",
        "# Матричная факторизация\n",
        "from implicit import als\n",
        "\n",
        "import os, sys\n",
        "module_path = os.path.abspath(os.path.join(os.pardir))\n",
        "if module_path not in sys.path:\n",
        "    sys.path.append(module_path)\n",
        "\n",
        "# Написанные нами функции\n",
        "from src.metrics import precision_at_k, recall_at_k\n",
        "from src.utils import prefilter_items\n",
        "from src.recommenders import MainRecommender"
      ],
      "execution_count": 3,
      "outputs": []
    },
    {
      "cell_type": "code",
      "metadata": {
        "id": "lMDbIkax4KId"
      },
      "source": [
        "def ap_k(recommended_list, bought_list, k=5):\n",
        "    bought_list = np.array(bought_list)\n",
        "    recommended_list = np.array(recommended_list)\n",
        "\n",
        "    flags = np.isin(recommended_list, bought_list)\n",
        "\n",
        "    if sum(flags) == 0:\n",
        "        return 0\n",
        "\n",
        "    sum_ = 0\n",
        "    for i in range(1, k + 1):\n",
        "\n",
        "        if flags[i - 1] == True:\n",
        "            p_k = precision_at_k(recommended_list, bought_list, k=i)\n",
        "            sum_ += p_k\n",
        "\n",
        "    result = sum_ / min(len(recommended_list), k)\n",
        "\n",
        "    return result\n",
        "\n",
        "def map_k(recommended_list, bought_list, k=5):\n",
        "    assert len(recommended_list) == len(bought_list)\n",
        "\n",
        "    sum = 0\n",
        "    for recommended, bought in zip(recommended_list, bought_list):\n",
        "        sum = sum + ap_k(recommended, bought, k)\n",
        "        \n",
        "    return sum/len(recommended_list)"
      ],
      "execution_count": 4,
      "outputs": []
    },
    {
      "cell_type": "code",
      "metadata": {
        "id": "vso_erSdC4Jo",
        "colab": {
          "base_uri": "https://localhost:8080/",
          "height": 111
        },
        "outputId": "731661a3-0b68-4fba-9150-8aa8fb6d9c23"
      },
      "source": [
        "data = pd.read_csv('/content/hw2/MyDrive/data/retail_train.csv')\n",
        "item_features = pd.read_csv('/content/hw2/MyDrive/data/product.csv')\n",
        "user_features = pd.read_csv('/content/hw2/MyDrive/data/hh_demographic.csv')\n",
        "\n",
        "# column processing\n",
        "item_features.columns = [col.lower() for col in item_features.columns]\n",
        "user_features.columns = [col.lower() for col in user_features.columns]\n",
        "\n",
        "item_features.rename(columns={'product_id': 'item_id'}, inplace=True)\n",
        "user_features.rename(columns={'household_key': 'user_id'}, inplace=True)\n",
        "\n",
        "\n",
        "# Важна схема обучения и валидации!\n",
        "# -- давние покупки -- | -- 6 недель -- | -- 3 недель -- \n",
        "# подобрать размер 2-ого датасета (6 недель) --> learning curve (зависимость метрики recall@k от размера датасета)\n",
        "val_lvl_1_size_weeks = 6\n",
        "val_lvl_2_size_weeks = 3\n",
        "\n",
        "data_train_lvl_1 = data[data['week_no'] < data['week_no'].max() - (val_lvl_1_size_weeks + val_lvl_2_size_weeks)]\n",
        "data_val_lvl_1 = data[(data['week_no'] >= data['week_no'].max() - (val_lvl_1_size_weeks + val_lvl_2_size_weeks)) &\n",
        "                      (data['week_no'] < data['week_no'].max() - (val_lvl_2_size_weeks))]\n",
        "\n",
        "data_train_lvl_2 = data_val_lvl_1.copy()  # Для наглядности. Далее мы добавим изменения, и они будут отличаться\n",
        "data_val_lvl_2 = data[data['week_no'] >= data['week_no'].max() - val_lvl_2_size_weeks]\n",
        "\n",
        "data_train_lvl_1.head(2)"
      ],
      "execution_count": 5,
      "outputs": [
        {
          "output_type": "execute_result",
          "data": {
            "text/html": [
              "<div>\n",
              "<style scoped>\n",
              "    .dataframe tbody tr th:only-of-type {\n",
              "        vertical-align: middle;\n",
              "    }\n",
              "\n",
              "    .dataframe tbody tr th {\n",
              "        vertical-align: top;\n",
              "    }\n",
              "\n",
              "    .dataframe thead th {\n",
              "        text-align: right;\n",
              "    }\n",
              "</style>\n",
              "<table border=\"1\" class=\"dataframe\">\n",
              "  <thead>\n",
              "    <tr style=\"text-align: right;\">\n",
              "      <th></th>\n",
              "      <th>user_id</th>\n",
              "      <th>basket_id</th>\n",
              "      <th>day</th>\n",
              "      <th>item_id</th>\n",
              "      <th>quantity</th>\n",
              "      <th>sales_value</th>\n",
              "      <th>store_id</th>\n",
              "      <th>retail_disc</th>\n",
              "      <th>trans_time</th>\n",
              "      <th>week_no</th>\n",
              "      <th>coupon_disc</th>\n",
              "      <th>coupon_match_disc</th>\n",
              "    </tr>\n",
              "  </thead>\n",
              "  <tbody>\n",
              "    <tr>\n",
              "      <th>0</th>\n",
              "      <td>2375</td>\n",
              "      <td>26984851472</td>\n",
              "      <td>1</td>\n",
              "      <td>1004906</td>\n",
              "      <td>1</td>\n",
              "      <td>1.39</td>\n",
              "      <td>364</td>\n",
              "      <td>-0.6</td>\n",
              "      <td>1631</td>\n",
              "      <td>1</td>\n",
              "      <td>0.0</td>\n",
              "      <td>0.0</td>\n",
              "    </tr>\n",
              "    <tr>\n",
              "      <th>1</th>\n",
              "      <td>2375</td>\n",
              "      <td>26984851472</td>\n",
              "      <td>1</td>\n",
              "      <td>1033142</td>\n",
              "      <td>1</td>\n",
              "      <td>0.82</td>\n",
              "      <td>364</td>\n",
              "      <td>0.0</td>\n",
              "      <td>1631</td>\n",
              "      <td>1</td>\n",
              "      <td>0.0</td>\n",
              "      <td>0.0</td>\n",
              "    </tr>\n",
              "  </tbody>\n",
              "</table>\n",
              "</div>"
            ],
            "text/plain": [
              "   user_id    basket_id  day  ...  week_no  coupon_disc  coupon_match_disc\n",
              "0     2375  26984851472    1  ...        1          0.0                0.0\n",
              "1     2375  26984851472    1  ...        1          0.0                0.0\n",
              "\n",
              "[2 rows x 12 columns]"
            ]
          },
          "metadata": {},
          "execution_count": 5
        }
      ]
    },
    {
      "cell_type": "code",
      "metadata": {
        "id": "zcnV3l4XC4Jp",
        "colab": {
          "base_uri": "https://localhost:8080/"
        },
        "outputId": "2d358236-6a79-4f82-c7f9-c815d614a836"
      },
      "source": [
        "n_items_before = data_train_lvl_1['item_id'].nunique()\n",
        "\n",
        "data_train_lvl_1 = prefilter_items(data_train_lvl_1, item_features=item_features, take_n_popular=10000, popularity_level=0.5, max_price=100)\n",
        "\n",
        "n_items_after = data_train_lvl_1['item_id'].nunique()\n",
        "print('Decreased # items from {} to {}'.format(n_items_before, n_items_after))"
      ],
      "execution_count": 6,
      "outputs": [
        {
          "output_type": "stream",
          "name": "stdout",
          "text": [
            "Decreased # items from 83685 to 10001\n"
          ]
        }
      ]
    },
    {
      "cell_type": "code",
      "metadata": {
        "colab": {
          "base_uri": "https://localhost:8080/",
          "height": 98,
          "referenced_widgets": [
            "c11cbba341564f9a823610de0cdb829f",
            "87377a6bfe9c4f048e07dec22931e270",
            "21c1d0985198416aa45c6b115863e67b",
            "3dbbd3176581413ca561f647cfcf851e",
            "c9534c5167a34a999c2be517311e1324",
            "89ad5a2e9b184f0aaf54dd94d0de8464",
            "bcf0e41b5f17427ca176222c188901e8",
            "59f44b2898ff48559871616a43f58f4b",
            "52be42585c9140828948d6e902002701",
            "e0dfa1fe23b14e60854300774addf1f2",
            "3ea7498df47d4a3d9a5be33cb3ee501e",
            "deb579a0f85e4c13bc9e605b19657f1b",
            "d2da526dfe264bd081e210460db99ebb",
            "c5eed816c0ab4e7f9b9d831bfda951c5",
            "61eccb93812240138fedf51177ee50b9",
            "b125280af8ff4eb2828e2e1026a5baeb",
            "e5dd1829273d4a9bbeb5e4fe4d9fee55",
            "0a00755c5fa84ed090db7c75ec2b642e",
            "8c4287f8edab4b529b5d068718eedd24",
            "ab7ef4029d7c400a8f2a1932ef089e9d",
            "ca064e3f143842428643aa7d5a81afa3",
            "27b121e119e244d1a930d0cbe46694e7"
          ]
        },
        "id": "zgYXRQ0lC4Jq",
        "outputId": "4b55a97e-c830-43b9-e4a3-be442c28ed46"
      },
      "source": [
        "recommender = MainRecommender(data_train_lvl_1, n_factors=30, iterations=30)"
      ],
      "execution_count": 7,
      "outputs": [
        {
          "output_type": "stream",
          "name": "stderr",
          "text": [
            "WARNING:root:OpenBLAS detected. Its highly recommend to set the environment variable 'export OPENBLAS_NUM_THREADS=1' to disable its internal multithreading\n"
          ]
        },
        {
          "output_type": "display_data",
          "data": {
            "application/vnd.jupyter.widget-view+json": {
              "model_id": "c11cbba341564f9a823610de0cdb829f",
              "version_minor": 0,
              "version_major": 2
            },
            "text/plain": [
              "  0%|          | 0/30 [00:00<?, ?it/s]"
            ]
          },
          "metadata": {}
        },
        {
          "output_type": "display_data",
          "data": {
            "application/vnd.jupyter.widget-view+json": {
              "model_id": "deb579a0f85e4c13bc9e605b19657f1b",
              "version_minor": 0,
              "version_major": 2
            },
            "text/plain": [
              "  0%|          | 0/10001 [00:00<?, ?it/s]"
            ]
          },
          "metadata": {}
        }
      ]
    },
    {
      "cell_type": "code",
      "metadata": {
        "id": "j4_RrPjK82eS"
      },
      "source": [
        "train_users = data_train_lvl_1['user_id'].unique()\n",
        "data_val_lvl_1 = data_val_lvl_1[data_val_lvl_1['user_id'].isin(train_users)]"
      ],
      "execution_count": 10,
      "outputs": []
    },
    {
      "cell_type": "markdown",
      "metadata": {
        "id": "EQ7e8TLJ7K7F"
      },
      "source": [
        "Считаем baseline\n"
      ]
    },
    {
      "cell_type": "code",
      "metadata": {
        "colab": {
          "base_uri": "https://localhost:8080/",
          "height": 111
        },
        "id": "g4UiP0Ie7KH9",
        "outputId": "d98ccbd1-a250-4572-d06d-847ed0a34c04"
      },
      "source": [
        "result_bsl = data_val_lvl_1.groupby('user_id')['item_id'].unique().reset_index()\n",
        "result_bsl.columns=['user_id', 'actual']\n",
        "result_bsl['candidates'] = result_bsl['user_id'].apply(lambda x: recommender.get_own_recommendations(x, N=5))\n",
        "result_bsl.head(2)"
      ],
      "execution_count": 11,
      "outputs": [
        {
          "output_type": "execute_result",
          "data": {
            "text/html": [
              "<div>\n",
              "<style scoped>\n",
              "    .dataframe tbody tr th:only-of-type {\n",
              "        vertical-align: middle;\n",
              "    }\n",
              "\n",
              "    .dataframe tbody tr th {\n",
              "        vertical-align: top;\n",
              "    }\n",
              "\n",
              "    .dataframe thead th {\n",
              "        text-align: right;\n",
              "    }\n",
              "</style>\n",
              "<table border=\"1\" class=\"dataframe\">\n",
              "  <thead>\n",
              "    <tr style=\"text-align: right;\">\n",
              "      <th></th>\n",
              "      <th>user_id</th>\n",
              "      <th>actual</th>\n",
              "      <th>candidates</th>\n",
              "    </tr>\n",
              "  </thead>\n",
              "  <tbody>\n",
              "    <tr>\n",
              "      <th>0</th>\n",
              "      <td>1</td>\n",
              "      <td>[853529, 865456, 867607, 872137, 874905, 87524...</td>\n",
              "      <td>[896666, 1087895, 856942, 877391, 5577022]</td>\n",
              "    </tr>\n",
              "    <tr>\n",
              "      <th>1</th>\n",
              "      <td>2</td>\n",
              "      <td>[15830248, 838136, 839656, 861272, 866211, 870...</td>\n",
              "      <td>[1107760, 244960, 932631, 843418, 5567582]</td>\n",
              "    </tr>\n",
              "  </tbody>\n",
              "</table>\n",
              "</div>"
            ],
            "text/plain": [
              "   user_id  ...                                  candidates\n",
              "0        1  ...  [896666, 1087895, 856942, 877391, 5577022]\n",
              "1        2  ...  [1107760, 244960, 932631, 843418, 5567582]\n",
              "\n",
              "[2 rows x 3 columns]"
            ]
          },
          "metadata": {},
          "execution_count": 11
        }
      ]
    },
    {
      "cell_type": "code",
      "metadata": {
        "colab": {
          "base_uri": "https://localhost:8080/"
        },
        "id": "akJioegm7bGD",
        "outputId": "d09306ec-743b-430c-f60b-39b6ad0a4513"
      },
      "source": [
        "map5 = 100*map_k(result_bsl['candidates'], result_bsl['actual'], 5)\n",
        "map5"
      ],
      "execution_count": 12,
      "outputs": [
        {
          "output_type": "execute_result",
          "data": {
            "text/plain": [
              "10.475437780877073"
            ]
          },
          "metadata": {},
          "execution_count": 12
        }
      ]
    },
    {
      "cell_type": "code",
      "metadata": {
        "id": "r7j7jb34VDsn"
      },
      "source": [
        "users_lvl_2 = pd.DataFrame(data_train_lvl_2['user_id'].unique())\n",
        "users_lvl_2.columns = ['user_id']\n",
        "\n",
        "# Посчитаем 75 рекомендаций для обучения модели второго уровня\n",
        "train_users = data_train_lvl_1['user_id'].unique()\n",
        "users_lvl_2 = users_lvl_2[users_lvl_2['user_id'].isin(train_users)]\n",
        "\n",
        "users_lvl_2['candidates'] = users_lvl_2['user_id'].apply(lambda x: recommender.get_own_recommendations(x, N=75))"
      ],
      "execution_count": 13,
      "outputs": []
    },
    {
      "cell_type": "code",
      "metadata": {
        "id": "QqQduGvfYpct"
      },
      "source": [
        "#Добавим расчетных данных для клиентов\n",
        "\n",
        "def add_user_features(data_set, user_features):\n",
        "\n",
        "  cols = data_set[['user_id', 'quantity', 'sales_value', 'day', 'basket_id']]\n",
        "  newdf = cols.copy()\n",
        "  # количество покупок и сумма всех покупок\n",
        "  newdf1 = newdf.groupby('user_id').agg({'quantity': 'count', 'sales_value': 'sum'})\n",
        "  # Средний чек\n",
        "  newdf1['check']=newdf1['sales_value']/newdf1['quantity']\n",
        "\n",
        "  newdf2 = newdf.groupby('user_id').agg({'day': 'count', 'quantity': 'sum', 'basket_id': 'count'})\n",
        "  # среднее количество покупок за раз\n",
        "  newdf2['avg_qnt_day'] = newdf2['quantity']/newdf2['day']\n",
        "  # частота покупок\n",
        "  newdf2['frq'] = newdf2['day']/len(data_train_lvl_1.day.unique())\n",
        "  # Среднее количество товара в корзине\n",
        "  newdf2['bsk_qnt'] = newdf2['quantity']//newdf2['basket_id']\n",
        "  newdf = newdf2.merge(newdf1, how='left', on='user_id')\n",
        "\n",
        "  cols = newdf[['avg_qnt_day', 'frq', 'sales_value', 'check', 'bsk_qnt']]\n",
        "  newdf = cols.copy()\n",
        "\n",
        "  if len(user_features.columns.intersection(newdf.columns)) > 0:\n",
        "    for user_id, row in newdf.iterrows():\n",
        "      user_features.loc[user_features['user_id'] == user_id, 'frq'] = row['frq']\n",
        "      user_features.loc[user_features['user_id'] == user_id, 'user_sales_value'] = row['sales_value']\n",
        "      user_features.loc[user_features['user_id'] == user_id, 'check'] = row['check']\n",
        "      user_features.loc[user_features['user_id'] == user_id, 'chavg_qnt_dayeck'] = row['avg_qnt_day']\n",
        "      user_features.loc[user_features['user_id'] == user_id, 'bsk_qnt'] = row['bsk_qnt']\n",
        "    return user_features\n",
        "\n",
        "  return user_features.merge(newdf, how='left', on='user_id')"
      ],
      "execution_count": 14,
      "outputs": []
    },
    {
      "cell_type": "code",
      "metadata": {
        "colab": {
          "base_uri": "https://localhost:8080/",
          "height": 111
        },
        "id": "cuM0258PY123",
        "outputId": "59d46dcc-5532-45e5-be3a-bd7a065311e5"
      },
      "source": [
        "user_features_ext = add_user_features(data_train_lvl_2, user_features)\n",
        "user_features_ext = add_user_features(data_val_lvl_2, user_features_ext)\n",
        "\n",
        "user_features_ext.head(2)"
      ],
      "execution_count": 15,
      "outputs": [
        {
          "output_type": "execute_result",
          "data": {
            "text/html": [
              "<div>\n",
              "<style scoped>\n",
              "    .dataframe tbody tr th:only-of-type {\n",
              "        vertical-align: middle;\n",
              "    }\n",
              "\n",
              "    .dataframe tbody tr th {\n",
              "        vertical-align: top;\n",
              "    }\n",
              "\n",
              "    .dataframe thead th {\n",
              "        text-align: right;\n",
              "    }\n",
              "</style>\n",
              "<table border=\"1\" class=\"dataframe\">\n",
              "  <thead>\n",
              "    <tr style=\"text-align: right;\">\n",
              "      <th></th>\n",
              "      <th>age_desc</th>\n",
              "      <th>marital_status_code</th>\n",
              "      <th>income_desc</th>\n",
              "      <th>homeowner_desc</th>\n",
              "      <th>hh_comp_desc</th>\n",
              "      <th>household_size_desc</th>\n",
              "      <th>kid_category_desc</th>\n",
              "      <th>user_id</th>\n",
              "      <th>avg_qnt_day</th>\n",
              "      <th>frq</th>\n",
              "      <th>sales_value</th>\n",
              "      <th>check</th>\n",
              "      <th>bsk_qnt</th>\n",
              "      <th>user_sales_value</th>\n",
              "      <th>chavg_qnt_dayeck</th>\n",
              "    </tr>\n",
              "  </thead>\n",
              "  <tbody>\n",
              "    <tr>\n",
              "      <th>0</th>\n",
              "      <td>65+</td>\n",
              "      <td>A</td>\n",
              "      <td>35-49K</td>\n",
              "      <td>Homeowner</td>\n",
              "      <td>2 Adults No Kids</td>\n",
              "      <td>2</td>\n",
              "      <td>None/Unknown</td>\n",
              "      <td>1</td>\n",
              "      <td>1.112782</td>\n",
              "      <td>0.138280</td>\n",
              "      <td>341.78</td>\n",
              "      <td>2.440488</td>\n",
              "      <td>1.0</td>\n",
              "      <td>200.12</td>\n",
              "      <td>1.134146</td>\n",
              "    </tr>\n",
              "    <tr>\n",
              "      <th>1</th>\n",
              "      <td>45-54</td>\n",
              "      <td>A</td>\n",
              "      <td>50-74K</td>\n",
              "      <td>Homeowner</td>\n",
              "      <td>2 Adults No Kids</td>\n",
              "      <td>2</td>\n",
              "      <td>None/Unknown</td>\n",
              "      <td>7</td>\n",
              "      <td>1.288889</td>\n",
              "      <td>0.220911</td>\n",
              "      <td>187.65</td>\n",
              "      <td>2.653130</td>\n",
              "      <td>1.0</td>\n",
              "      <td>347.56</td>\n",
              "      <td>1.259542</td>\n",
              "    </tr>\n",
              "  </tbody>\n",
              "</table>\n",
              "</div>"
            ],
            "text/plain": [
              "  age_desc marital_status_code  ... user_sales_value chavg_qnt_dayeck\n",
              "0      65+                   A  ...           200.12         1.134146\n",
              "1    45-54                   A  ...           347.56         1.259542\n",
              "\n",
              "[2 rows x 15 columns]"
            ]
          },
          "metadata": {},
          "execution_count": 15
        }
      ]
    },
    {
      "cell_type": "code",
      "metadata": {
        "id": "0hefL71vY5xn"
      },
      "source": [
        "# Добавим расчетные данные для товаров\n",
        "def add_items_features(data_set, item_features):\n",
        "  cols = data_set[['item_id', 'quantity', 'sales_value', 'week_no']]\n",
        "  newdf = cols.copy()\n",
        "\n",
        "# Сколько всего продали такого товара и на какую сумму\n",
        "  newdf1 = newdf.groupby('item_id').agg({'quantity': 'sum', 'sales_value': 'sum'})\n",
        "  newdf2 = newdf.groupby('item_id').agg({'week_no': 'count', 'quantity':'sum'})\n",
        "# Среднее количество товаров, продаваемое в неделю\n",
        "  newdf2['avg_qnt_week'] = newdf2['week_no']/newdf2['quantity']\n",
        "  newdf2.drop(['quantity', 'week_no'], axis=1, inplace=True);\n",
        "  newdf2 = newdf1.merge(newdf2, how='left', on='item_id')\n",
        "\n",
        "  if len(item_features.columns.intersection(newdf2.columns)) > 0:\n",
        "    for item_id, row in newdf2.iterrows():\n",
        "        item_features.loc[item_features['item_id'] == item_id, 'item_quantity'] = row['quantity']\n",
        "        item_features.loc[item_features['item_id'] == item_id, 'item_sales_value'] = row['sales_value']\n",
        "        item_features.loc[item_features['item_id'] == item_id, 'avg_qnt_week'] = row['avg_qnt_week']\n",
        "    return item_features\n",
        "\n",
        "  return item_features.merge(newdf2, how='left', on='item_id')"
      ],
      "execution_count": 16,
      "outputs": []
    },
    {
      "cell_type": "code",
      "metadata": {
        "colab": {
          "base_uri": "https://localhost:8080/",
          "height": 111
        },
        "id": "vgCUN7SZZEbt",
        "outputId": "76b97f60-b39f-41f4-dfe2-06bef4f85710"
      },
      "source": [
        "item_features_ext = add_items_features(data_train_lvl_2, item_features)\n",
        "item_features_ext = add_items_features(data_val_lvl_2, item_features_ext)\n",
        "\n",
        "item_features_ext.query('item_id in @data_val_lvl_2.item_id').head(2)"
      ],
      "execution_count": 17,
      "outputs": [
        {
          "output_type": "execute_result",
          "data": {
            "text/html": [
              "<div>\n",
              "<style scoped>\n",
              "    .dataframe tbody tr th:only-of-type {\n",
              "        vertical-align: middle;\n",
              "    }\n",
              "\n",
              "    .dataframe tbody tr th {\n",
              "        vertical-align: top;\n",
              "    }\n",
              "\n",
              "    .dataframe thead th {\n",
              "        text-align: right;\n",
              "    }\n",
              "</style>\n",
              "<table border=\"1\" class=\"dataframe\">\n",
              "  <thead>\n",
              "    <tr style=\"text-align: right;\">\n",
              "      <th></th>\n",
              "      <th>item_id</th>\n",
              "      <th>manufacturer</th>\n",
              "      <th>department</th>\n",
              "      <th>brand</th>\n",
              "      <th>commodity_desc</th>\n",
              "      <th>sub_commodity_desc</th>\n",
              "      <th>curr_size_of_product</th>\n",
              "      <th>quantity</th>\n",
              "      <th>sales_value</th>\n",
              "      <th>avg_qnt_week</th>\n",
              "      <th>item_quantity</th>\n",
              "      <th>item_sales_value</th>\n",
              "    </tr>\n",
              "  </thead>\n",
              "  <tbody>\n",
              "    <tr>\n",
              "      <th>107</th>\n",
              "      <td>29512</td>\n",
              "      <td>69</td>\n",
              "      <td>GROCERY</td>\n",
              "      <td>Private</td>\n",
              "      <td>CANNED JUICES</td>\n",
              "      <td>TOMATO JUICE (OVER 50% JCE)</td>\n",
              "      <td>46 OZ</td>\n",
              "      <td>NaN</td>\n",
              "      <td>NaN</td>\n",
              "      <td>1.0</td>\n",
              "      <td>1.0</td>\n",
              "      <td>0.99</td>\n",
              "    </tr>\n",
              "    <tr>\n",
              "      <th>131</th>\n",
              "      <td>30356</td>\n",
              "      <td>69</td>\n",
              "      <td>DRUG GM</td>\n",
              "      <td>Private</td>\n",
              "      <td>KITCHEN GADGETS</td>\n",
              "      <td>GADGETS/TOOLS</td>\n",
              "      <td></td>\n",
              "      <td>NaN</td>\n",
              "      <td>NaN</td>\n",
              "      <td>1.0</td>\n",
              "      <td>1.0</td>\n",
              "      <td>2.39</td>\n",
              "    </tr>\n",
              "  </tbody>\n",
              "</table>\n",
              "</div>"
            ],
            "text/plain": [
              "     item_id  manufacturer  ... item_quantity item_sales_value\n",
              "107    29512            69  ...           1.0             0.99\n",
              "131    30356            69  ...           1.0             2.39\n",
              "\n",
              "[2 rows x 12 columns]"
            ]
          },
          "metadata": {},
          "execution_count": 17
        }
      ]
    },
    {
      "cell_type": "code",
      "metadata": {
        "colab": {
          "base_uri": "https://localhost:8080/",
          "height": 390
        },
        "id": "A95VuKZJ1gB5",
        "outputId": "2b0aa213-71a4-4768-a0da-609179d9146d"
      },
      "source": [
        "feat1 = data_train_lvl_2.merge(item_features, how=\"inner\", on=\"item_id\")[['item_id', 'user_id', 'quantity', 'department', 'week_no']]\n",
        "feat = feat1.copy()\n",
        "departments = feat.groupby('department').agg({'quantity': 'sum'})\n",
        "departments = departments.sort_values('quantity', ascending=False)[:10]\n",
        "departments"
      ],
      "execution_count": 18,
      "outputs": [
        {
          "output_type": "execute_result",
          "data": {
            "text/html": [
              "<div>\n",
              "<style scoped>\n",
              "    .dataframe tbody tr th:only-of-type {\n",
              "        vertical-align: middle;\n",
              "    }\n",
              "\n",
              "    .dataframe tbody tr th {\n",
              "        vertical-align: top;\n",
              "    }\n",
              "\n",
              "    .dataframe thead th {\n",
              "        text-align: right;\n",
              "    }\n",
              "</style>\n",
              "<table border=\"1\" class=\"dataframe\">\n",
              "  <thead>\n",
              "    <tr style=\"text-align: right;\">\n",
              "      <th></th>\n",
              "      <th>quantity</th>\n",
              "    </tr>\n",
              "    <tr>\n",
              "      <th>department</th>\n",
              "      <th></th>\n",
              "    </tr>\n",
              "  </thead>\n",
              "  <tbody>\n",
              "    <tr>\n",
              "      <th>KIOSK-GAS</th>\n",
              "      <td>15267213</td>\n",
              "    </tr>\n",
              "    <tr>\n",
              "      <th>MISC SALES TRAN</th>\n",
              "      <td>2840719</td>\n",
              "    </tr>\n",
              "    <tr>\n",
              "      <th>GROCERY</th>\n",
              "      <td>147466</td>\n",
              "    </tr>\n",
              "    <tr>\n",
              "      <th>DRUG GM</th>\n",
              "      <td>23792</td>\n",
              "    </tr>\n",
              "    <tr>\n",
              "      <th>PRODUCE</th>\n",
              "      <td>18139</td>\n",
              "    </tr>\n",
              "    <tr>\n",
              "      <th>MEAT-PCKGD</th>\n",
              "      <td>8455</td>\n",
              "    </tr>\n",
              "    <tr>\n",
              "      <th>MEAT</th>\n",
              "      <td>7336</td>\n",
              "    </tr>\n",
              "    <tr>\n",
              "      <th>DELI</th>\n",
              "      <td>4131</td>\n",
              "    </tr>\n",
              "    <tr>\n",
              "      <th>PASTRY</th>\n",
              "      <td>3200</td>\n",
              "    </tr>\n",
              "    <tr>\n",
              "      <th>NUTRITION</th>\n",
              "      <td>2576</td>\n",
              "    </tr>\n",
              "  </tbody>\n",
              "</table>\n",
              "</div>"
            ],
            "text/plain": [
              "                 quantity\n",
              "department               \n",
              "KIOSK-GAS        15267213\n",
              "MISC SALES TRAN   2840719\n",
              "GROCERY            147466\n",
              "DRUG GM             23792\n",
              "PRODUCE             18139\n",
              "MEAT-PCKGD           8455\n",
              "MEAT                 7336\n",
              "DELI                 4131\n",
              "PASTRY               3200\n",
              "NUTRITION            2576"
            ]
          },
          "metadata": {},
          "execution_count": 18
        }
      ]
    },
    {
      "cell_type": "code",
      "metadata": {
        "colab": {
          "base_uri": "https://localhost:8080/"
        },
        "id": "bMIl1huSZet9",
        "outputId": "ee935cf5-3c1f-450b-c58d-b4f34b044318"
      },
      "source": [
        "# Расчет фичей покупатель/товар\n",
        "# Кол-во покупок юзером конкретной категории в неделю.\n",
        "# \n",
        "train_lvl_2 = data_train_lvl_2.copy()\n",
        "feat1 = data_train_lvl_2.merge(item_features, how=\"inner\", on=\"item_id\")[['item_id', 'user_id', 'quantity', 'department', 'week_no']]\n",
        "feat = feat1.copy()\n",
        "departments = feat.groupby('department').agg({'quantity': 'sum'})\n",
        "departments = departments.sort_values('quantity', ascending=False)[:10]\n",
        "for department in departments.index:\n",
        "  print(f'train:{department}')\n",
        "  col_name = department.replace(' ', '').replace('&', '').replace('/', '').replace('.', '').replace('-', '')\n",
        "  if col_name == '':\n",
        "    col_name = 'EMPTY'\n",
        "  dep_only=feat.query('department == @department')\n",
        "  feat1 = dep_only.groupby(['item_id', 'user_id', 'week_no']).agg({'quantity': 'sum'})\n",
        "  feat2 = dep_only.groupby(['item_id']).agg({'week_no': 'count', 'quantity': 'sum'})\n",
        "  feat1.rename(columns = {'quantity': 'avg_'+col_name}, inplace=True)\n",
        "# Среднее кол-во покупок всеми юзерами конкретной категории в неделю\n",
        "  feat2['avg_cnt_' + col_name] = feat2['quantity']/feat2['week_no']\n",
        "\n",
        "  train_lvl_2 = train_lvl_2.merge(feat1, how=\"left\", on=['item_id','user_id','week_no'])\n",
        "  for index, row in feat2.iterrows():\n",
        "# (Кол-во покупок юзером конкретной категории в неделю) / (Среднее кол-во покупок всеми юзерами конкретной категории в неделю). Категория MEAT\n",
        "    train_lvl_2['avg_by_week_' + col_name] = train_lvl_2.loc[train_lvl_2['item_id'] == index, 'avg_' + col_name]/row['avg_cnt_' + col_name]\n",
        "    train_lvl_2.loc[train_lvl_2['item_id'] == index, 'avg_cnt_'+ col_name] = row['avg_cnt_'+ col_name]\n",
        "\n",
        "\n",
        "val_lvl_2 = data_val_lvl_2.copy()\n",
        "feat1 = data_val_lvl_2.merge(item_features, how=\"inner\", on=\"item_id\")[['item_id', 'user_id', 'quantity', 'department', 'week_no']]\n",
        "feat = feat1.copy()\n",
        "departments = feat1.groupby('department').agg({'quantity': 'sum'})\n",
        "departments = departments.sort_values('quantity', ascending=False)[:10]\n",
        "for department in departments.index:\n",
        "  print(f'test:{department}')\n",
        "  col_name = department.replace(' ', '').replace('&', '').replace('/', '').replace('.', '').replace('-', '')\n",
        "  if col_name == '':\n",
        "    col_name = 'EMPTY'\n",
        "  dep_only=feat.query('department == @department')\n",
        "  feat1 = dep_only.groupby(['item_id', 'user_id', 'week_no']).agg({'quantity': 'sum'})\n",
        "  feat2 = dep_only.groupby(['item_id']).agg({'week_no': 'count', 'quantity': 'sum'})\n",
        "  feat1.rename(columns = {'quantity': 'avg_'+col_name}, inplace=True)\n",
        "# Среднее кол-во покупок всеми юзерами конкретной категории в неделю\n",
        "  feat2['avg_cnt_' + col_name] = feat2['quantity']/feat2['week_no']\n",
        "\n",
        "  val_lvl_2 = val_lvl_2.merge(feat1, how=\"left\", on=['item_id','user_id','week_no'])\n",
        "  for index, row in feat2.iterrows():\n",
        "# (Кол-во покупок юзером конкретной категории в неделю) / (Среднее кол-во покупок всеми юзерами конкретной категории в неделю). Категория MEAT\n",
        "    val_lvl_2['avg_by_week_' + col_name] = val_lvl_2.loc[val_lvl_2['item_id'] == index, 'avg_' + col_name]/row['avg_cnt_' + col_name]\n",
        "    val_lvl_2.loc[val_lvl_2['item_id'] == index, 'avg_cnt_'+ col_name] = row['avg_cnt_'+ col_name]"
      ],
      "execution_count": 19,
      "outputs": [
        {
          "output_type": "stream",
          "name": "stdout",
          "text": [
            "train:KIOSK-GAS\n",
            "train:MISC SALES TRAN\n",
            "train:GROCERY\n",
            "train:DRUG GM\n",
            "train:PRODUCE\n",
            "train:MEAT-PCKGD\n",
            "train:MEAT\n",
            "train:DELI\n",
            "train:PASTRY\n",
            "train:NUTRITION\n",
            "test:KIOSK-GAS\n",
            "test:MISC SALES TRAN\n",
            "test:GROCERY\n",
            "test:DRUG GM\n",
            "test:PRODUCE\n",
            "test:MEAT-PCKGD\n",
            "test:MEAT\n",
            "test:DELI\n",
            "test:PASTRY\n",
            "test:NUTRITION\n"
          ]
        }
      ]
    },
    {
      "cell_type": "code",
      "metadata": {
        "colab": {
          "base_uri": "https://localhost:8080/",
          "height": 173
        },
        "id": "MqnK9YWE73mQ",
        "outputId": "75091487-632b-42f3-bdde-2c6ffd0449ca"
      },
      "source": [
        "s = users_lvl_2.apply(lambda x: pd.Series(x['candidates']), axis=1).stack().reset_index(level=1, drop=True)\n",
        "s.name = 'item_id'\n",
        "\n",
        "users_lvl_2 = users_lvl_2.drop('candidates', axis=1).join(s)\n",
        "users_lvl_2['flag'] = 1\n",
        "\n",
        "users_lvl_2.head(4)"
      ],
      "execution_count": 20,
      "outputs": [
        {
          "output_type": "execute_result",
          "data": {
            "text/html": [
              "<div>\n",
              "<style scoped>\n",
              "    .dataframe tbody tr th:only-of-type {\n",
              "        vertical-align: middle;\n",
              "    }\n",
              "\n",
              "    .dataframe tbody tr th {\n",
              "        vertical-align: top;\n",
              "    }\n",
              "\n",
              "    .dataframe thead th {\n",
              "        text-align: right;\n",
              "    }\n",
              "</style>\n",
              "<table border=\"1\" class=\"dataframe\">\n",
              "  <thead>\n",
              "    <tr style=\"text-align: right;\">\n",
              "      <th></th>\n",
              "      <th>user_id</th>\n",
              "      <th>item_id</th>\n",
              "      <th>flag</th>\n",
              "    </tr>\n",
              "  </thead>\n",
              "  <tbody>\n",
              "    <tr>\n",
              "      <th>0</th>\n",
              "      <td>2070</td>\n",
              "      <td>1105426</td>\n",
              "      <td>1</td>\n",
              "    </tr>\n",
              "    <tr>\n",
              "      <th>0</th>\n",
              "      <td>2070</td>\n",
              "      <td>6442443</td>\n",
              "      <td>1</td>\n",
              "    </tr>\n",
              "    <tr>\n",
              "      <th>0</th>\n",
              "      <td>2070</td>\n",
              "      <td>879194</td>\n",
              "      <td>1</td>\n",
              "    </tr>\n",
              "    <tr>\n",
              "      <th>0</th>\n",
              "      <td>2070</td>\n",
              "      <td>12263816</td>\n",
              "      <td>1</td>\n",
              "    </tr>\n",
              "  </tbody>\n",
              "</table>\n",
              "</div>"
            ],
            "text/plain": [
              "   user_id   item_id  flag\n",
              "0     2070   1105426     1\n",
              "0     2070   6442443     1\n",
              "0     2070    879194     1\n",
              "0     2070  12263816     1"
            ]
          },
          "metadata": {},
          "execution_count": 20
        }
      ]
    },
    {
      "cell_type": "code",
      "metadata": {
        "id": "TXmM8I_wZsaG"
      },
      "source": [
        "#targets_lvl_2 = train_lvl_2[['user_id', 'item_id', 'avg_meat', 'avg_meat_by_week', 'avg_cnt']].copy()\n",
        "targets_lvl_2 = train_lvl_2.copy()\n",
        "targets_lvl_2['target'] = 1  # тут только покупки \n",
        "\n",
        "targets_lvl_2 = users_lvl_2.merge(targets_lvl_2, on=['user_id', 'item_id'], how='left')\n",
        "\n",
        "targets_lvl_2['target'].fillna(0, inplace= True)\n",
        "targets_lvl_2.drop('flag', axis=1, inplace=True)"
      ],
      "execution_count": 21,
      "outputs": []
    },
    {
      "cell_type": "code",
      "metadata": {
        "colab": {
          "base_uri": "https://localhost:8080/",
          "height": 148
        },
        "id": "G2i_3zXpZv0V",
        "outputId": "98d174c1-bfaf-460c-ef6a-d452d601d765"
      },
      "source": [
        "targets_lvl_2 = targets_lvl_2.merge(item_features_ext, on='item_id', how='left')\n",
        "targets_lvl_2 = targets_lvl_2.merge(user_features_ext, on='user_id', how='left')\n",
        "\n",
        "targets_lvl_2.head(2)"
      ],
      "execution_count": 22,
      "outputs": [
        {
          "output_type": "execute_result",
          "data": {
            "text/html": [
              "<div>\n",
              "<style scoped>\n",
              "    .dataframe tbody tr th:only-of-type {\n",
              "        vertical-align: middle;\n",
              "    }\n",
              "\n",
              "    .dataframe tbody tr th {\n",
              "        vertical-align: top;\n",
              "    }\n",
              "\n",
              "    .dataframe thead th {\n",
              "        text-align: right;\n",
              "    }\n",
              "</style>\n",
              "<table border=\"1\" class=\"dataframe\">\n",
              "  <thead>\n",
              "    <tr style=\"text-align: right;\">\n",
              "      <th></th>\n",
              "      <th>user_id</th>\n",
              "      <th>item_id</th>\n",
              "      <th>basket_id</th>\n",
              "      <th>day</th>\n",
              "      <th>quantity_x</th>\n",
              "      <th>sales_value_x</th>\n",
              "      <th>store_id</th>\n",
              "      <th>retail_disc</th>\n",
              "      <th>trans_time</th>\n",
              "      <th>week_no</th>\n",
              "      <th>coupon_disc</th>\n",
              "      <th>coupon_match_disc</th>\n",
              "      <th>avg_KIOSKGAS</th>\n",
              "      <th>avg_by_week_KIOSKGAS</th>\n",
              "      <th>avg_cnt_KIOSKGAS</th>\n",
              "      <th>avg_MISCSALESTRAN</th>\n",
              "      <th>avg_by_week_MISCSALESTRAN</th>\n",
              "      <th>avg_cnt_MISCSALESTRAN</th>\n",
              "      <th>avg_GROCERY</th>\n",
              "      <th>avg_by_week_GROCERY</th>\n",
              "      <th>avg_cnt_GROCERY</th>\n",
              "      <th>avg_DRUGGM</th>\n",
              "      <th>avg_by_week_DRUGGM</th>\n",
              "      <th>avg_cnt_DRUGGM</th>\n",
              "      <th>avg_PRODUCE</th>\n",
              "      <th>avg_by_week_PRODUCE</th>\n",
              "      <th>avg_cnt_PRODUCE</th>\n",
              "      <th>avg_MEATPCKGD</th>\n",
              "      <th>avg_by_week_MEATPCKGD</th>\n",
              "      <th>avg_cnt_MEATPCKGD</th>\n",
              "      <th>avg_MEAT</th>\n",
              "      <th>avg_by_week_MEAT</th>\n",
              "      <th>avg_cnt_MEAT</th>\n",
              "      <th>avg_DELI</th>\n",
              "      <th>avg_by_week_DELI</th>\n",
              "      <th>avg_cnt_DELI</th>\n",
              "      <th>avg_PASTRY</th>\n",
              "      <th>avg_by_week_PASTRY</th>\n",
              "      <th>avg_cnt_PASTRY</th>\n",
              "      <th>avg_NUTRITION</th>\n",
              "      <th>avg_by_week_NUTRITION</th>\n",
              "      <th>avg_cnt_NUTRITION</th>\n",
              "      <th>target</th>\n",
              "      <th>manufacturer</th>\n",
              "      <th>department</th>\n",
              "      <th>brand</th>\n",
              "      <th>commodity_desc</th>\n",
              "      <th>sub_commodity_desc</th>\n",
              "      <th>curr_size_of_product</th>\n",
              "      <th>quantity_y</th>\n",
              "      <th>sales_value_y</th>\n",
              "      <th>avg_qnt_week</th>\n",
              "      <th>item_quantity</th>\n",
              "      <th>item_sales_value</th>\n",
              "      <th>age_desc</th>\n",
              "      <th>marital_status_code</th>\n",
              "      <th>income_desc</th>\n",
              "      <th>homeowner_desc</th>\n",
              "      <th>hh_comp_desc</th>\n",
              "      <th>household_size_desc</th>\n",
              "      <th>kid_category_desc</th>\n",
              "      <th>avg_qnt_day</th>\n",
              "      <th>frq</th>\n",
              "      <th>sales_value</th>\n",
              "      <th>check</th>\n",
              "      <th>bsk_qnt</th>\n",
              "      <th>user_sales_value</th>\n",
              "      <th>chavg_qnt_dayeck</th>\n",
              "    </tr>\n",
              "  </thead>\n",
              "  <tbody>\n",
              "    <tr>\n",
              "      <th>0</th>\n",
              "      <td>2070</td>\n",
              "      <td>1105426</td>\n",
              "      <td>NaN</td>\n",
              "      <td>NaN</td>\n",
              "      <td>NaN</td>\n",
              "      <td>NaN</td>\n",
              "      <td>NaN</td>\n",
              "      <td>NaN</td>\n",
              "      <td>NaN</td>\n",
              "      <td>NaN</td>\n",
              "      <td>NaN</td>\n",
              "      <td>NaN</td>\n",
              "      <td>NaN</td>\n",
              "      <td>NaN</td>\n",
              "      <td>NaN</td>\n",
              "      <td>NaN</td>\n",
              "      <td>NaN</td>\n",
              "      <td>NaN</td>\n",
              "      <td>NaN</td>\n",
              "      <td>NaN</td>\n",
              "      <td>NaN</td>\n",
              "      <td>NaN</td>\n",
              "      <td>NaN</td>\n",
              "      <td>NaN</td>\n",
              "      <td>NaN</td>\n",
              "      <td>NaN</td>\n",
              "      <td>NaN</td>\n",
              "      <td>NaN</td>\n",
              "      <td>NaN</td>\n",
              "      <td>NaN</td>\n",
              "      <td>NaN</td>\n",
              "      <td>NaN</td>\n",
              "      <td>NaN</td>\n",
              "      <td>NaN</td>\n",
              "      <td>NaN</td>\n",
              "      <td>NaN</td>\n",
              "      <td>NaN</td>\n",
              "      <td>NaN</td>\n",
              "      <td>NaN</td>\n",
              "      <td>NaN</td>\n",
              "      <td>NaN</td>\n",
              "      <td>NaN</td>\n",
              "      <td>0.0</td>\n",
              "      <td>69</td>\n",
              "      <td>DELI</td>\n",
              "      <td>Private</td>\n",
              "      <td>SANDWICHES</td>\n",
              "      <td>SANDWICHES - (COLD)</td>\n",
              "      <td></td>\n",
              "      <td>5.0</td>\n",
              "      <td>19.95</td>\n",
              "      <td>0.8</td>\n",
              "      <td>5.0</td>\n",
              "      <td>17.96</td>\n",
              "      <td>45-54</td>\n",
              "      <td>U</td>\n",
              "      <td>50-74K</td>\n",
              "      <td>Unknown</td>\n",
              "      <td>Unknown</td>\n",
              "      <td>1</td>\n",
              "      <td>None/Unknown</td>\n",
              "      <td>86.029412</td>\n",
              "      <td>0.706577</td>\n",
              "      <td>617.29</td>\n",
              "      <td>2.928401</td>\n",
              "      <td>26.0</td>\n",
              "      <td>1227.0</td>\n",
              "      <td>26.00716</td>\n",
              "    </tr>\n",
              "    <tr>\n",
              "      <th>1</th>\n",
              "      <td>2070</td>\n",
              "      <td>6442443</td>\n",
              "      <td>NaN</td>\n",
              "      <td>NaN</td>\n",
              "      <td>NaN</td>\n",
              "      <td>NaN</td>\n",
              "      <td>NaN</td>\n",
              "      <td>NaN</td>\n",
              "      <td>NaN</td>\n",
              "      <td>NaN</td>\n",
              "      <td>NaN</td>\n",
              "      <td>NaN</td>\n",
              "      <td>NaN</td>\n",
              "      <td>NaN</td>\n",
              "      <td>NaN</td>\n",
              "      <td>NaN</td>\n",
              "      <td>NaN</td>\n",
              "      <td>NaN</td>\n",
              "      <td>NaN</td>\n",
              "      <td>NaN</td>\n",
              "      <td>NaN</td>\n",
              "      <td>NaN</td>\n",
              "      <td>NaN</td>\n",
              "      <td>NaN</td>\n",
              "      <td>NaN</td>\n",
              "      <td>NaN</td>\n",
              "      <td>NaN</td>\n",
              "      <td>NaN</td>\n",
              "      <td>NaN</td>\n",
              "      <td>NaN</td>\n",
              "      <td>NaN</td>\n",
              "      <td>NaN</td>\n",
              "      <td>NaN</td>\n",
              "      <td>NaN</td>\n",
              "      <td>NaN</td>\n",
              "      <td>NaN</td>\n",
              "      <td>NaN</td>\n",
              "      <td>NaN</td>\n",
              "      <td>NaN</td>\n",
              "      <td>NaN</td>\n",
              "      <td>NaN</td>\n",
              "      <td>NaN</td>\n",
              "      <td>0.0</td>\n",
              "      <td>378</td>\n",
              "      <td>GROCERY</td>\n",
              "      <td>National</td>\n",
              "      <td>BAG SNACKS</td>\n",
              "      <td>POTATO CHIPS</td>\n",
              "      <td>10 OZ</td>\n",
              "      <td>6.0</td>\n",
              "      <td>15.00</td>\n",
              "      <td>1.0</td>\n",
              "      <td>5.0</td>\n",
              "      <td>12.50</td>\n",
              "      <td>45-54</td>\n",
              "      <td>U</td>\n",
              "      <td>50-74K</td>\n",
              "      <td>Unknown</td>\n",
              "      <td>Unknown</td>\n",
              "      <td>1</td>\n",
              "      <td>None/Unknown</td>\n",
              "      <td>86.029412</td>\n",
              "      <td>0.706577</td>\n",
              "      <td>617.29</td>\n",
              "      <td>2.928401</td>\n",
              "      <td>26.0</td>\n",
              "      <td>1227.0</td>\n",
              "      <td>26.00716</td>\n",
              "    </tr>\n",
              "  </tbody>\n",
              "</table>\n",
              "</div>"
            ],
            "text/plain": [
              "   user_id  item_id  basket_id  ...  bsk_qnt  user_sales_value  chavg_qnt_dayeck\n",
              "0     2070  1105426        NaN  ...     26.0            1227.0          26.00716\n",
              "1     2070  6442443        NaN  ...     26.0            1227.0          26.00716\n",
              "\n",
              "[2 rows x 68 columns]"
            ]
          },
          "metadata": {},
          "execution_count": 22
        }
      ]
    },
    {
      "cell_type": "code",
      "metadata": {
        "id": "feIsUHnoZziV"
      },
      "source": [
        "X_train = targets_lvl_2.drop('target', axis=1)\n",
        "y_train = targets_lvl_2[['target']]"
      ],
      "execution_count": 23,
      "outputs": []
    },
    {
      "cell_type": "code",
      "metadata": {
        "id": "gdwplvHdZ0DF"
      },
      "source": [
        "cat_feats = X_train.columns[2:].tolist()\n",
        "X_train[cat_feats] = X_train[cat_feats].astype('category')"
      ],
      "execution_count": 24,
      "outputs": []
    },
    {
      "cell_type": "code",
      "metadata": {
        "id": "XhUa0AYmaCCe"
      },
      "source": [
        "# Модель второго уровня\n",
        "from lightgbm import LGBMClassifier"
      ],
      "execution_count": 25,
      "outputs": []
    },
    {
      "cell_type": "code",
      "metadata": {
        "colab": {
          "base_uri": "https://localhost:8080/"
        },
        "id": "5Yn3eKuPZ85l",
        "outputId": "9058832a-5521-4636-abaa-8e54c8c8a97e"
      },
      "source": [
        "lgb = LGBMClassifier(objective='binary', max_depth=7, categorical_column=cat_feats)\n",
        "lgb.fit(X_train, y_train)\n",
        "\n",
        "train_preds = lgb.predict(X_train)"
      ],
      "execution_count": 26,
      "outputs": [
        {
          "output_type": "stream",
          "name": "stderr",
          "text": [
            "/usr/local/lib/python3.7/dist-packages/sklearn/preprocessing/_label.py:235: DataConversionWarning: A column-vector y was passed when a 1d array was expected. Please change the shape of y to (n_samples, ), for example using ravel().\n",
            "  y = column_or_1d(y, warn=True)\n",
            "/usr/local/lib/python3.7/dist-packages/sklearn/preprocessing/_label.py:268: DataConversionWarning: A column-vector y was passed when a 1d array was expected. Please change the shape of y to (n_samples, ), for example using ravel().\n",
            "  y = column_or_1d(y, warn=True)\n",
            "/usr/local/lib/python3.7/dist-packages/lightgbm/basic.py:762: UserWarning: categorical_feature in param dict is overridden.\n",
            "  warnings.warn('categorical_feature in param dict is overridden.')\n"
          ]
        }
      ]
    },
    {
      "cell_type": "code",
      "metadata": {
        "id": "rXRPGsbGbgPW"
      },
      "source": [
        "#add_featues_lvl_2 = val_lvl_2[['user_id', 'item_id', 'avg_meat', 'avg_meat_by_week', 'avg_cnt']].copy()\n",
        "add_featues_lvl_2 = val_lvl_2.copy()"
      ],
      "execution_count": 27,
      "outputs": []
    },
    {
      "cell_type": "code",
      "metadata": {
        "id": "j8J8g1bbIJ9w"
      },
      "source": [
        "users_lvl_2_val = pd.DataFrame(val_lvl_2['user_id'].unique())\n",
        "users_lvl_2_val.columns = ['user_id']\n",
        "\n",
        "# Пока только warm start\n",
        "train_users = data_train_lvl_1['user_id'].unique()\n",
        "users_lvl_2_val = users_lvl_2_val[users_lvl_2_val['user_id'].isin(train_users)]\n",
        "\n",
        "users_lvl_2_val['candidates'] = users_lvl_2_val['user_id'].apply(lambda x: recommender.get_own_recommendations(x, N=50))"
      ],
      "execution_count": 28,
      "outputs": []
    },
    {
      "cell_type": "code",
      "metadata": {
        "colab": {
          "base_uri": "https://localhost:8080/",
          "height": 173
        },
        "id": "3x454uNkcmHt",
        "outputId": "ce98c9f3-3400-4003-e6ab-3202ad91ffca"
      },
      "source": [
        "s = users_lvl_2_val.apply(lambda x: pd.Series(x['candidates']), axis=1).stack().reset_index(level=1, drop=True)\n",
        "s.name = 'item_id'\n",
        "\n",
        "users_lvl_2_val = users_lvl_2_val.drop('candidates', axis=1).join(s)\n",
        "\n",
        "users_lvl_2_val.head(4)"
      ],
      "execution_count": 29,
      "outputs": [
        {
          "output_type": "execute_result",
          "data": {
            "text/html": [
              "<div>\n",
              "<style scoped>\n",
              "    .dataframe tbody tr th:only-of-type {\n",
              "        vertical-align: middle;\n",
              "    }\n",
              "\n",
              "    .dataframe tbody tr th {\n",
              "        vertical-align: top;\n",
              "    }\n",
              "\n",
              "    .dataframe thead th {\n",
              "        text-align: right;\n",
              "    }\n",
              "</style>\n",
              "<table border=\"1\" class=\"dataframe\">\n",
              "  <thead>\n",
              "    <tr style=\"text-align: right;\">\n",
              "      <th></th>\n",
              "      <th>user_id</th>\n",
              "      <th>item_id</th>\n",
              "    </tr>\n",
              "  </thead>\n",
              "  <tbody>\n",
              "    <tr>\n",
              "      <th>0</th>\n",
              "      <td>338</td>\n",
              "      <td>876626</td>\n",
              "    </tr>\n",
              "    <tr>\n",
              "      <th>0</th>\n",
              "      <td>338</td>\n",
              "      <td>13002975</td>\n",
              "    </tr>\n",
              "    <tr>\n",
              "      <th>0</th>\n",
              "      <td>338</td>\n",
              "      <td>938165</td>\n",
              "    </tr>\n",
              "    <tr>\n",
              "      <th>0</th>\n",
              "      <td>338</td>\n",
              "      <td>939860</td>\n",
              "    </tr>\n",
              "  </tbody>\n",
              "</table>\n",
              "</div>"
            ],
            "text/plain": [
              "   user_id   item_id\n",
              "0      338    876626\n",
              "0      338  13002975\n",
              "0      338    938165\n",
              "0      338    939860"
            ]
          },
          "metadata": {},
          "execution_count": 29
        }
      ]
    },
    {
      "cell_type": "code",
      "metadata": {
        "id": "GvSpeZ-4cqK1"
      },
      "source": [
        "users_lvl_2_val_ext = users_lvl_2_val.merge(add_featues_lvl_2, how=\"left\", on=['user_id', \"item_id\"])"
      ],
      "execution_count": 30,
      "outputs": []
    },
    {
      "cell_type": "code",
      "metadata": {
        "colab": {
          "base_uri": "https://localhost:8080/",
          "height": 148
        },
        "id": "grwemxuUfFms",
        "outputId": "8eb28af3-d69c-4586-e1a1-76c116a76c63"
      },
      "source": [
        "pred_2 = users_lvl_2_val_ext.merge(user_features_ext, how=\"left\", on=\"user_id\")\n",
        "pred_2 = pred_2.merge(item_features_ext, how=\"left\", on=\"item_id\")\n",
        "\n",
        "pred_2.head(2)"
      ],
      "execution_count": 31,
      "outputs": [
        {
          "output_type": "execute_result",
          "data": {
            "text/html": [
              "<div>\n",
              "<style scoped>\n",
              "    .dataframe tbody tr th:only-of-type {\n",
              "        vertical-align: middle;\n",
              "    }\n",
              "\n",
              "    .dataframe tbody tr th {\n",
              "        vertical-align: top;\n",
              "    }\n",
              "\n",
              "    .dataframe thead th {\n",
              "        text-align: right;\n",
              "    }\n",
              "</style>\n",
              "<table border=\"1\" class=\"dataframe\">\n",
              "  <thead>\n",
              "    <tr style=\"text-align: right;\">\n",
              "      <th></th>\n",
              "      <th>user_id</th>\n",
              "      <th>item_id</th>\n",
              "      <th>basket_id</th>\n",
              "      <th>day</th>\n",
              "      <th>quantity_x</th>\n",
              "      <th>sales_value_x</th>\n",
              "      <th>store_id</th>\n",
              "      <th>retail_disc</th>\n",
              "      <th>trans_time</th>\n",
              "      <th>week_no</th>\n",
              "      <th>coupon_disc</th>\n",
              "      <th>coupon_match_disc</th>\n",
              "      <th>avg_KIOSKGAS</th>\n",
              "      <th>avg_by_week_KIOSKGAS</th>\n",
              "      <th>avg_cnt_KIOSKGAS</th>\n",
              "      <th>avg_MISCSALESTRAN</th>\n",
              "      <th>avg_by_week_MISCSALESTRAN</th>\n",
              "      <th>avg_cnt_MISCSALESTRAN</th>\n",
              "      <th>avg_GROCERY</th>\n",
              "      <th>avg_by_week_GROCERY</th>\n",
              "      <th>avg_cnt_GROCERY</th>\n",
              "      <th>avg_DRUGGM</th>\n",
              "      <th>avg_by_week_DRUGGM</th>\n",
              "      <th>avg_cnt_DRUGGM</th>\n",
              "      <th>avg_PRODUCE</th>\n",
              "      <th>avg_by_week_PRODUCE</th>\n",
              "      <th>avg_cnt_PRODUCE</th>\n",
              "      <th>avg_MEATPCKGD</th>\n",
              "      <th>avg_by_week_MEATPCKGD</th>\n",
              "      <th>avg_cnt_MEATPCKGD</th>\n",
              "      <th>avg_MEAT</th>\n",
              "      <th>avg_by_week_MEAT</th>\n",
              "      <th>avg_cnt_MEAT</th>\n",
              "      <th>avg_DELI</th>\n",
              "      <th>avg_by_week_DELI</th>\n",
              "      <th>avg_cnt_DELI</th>\n",
              "      <th>avg_PASTRY</th>\n",
              "      <th>avg_by_week_PASTRY</th>\n",
              "      <th>avg_cnt_PASTRY</th>\n",
              "      <th>avg_NUTRITION</th>\n",
              "      <th>avg_by_week_NUTRITION</th>\n",
              "      <th>avg_cnt_NUTRITION</th>\n",
              "      <th>age_desc</th>\n",
              "      <th>marital_status_code</th>\n",
              "      <th>income_desc</th>\n",
              "      <th>homeowner_desc</th>\n",
              "      <th>hh_comp_desc</th>\n",
              "      <th>household_size_desc</th>\n",
              "      <th>kid_category_desc</th>\n",
              "      <th>avg_qnt_day</th>\n",
              "      <th>frq</th>\n",
              "      <th>sales_value_y</th>\n",
              "      <th>check</th>\n",
              "      <th>bsk_qnt</th>\n",
              "      <th>user_sales_value</th>\n",
              "      <th>chavg_qnt_dayeck</th>\n",
              "      <th>manufacturer</th>\n",
              "      <th>department</th>\n",
              "      <th>brand</th>\n",
              "      <th>commodity_desc</th>\n",
              "      <th>sub_commodity_desc</th>\n",
              "      <th>curr_size_of_product</th>\n",
              "      <th>quantity_y</th>\n",
              "      <th>sales_value</th>\n",
              "      <th>avg_qnt_week</th>\n",
              "      <th>item_quantity</th>\n",
              "      <th>item_sales_value</th>\n",
              "    </tr>\n",
              "  </thead>\n",
              "  <tbody>\n",
              "    <tr>\n",
              "      <th>0</th>\n",
              "      <td>338</td>\n",
              "      <td>876626</td>\n",
              "      <td>NaN</td>\n",
              "      <td>NaN</td>\n",
              "      <td>NaN</td>\n",
              "      <td>NaN</td>\n",
              "      <td>NaN</td>\n",
              "      <td>NaN</td>\n",
              "      <td>NaN</td>\n",
              "      <td>NaN</td>\n",
              "      <td>NaN</td>\n",
              "      <td>NaN</td>\n",
              "      <td>NaN</td>\n",
              "      <td>NaN</td>\n",
              "      <td>NaN</td>\n",
              "      <td>NaN</td>\n",
              "      <td>NaN</td>\n",
              "      <td>NaN</td>\n",
              "      <td>NaN</td>\n",
              "      <td>NaN</td>\n",
              "      <td>NaN</td>\n",
              "      <td>NaN</td>\n",
              "      <td>NaN</td>\n",
              "      <td>NaN</td>\n",
              "      <td>NaN</td>\n",
              "      <td>NaN</td>\n",
              "      <td>NaN</td>\n",
              "      <td>NaN</td>\n",
              "      <td>NaN</td>\n",
              "      <td>NaN</td>\n",
              "      <td>NaN</td>\n",
              "      <td>NaN</td>\n",
              "      <td>NaN</td>\n",
              "      <td>NaN</td>\n",
              "      <td>NaN</td>\n",
              "      <td>NaN</td>\n",
              "      <td>NaN</td>\n",
              "      <td>NaN</td>\n",
              "      <td>NaN</td>\n",
              "      <td>NaN</td>\n",
              "      <td>NaN</td>\n",
              "      <td>NaN</td>\n",
              "      <td>NaN</td>\n",
              "      <td>NaN</td>\n",
              "      <td>NaN</td>\n",
              "      <td>NaN</td>\n",
              "      <td>NaN</td>\n",
              "      <td>NaN</td>\n",
              "      <td>NaN</td>\n",
              "      <td>NaN</td>\n",
              "      <td>NaN</td>\n",
              "      <td>NaN</td>\n",
              "      <td>NaN</td>\n",
              "      <td>NaN</td>\n",
              "      <td>NaN</td>\n",
              "      <td>NaN</td>\n",
              "      <td>2382</td>\n",
              "      <td>GROCERY</td>\n",
              "      <td>National</td>\n",
              "      <td>DOMESTIC WINE</td>\n",
              "      <td>PREMIUM 750ML WINES</td>\n",
              "      <td>750 ML</td>\n",
              "      <td>9.0</td>\n",
              "      <td>80.91</td>\n",
              "      <td>0.333333</td>\n",
              "      <td>NaN</td>\n",
              "      <td>NaN</td>\n",
              "    </tr>\n",
              "    <tr>\n",
              "      <th>1</th>\n",
              "      <td>338</td>\n",
              "      <td>13002975</td>\n",
              "      <td>4.156028e+10</td>\n",
              "      <td>656.0</td>\n",
              "      <td>1.0</td>\n",
              "      <td>3.04</td>\n",
              "      <td>339.0</td>\n",
              "      <td>-0.61</td>\n",
              "      <td>2023.0</td>\n",
              "      <td>94.0</td>\n",
              "      <td>0.0</td>\n",
              "      <td>0.0</td>\n",
              "      <td>NaN</td>\n",
              "      <td>NaN</td>\n",
              "      <td>NaN</td>\n",
              "      <td>NaN</td>\n",
              "      <td>NaN</td>\n",
              "      <td>NaN</td>\n",
              "      <td>NaN</td>\n",
              "      <td>NaN</td>\n",
              "      <td>NaN</td>\n",
              "      <td>NaN</td>\n",
              "      <td>NaN</td>\n",
              "      <td>NaN</td>\n",
              "      <td>NaN</td>\n",
              "      <td>NaN</td>\n",
              "      <td>NaN</td>\n",
              "      <td>NaN</td>\n",
              "      <td>NaN</td>\n",
              "      <td>NaN</td>\n",
              "      <td>1.0</td>\n",
              "      <td>NaN</td>\n",
              "      <td>1.428571</td>\n",
              "      <td>NaN</td>\n",
              "      <td>NaN</td>\n",
              "      <td>NaN</td>\n",
              "      <td>NaN</td>\n",
              "      <td>NaN</td>\n",
              "      <td>NaN</td>\n",
              "      <td>NaN</td>\n",
              "      <td>NaN</td>\n",
              "      <td>NaN</td>\n",
              "      <td>NaN</td>\n",
              "      <td>NaN</td>\n",
              "      <td>NaN</td>\n",
              "      <td>NaN</td>\n",
              "      <td>NaN</td>\n",
              "      <td>NaN</td>\n",
              "      <td>NaN</td>\n",
              "      <td>NaN</td>\n",
              "      <td>NaN</td>\n",
              "      <td>NaN</td>\n",
              "      <td>NaN</td>\n",
              "      <td>NaN</td>\n",
              "      <td>NaN</td>\n",
              "      <td>NaN</td>\n",
              "      <td>2843</td>\n",
              "      <td>MEAT</td>\n",
              "      <td>National</td>\n",
              "      <td>BEEF</td>\n",
              "      <td>RIBS</td>\n",
              "      <td></td>\n",
              "      <td>9.0</td>\n",
              "      <td>35.78</td>\n",
              "      <td>0.700000</td>\n",
              "      <td>10.0</td>\n",
              "      <td>38.58</td>\n",
              "    </tr>\n",
              "  </tbody>\n",
              "</table>\n",
              "</div>"
            ],
            "text/plain": [
              "   user_id   item_id  ...  item_quantity  item_sales_value\n",
              "0      338    876626  ...            NaN               NaN\n",
              "1      338  13002975  ...           10.0             38.58\n",
              "\n",
              "[2 rows x 67 columns]"
            ]
          },
          "metadata": {},
          "execution_count": 31
        }
      ]
    },
    {
      "cell_type": "code",
      "metadata": {
        "id": "OHyn-6gmfBSt"
      },
      "source": [
        "X_val = pred_2\n",
        "cat_feats = X_val.columns[2:].tolist()\n",
        "X_val[cat_feats] = X_val[cat_feats].astype('category')"
      ],
      "execution_count": 32,
      "outputs": []
    },
    {
      "cell_type": "code",
      "metadata": {
        "id": "0akCrb7kfLC9"
      },
      "source": [
        "pred_2['proba'] = lgb.predict_proba(X_val)[:,1]"
      ],
      "execution_count": 33,
      "outputs": []
    },
    {
      "cell_type": "code",
      "metadata": {
        "id": "zZQzledBfSf8"
      },
      "source": [
        "recomendations = pred_2[[\"user_id\", \"item_id\", \"proba\"]]"
      ],
      "execution_count": 34,
      "outputs": []
    },
    {
      "cell_type": "code",
      "metadata": {
        "id": "YQ6FBT5IfWKd"
      },
      "source": [
        "lgbm_val = pd.DataFrame(recomendations.sort_values(['user_id', 'proba'], ascending=False).groupby('user_id').apply(lambda x: x['item_id'].iloc[:5].values)).rename(columns={0:'lgbm'})"
      ],
      "execution_count": 35,
      "outputs": []
    },
    {
      "cell_type": "code",
      "metadata": {
        "id": "ELbSMPWFf0ME"
      },
      "source": [
        "val_actual = pd.DataFrame(data_val_lvl_2.groupby('user_id')['item_id'].unique()).rename(columns={'item_id': 'actual'}).reset_index()"
      ],
      "execution_count": 36,
      "outputs": []
    },
    {
      "cell_type": "code",
      "metadata": {
        "id": "3dSngjoTf3An"
      },
      "source": [
        "total_val = lgbm_val.merge(val_actual, how='left', on='user_id')"
      ],
      "execution_count": 37,
      "outputs": []
    },
    {
      "cell_type": "code",
      "metadata": {
        "colab": {
          "base_uri": "https://localhost:8080/",
          "height": 111
        },
        "id": "H9oYaBOXgVF9",
        "outputId": "8445536d-fb19-4cff-ac40-a9a6f8fd381e"
      },
      "source": [
        "total_val.head(2)"
      ],
      "execution_count": 38,
      "outputs": [
        {
          "output_type": "execute_result",
          "data": {
            "text/html": [
              "<div>\n",
              "<style scoped>\n",
              "    .dataframe tbody tr th:only-of-type {\n",
              "        vertical-align: middle;\n",
              "    }\n",
              "\n",
              "    .dataframe tbody tr th {\n",
              "        vertical-align: top;\n",
              "    }\n",
              "\n",
              "    .dataframe thead th {\n",
              "        text-align: right;\n",
              "    }\n",
              "</style>\n",
              "<table border=\"1\" class=\"dataframe\">\n",
              "  <thead>\n",
              "    <tr style=\"text-align: right;\">\n",
              "      <th></th>\n",
              "      <th>user_id</th>\n",
              "      <th>lgbm</th>\n",
              "      <th>actual</th>\n",
              "    </tr>\n",
              "  </thead>\n",
              "  <tbody>\n",
              "    <tr>\n",
              "      <th>0</th>\n",
              "      <td>1</td>\n",
              "      <td>[9677939, 8293439, 8293439, 8091601, 856942]</td>\n",
              "      <td>[821867, 834484, 856942, 865456, 889248, 90795...</td>\n",
              "    </tr>\n",
              "    <tr>\n",
              "      <th>1</th>\n",
              "      <td>3</td>\n",
              "      <td>[1092937, 13842217, 1083856, 1085778, 1084551]</td>\n",
              "      <td>[835476, 851057, 872021, 878302, 879948, 90963...</td>\n",
              "    </tr>\n",
              "  </tbody>\n",
              "</table>\n",
              "</div>"
            ],
            "text/plain": [
              "   user_id  ...                                             actual\n",
              "0        1  ...  [821867, 834484, 856942, 865456, 889248, 90795...\n",
              "1        3  ...  [835476, 851057, 872021, 878302, 879948, 90963...\n",
              "\n",
              "[2 rows x 3 columns]"
            ]
          },
          "metadata": {},
          "execution_count": 38
        }
      ]
    },
    {
      "cell_type": "markdown",
      "metadata": {
        "id": "Vvz0SSAfnVjV"
      },
      "source": [
        "Посчитаем метрику для валидационной выборки"
      ]
    },
    {
      "cell_type": "code",
      "metadata": {
        "colab": {
          "base_uri": "https://localhost:8080/"
        },
        "id": "zWZiWzGdgG0k",
        "outputId": "84bf652d-820f-41a6-e938-e8ef8900674f"
      },
      "source": [
        "map5 = 100*map_k(total_val['lgbm'], total_val['actual'])\n",
        "map5"
      ],
      "execution_count": 39,
      "outputs": [
        {
          "output_type": "execute_result",
          "data": {
            "text/plain": [
              "36.74787581699343"
            ]
          },
          "metadata": {},
          "execution_count": 39
        }
      ]
    },
    {
      "cell_type": "code",
      "metadata": {
        "id": "yRAK39Gk_66w"
      },
      "source": [
        "def transform_data_for_eval(dataset, rec_col, user_col='user_id'):\n",
        "    '''\n",
        "    Func for transforming recommendations into kaggle evaluation format\n",
        "\n",
        "    Parameters:\n",
        "    dataset (pd.DataFrame): Dataset with 2 required columns:\n",
        "        rec_col - column with recommendations should be iterable\n",
        "        user_col - columns with user id\n",
        "\n",
        "    rec_col (str): name of column in dataset with recommendations\n",
        "\n",
        "    user_col (str): name of column in dataset with user id\n",
        "\n",
        "    Returns:\n",
        "    pd.DataFrame: DataFrame in suitable format\n",
        "\n",
        "   '''\n",
        "    eval_dataset = dataset[[user_col, rec_col]].copy()\n",
        "    eval_dataset[rec_col] = eval_dataset[rec_col].apply(lambda x: ' '.join([str(i) for i in x]))\n",
        "    eval_dataset.rename(columns={\n",
        "        user_col: 'UserId',\n",
        "        rec_col: 'Predicted'\n",
        "    }, inplace=True)\n",
        "    return eval_dataset"
      ],
      "execution_count": 40,
      "outputs": []
    },
    {
      "cell_type": "code",
      "metadata": {
        "id": "yab3zPmCJXo4"
      },
      "source": [
        "out.to_csv('/content/hw2/MyDrive/data/result.csv', index = False)"
      ],
      "execution_count": null,
      "outputs": []
    },
    {
      "cell_type": "code",
      "metadata": {
        "id": "V_eAn3NbM8PE"
      },
      "source": [
        "test_users = pd.read_csv('/content/hw2/MyDrive/data/test_users.csv')"
      ],
      "execution_count": 41,
      "outputs": []
    },
    {
      "cell_type": "code",
      "metadata": {
        "id": "E8X-Hx6zGyCf"
      },
      "source": [
        "userids = test_users.user_id.to_list()"
      ],
      "execution_count": 42,
      "outputs": []
    },
    {
      "cell_type": "code",
      "metadata": {
        "id": "c2fGqXb0PTWl"
      },
      "source": [
        "data_test = data.query('user_id in @userids')"
      ],
      "execution_count": 44,
      "outputs": []
    },
    {
      "cell_type": "code",
      "metadata": {
        "colab": {
          "base_uri": "https://localhost:8080/"
        },
        "id": "8wEnc5FdPTJR",
        "outputId": "32e46534-f9f7-4ab7-8a67-72cc9aedeb23"
      },
      "source": [
        "feat1 = data_test.merge(item_features, how=\"inner\", on=\"item_id\")[['item_id', 'user_id', 'quantity', 'department', 'week_no']]\n",
        "feat = feat1.copy()\n",
        "departments = feat1.groupby('department').agg({'quantity': 'sum'})\n",
        "departments = departments.sort_values('quantity', ascending=False)[:10]\n",
        "for department in departments.index:\n",
        "  print(f'test:{department}')\n",
        "  col_name = department.replace(' ', '').replace('&', '').replace('/', '').replace('.', '').replace('-', '')\n",
        "  if col_name == '':\n",
        "    col_name = 'EMPTY'\n",
        "  dep_only=feat.query('department == @department')\n",
        "  feat1 = dep_only.groupby(['item_id', 'user_id', 'week_no']).agg({'quantity': 'sum'})\n",
        "  feat2 = dep_only.groupby(['item_id']).agg({'week_no': 'count', 'quantity': 'sum'})\n",
        "  feat1.rename(columns = {'quantity': 'avg_'+col_name}, inplace=True)\n",
        "# Среднее кол-во покупок всеми юзерами конкретной категории в неделю\n",
        "  feat2['avg_cnt_' + col_name] = feat2['quantity']/feat2['week_no']\n",
        "\n",
        "  data_test = data_test.merge(feat1, how=\"left\", on=['item_id','user_id','week_no'])\n",
        "  for index, row in feat2.iterrows():\n",
        "# (Кол-во покупок юзером конкретной категории в неделю) / (Среднее кол-во покупок всеми юзерами конкретной категории в неделю). Категория MEAT\n",
        "    data_test['avg_by_week_' + col_name] = data_test.loc[data_test['item_id'] == index, 'avg_' + col_name]/row['avg_cnt_' + col_name]\n",
        "    data_test.loc[data_test['item_id'] == index, 'avg_cnt_'+ col_name] = row['avg_cnt_'+ col_name]"
      ],
      "execution_count": 45,
      "outputs": [
        {
          "output_type": "stream",
          "name": "stdout",
          "text": [
            "test:KIOSK-GAS\n",
            "test:MISC SALES TRAN\n",
            "test:GROCERY\n",
            "test:DRUG GM\n",
            "test:PRODUCE\n",
            "test:MEAT-PCKGD\n",
            "test:MEAT\n",
            "test:DELI\n",
            "test:PASTRY\n",
            "test:NUTRITION\n"
          ]
        }
      ]
    },
    {
      "cell_type": "code",
      "metadata": {
        "id": "cjj-lGntPTA2"
      },
      "source": [
        "pred_test = data_test.merge(user_features_ext, how=\"left\", on=\"user_id\")\n",
        "pred_test = pred_test.merge(item_features_ext, how=\"left\", on=\"item_id\")"
      ],
      "execution_count": 49,
      "outputs": []
    },
    {
      "cell_type": "code",
      "metadata": {
        "id": "qESlLyX-QQig"
      },
      "source": [
        "X_test = pred_test\n",
        "cat_feats = X_test.columns[2:].tolist()\n",
        "X_test[cat_feats] = X_test[cat_feats].astype('category')"
      ],
      "execution_count": 50,
      "outputs": []
    },
    {
      "cell_type": "code",
      "metadata": {
        "id": "7YehTRF4K4wM"
      },
      "source": [
        "pred_test = lgb.predict_proba(X_test)[:,1]"
      ],
      "execution_count": 51,
      "outputs": []
    },
    {
      "cell_type": "code",
      "metadata": {
        "id": "3BXLblEoL8ik"
      },
      "source": [
        "pred_result = pd.DataFrame()\n",
        "pred_result['proba'] = pred_test\n",
        "pred_result['item_id'] = X_test['item_id']\n",
        "pred_result['user_id'] = X_test['user_id']"
      ],
      "execution_count": 52,
      "outputs": []
    },
    {
      "cell_type": "code",
      "metadata": {
        "id": "o88unISNMyEz"
      },
      "source": [
        "lgbm_val = pd.DataFrame(pred_result.sort_values(['user_id', 'proba'], ascending=False).groupby('user_id').apply(lambda x: x['item_id'].iloc[:5].values)).rename(columns={0:'lgbm'})"
      ],
      "execution_count": 53,
      "outputs": []
    },
    {
      "cell_type": "code",
      "metadata": {
        "colab": {
          "base_uri": "https://localhost:8080/",
          "height": 450
        },
        "id": "6Ly4pEHbddEk",
        "outputId": "e31a0d33-836e-438d-829b-02cf7fc85af0"
      },
      "source": [
        "lgbm_val"
      ],
      "execution_count": 54,
      "outputs": [
        {
          "output_type": "execute_result",
          "data": {
            "text/html": [
              "<div>\n",
              "<style scoped>\n",
              "    .dataframe tbody tr th:only-of-type {\n",
              "        vertical-align: middle;\n",
              "    }\n",
              "\n",
              "    .dataframe tbody tr th {\n",
              "        vertical-align: top;\n",
              "    }\n",
              "\n",
              "    .dataframe thead th {\n",
              "        text-align: right;\n",
              "    }\n",
              "</style>\n",
              "<table border=\"1\" class=\"dataframe\">\n",
              "  <thead>\n",
              "    <tr style=\"text-align: right;\">\n",
              "      <th></th>\n",
              "      <th>lgbm</th>\n",
              "    </tr>\n",
              "    <tr>\n",
              "      <th>user_id</th>\n",
              "      <th></th>\n",
              "    </tr>\n",
              "  </thead>\n",
              "  <tbody>\n",
              "    <tr>\n",
              "      <th>1</th>\n",
              "      <td>[940947, 977658, 956274, 1095374, 854496]\n",
              "Cate...</td>\n",
              "    </tr>\n",
              "    <tr>\n",
              "      <th>2</th>\n",
              "      <td>[1001266, 854852, 1077555, 1098066, 846833]\n",
              "Ca...</td>\n",
              "    </tr>\n",
              "    <tr>\n",
              "      <th>3</th>\n",
              "      <td>[910032, 910032, 1096727, 910032, 846823]\n",
              "Cate...</td>\n",
              "    </tr>\n",
              "    <tr>\n",
              "      <th>6</th>\n",
              "      <td>[840361, 851494, 851903, 863447, 927291]\n",
              "Categ...</td>\n",
              "    </tr>\n",
              "    <tr>\n",
              "      <th>7</th>\n",
              "      <td>[865569, 886703, 995436, 1028321, 1029743]\n",
              "Cat...</td>\n",
              "    </tr>\n",
              "    <tr>\n",
              "      <th>...</th>\n",
              "      <td>...</td>\n",
              "    </tr>\n",
              "    <tr>\n",
              "      <th>2494</th>\n",
              "      <td>[914585, 893867, 862276, 889509, 947201]\n",
              "Categ...</td>\n",
              "    </tr>\n",
              "    <tr>\n",
              "      <th>2496</th>\n",
              "      <td>[999270, 1080472, 1042907, 5588161, 951821]\n",
              "Ca...</td>\n",
              "    </tr>\n",
              "    <tr>\n",
              "      <th>2498</th>\n",
              "      <td>[952806, 6633273, 6633224, 1110031, 978077]\n",
              "Ca...</td>\n",
              "    </tr>\n",
              "    <tr>\n",
              "      <th>2499</th>\n",
              "      <td>[835819, 851287, 1020682, 1042544, 1115160]\n",
              "Ca...</td>\n",
              "    </tr>\n",
              "    <tr>\n",
              "      <th>2500</th>\n",
              "      <td>[899019, 830935, 1012922, 1104149, 9707240]\n",
              "Ca...</td>\n",
              "    </tr>\n",
              "  </tbody>\n",
              "</table>\n",
              "<p>1707 rows × 1 columns</p>\n",
              "</div>"
            ],
            "text/plain": [
              "                                                      lgbm\n",
              "user_id                                                   \n",
              "1        [940947, 977658, 956274, 1095374, 854496]\n",
              "Cate...\n",
              "2        [1001266, 854852, 1077555, 1098066, 846833]\n",
              "Ca...\n",
              "3        [910032, 910032, 1096727, 910032, 846823]\n",
              "Cate...\n",
              "6        [840361, 851494, 851903, 863447, 927291]\n",
              "Categ...\n",
              "7        [865569, 886703, 995436, 1028321, 1029743]\n",
              "Cat...\n",
              "...                                                    ...\n",
              "2494     [914585, 893867, 862276, 889509, 947201]\n",
              "Categ...\n",
              "2496     [999270, 1080472, 1042907, 5588161, 951821]\n",
              "Ca...\n",
              "2498     [952806, 6633273, 6633224, 1110031, 978077]\n",
              "Ca...\n",
              "2499     [835819, 851287, 1020682, 1042544, 1115160]\n",
              "Ca...\n",
              "2500     [899019, 830935, 1012922, 1104149, 9707240]\n",
              "Ca...\n",
              "\n",
              "[1707 rows x 1 columns]"
            ]
          },
          "metadata": {},
          "execution_count": 54
        }
      ]
    },
    {
      "cell_type": "code",
      "metadata": {
        "colab": {
          "base_uri": "https://localhost:8080/"
        },
        "id": "U9DXWkVafU7p",
        "outputId": "b0fcef5c-516c-4d97-ae0d-6727c48e3ad7"
      },
      "source": [
        "result_data.info()"
      ],
      "execution_count": 68,
      "outputs": [
        {
          "output_type": "stream",
          "name": "stdout",
          "text": [
            "<class 'pandas.core.frame.DataFrame'>\n",
            "Int64Index: 1707 entries, 1 to 2500\n",
            "Data columns (total 1 columns):\n",
            " #   Column  Non-Null Count  Dtype \n",
            "---  ------  --------------  ----- \n",
            " 0   lgbm    1707 non-null   object\n",
            "dtypes: object(1)\n",
            "memory usage: 106.7+ KB\n"
          ]
        }
      ]
    },
    {
      "cell_type": "code",
      "metadata": {
        "id": "lbSZIRTUeV0S"
      },
      "source": [
        "userids = lgbm_val.index"
      ],
      "execution_count": 64,
      "outputs": []
    },
    {
      "cell_type": "code",
      "metadata": {
        "id": "bqMheQWIgOmI"
      },
      "source": [
        "result_data = lgbm_val.copy()"
      ],
      "execution_count": 67,
      "outputs": []
    },
    {
      "cell_type": "code",
      "metadata": {
        "id": "pBfkBjWGdlg6"
      },
      "source": [
        "out = transform_data_for_eval(result_data, 'lgbm', user_col='user')"
      ],
      "execution_count": 70,
      "outputs": []
    },
    {
      "cell_type": "code",
      "metadata": {
        "id": "eDWGd8u4hdpg"
      },
      "source": [
        "out.to_csv('/content/hw2/MyDrive/data/result.csv', columns=['UserId', 'Predicted'], index=False)"
      ],
      "execution_count": 76,
      "outputs": []
    }
  ]
}