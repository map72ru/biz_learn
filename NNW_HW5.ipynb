{
  "nbformat": 4,
  "nbformat_minor": 0,
  "metadata": {
    "colab": {
      "name": "NNW-HW5",
      "provenance": [],
      "collapsed_sections": [],
      "authorship_tag": "ABX9TyNnBEGB1EA7Wfu46BVXfXOR",
      "include_colab_link": true
    },
    "kernelspec": {
      "name": "python3",
      "display_name": "Python 3"
    },
    "language_info": {
      "name": "python"
    }
  },
  "cells": [
    {
      "cell_type": "markdown",
      "metadata": {
        "id": "view-in-github",
        "colab_type": "text"
      },
      "source": [
        "<a href=\"https://colab.research.google.com/github/map72ru/biz_learn/blob/main/NNW_HW5.ipynb\" target=\"_parent\"><img src=\"https://colab.research.google.com/assets/colab-badge.svg\" alt=\"Open In Colab\"/></a>"
      ]
    },
    {
      "cell_type": "code",
      "execution_count": 1,
      "metadata": {
        "id": "9WOmmFkhCFJD"
      },
      "outputs": [],
      "source": [
        "import numpy\n",
        "import pandas as pd \n",
        "import numpy as np\n",
        "import matplotlib.pyplot as plt\n",
        "import math\n",
        "from keras.models import Sequential\n",
        "from keras.layers import Dense\n",
        "from keras.layers import LSTM\n",
        "from sklearn.preprocessing import MinMaxScaler\n",
        "from sklearn.metrics import mean_squared_error\n",
        "import warnings\n",
        "warnings.filterwarnings('ignore')"
      ]
    },
    {
      "cell_type": "code",
      "source": [
        "from google.colab import drive\n",
        "drive.mount('/content/hw2')\n",
        "\n",
        "data = pd.read_csv('hw2/MyDrive/data/airline-passengers.csv',skipfooter=5)\n",
        "data"
      ],
      "metadata": {
        "colab": {
          "base_uri": "https://localhost:8080/",
          "height": 441
        },
        "id": "ZOqovIuTCoJX",
        "outputId": "cc4bd88c-fe06-4764-9dad-e3412b8681b5"
      },
      "execution_count": 2,
      "outputs": [
        {
          "output_type": "stream",
          "name": "stdout",
          "text": [
            "Mounted at /content/hw2\n"
          ]
        },
        {
          "output_type": "execute_result",
          "data": {
            "text/html": [
              "\n",
              "  <div id=\"df-ecabb958-372a-42b4-aaf2-fbdbf97a7f6b\">\n",
              "    <div class=\"colab-df-container\">\n",
              "      <div>\n",
              "<style scoped>\n",
              "    .dataframe tbody tr th:only-of-type {\n",
              "        vertical-align: middle;\n",
              "    }\n",
              "\n",
              "    .dataframe tbody tr th {\n",
              "        vertical-align: top;\n",
              "    }\n",
              "\n",
              "    .dataframe thead th {\n",
              "        text-align: right;\n",
              "    }\n",
              "</style>\n",
              "<table border=\"1\" class=\"dataframe\">\n",
              "  <thead>\n",
              "    <tr style=\"text-align: right;\">\n",
              "      <th></th>\n",
              "      <th>Month</th>\n",
              "      <th>Passengers</th>\n",
              "    </tr>\n",
              "  </thead>\n",
              "  <tbody>\n",
              "    <tr>\n",
              "      <th>0</th>\n",
              "      <td>1949-01</td>\n",
              "      <td>112</td>\n",
              "    </tr>\n",
              "    <tr>\n",
              "      <th>1</th>\n",
              "      <td>1949-02</td>\n",
              "      <td>118</td>\n",
              "    </tr>\n",
              "    <tr>\n",
              "      <th>2</th>\n",
              "      <td>1949-03</td>\n",
              "      <td>132</td>\n",
              "    </tr>\n",
              "    <tr>\n",
              "      <th>3</th>\n",
              "      <td>1949-04</td>\n",
              "      <td>129</td>\n",
              "    </tr>\n",
              "    <tr>\n",
              "      <th>4</th>\n",
              "      <td>1949-05</td>\n",
              "      <td>121</td>\n",
              "    </tr>\n",
              "    <tr>\n",
              "      <th>...</th>\n",
              "      <td>...</td>\n",
              "      <td>...</td>\n",
              "    </tr>\n",
              "    <tr>\n",
              "      <th>134</th>\n",
              "      <td>1960-03</td>\n",
              "      <td>419</td>\n",
              "    </tr>\n",
              "    <tr>\n",
              "      <th>135</th>\n",
              "      <td>1960-04</td>\n",
              "      <td>461</td>\n",
              "    </tr>\n",
              "    <tr>\n",
              "      <th>136</th>\n",
              "      <td>1960-05</td>\n",
              "      <td>472</td>\n",
              "    </tr>\n",
              "    <tr>\n",
              "      <th>137</th>\n",
              "      <td>1960-06</td>\n",
              "      <td>535</td>\n",
              "    </tr>\n",
              "    <tr>\n",
              "      <th>138</th>\n",
              "      <td>1960-07</td>\n",
              "      <td>622</td>\n",
              "    </tr>\n",
              "  </tbody>\n",
              "</table>\n",
              "<p>139 rows × 2 columns</p>\n",
              "</div>\n",
              "      <button class=\"colab-df-convert\" onclick=\"convertToInteractive('df-ecabb958-372a-42b4-aaf2-fbdbf97a7f6b')\"\n",
              "              title=\"Convert this dataframe to an interactive table.\"\n",
              "              style=\"display:none;\">\n",
              "        \n",
              "  <svg xmlns=\"http://www.w3.org/2000/svg\" height=\"24px\"viewBox=\"0 0 24 24\"\n",
              "       width=\"24px\">\n",
              "    <path d=\"M0 0h24v24H0V0z\" fill=\"none\"/>\n",
              "    <path d=\"M18.56 5.44l.94 2.06.94-2.06 2.06-.94-2.06-.94-.94-2.06-.94 2.06-2.06.94zm-11 1L8.5 8.5l.94-2.06 2.06-.94-2.06-.94L8.5 2.5l-.94 2.06-2.06.94zm10 10l.94 2.06.94-2.06 2.06-.94-2.06-.94-.94-2.06-.94 2.06-2.06.94z\"/><path d=\"M17.41 7.96l-1.37-1.37c-.4-.4-.92-.59-1.43-.59-.52 0-1.04.2-1.43.59L10.3 9.45l-7.72 7.72c-.78.78-.78 2.05 0 2.83L4 21.41c.39.39.9.59 1.41.59.51 0 1.02-.2 1.41-.59l7.78-7.78 2.81-2.81c.8-.78.8-2.07 0-2.86zM5.41 20L4 18.59l7.72-7.72 1.47 1.35L5.41 20z\"/>\n",
              "  </svg>\n",
              "      </button>\n",
              "      \n",
              "  <style>\n",
              "    .colab-df-container {\n",
              "      display:flex;\n",
              "      flex-wrap:wrap;\n",
              "      gap: 12px;\n",
              "    }\n",
              "\n",
              "    .colab-df-convert {\n",
              "      background-color: #E8F0FE;\n",
              "      border: none;\n",
              "      border-radius: 50%;\n",
              "      cursor: pointer;\n",
              "      display: none;\n",
              "      fill: #1967D2;\n",
              "      height: 32px;\n",
              "      padding: 0 0 0 0;\n",
              "      width: 32px;\n",
              "    }\n",
              "\n",
              "    .colab-df-convert:hover {\n",
              "      background-color: #E2EBFA;\n",
              "      box-shadow: 0px 1px 2px rgba(60, 64, 67, 0.3), 0px 1px 3px 1px rgba(60, 64, 67, 0.15);\n",
              "      fill: #174EA6;\n",
              "    }\n",
              "\n",
              "    [theme=dark] .colab-df-convert {\n",
              "      background-color: #3B4455;\n",
              "      fill: #D2E3FC;\n",
              "    }\n",
              "\n",
              "    [theme=dark] .colab-df-convert:hover {\n",
              "      background-color: #434B5C;\n",
              "      box-shadow: 0px 1px 3px 1px rgba(0, 0, 0, 0.15);\n",
              "      filter: drop-shadow(0px 1px 2px rgba(0, 0, 0, 0.3));\n",
              "      fill: #FFFFFF;\n",
              "    }\n",
              "  </style>\n",
              "\n",
              "      <script>\n",
              "        const buttonEl =\n",
              "          document.querySelector('#df-ecabb958-372a-42b4-aaf2-fbdbf97a7f6b button.colab-df-convert');\n",
              "        buttonEl.style.display =\n",
              "          google.colab.kernel.accessAllowed ? 'block' : 'none';\n",
              "\n",
              "        async function convertToInteractive(key) {\n",
              "          const element = document.querySelector('#df-ecabb958-372a-42b4-aaf2-fbdbf97a7f6b');\n",
              "          const dataTable =\n",
              "            await google.colab.kernel.invokeFunction('convertToInteractive',\n",
              "                                                     [key], {});\n",
              "          if (!dataTable) return;\n",
              "\n",
              "          const docLinkHtml = 'Like what you see? Visit the ' +\n",
              "            '<a target=\"_blank\" href=https://colab.research.google.com/notebooks/data_table.ipynb>data table notebook</a>'\n",
              "            + ' to learn more about interactive tables.';\n",
              "          element.innerHTML = '';\n",
              "          dataTable['output_type'] = 'display_data';\n",
              "          await google.colab.output.renderOutput(dataTable, element);\n",
              "          const docLink = document.createElement('div');\n",
              "          docLink.innerHTML = docLinkHtml;\n",
              "          element.appendChild(docLink);\n",
              "        }\n",
              "      </script>\n",
              "    </div>\n",
              "  </div>\n",
              "  "
            ],
            "text/plain": [
              "       Month  Passengers\n",
              "0    1949-01         112\n",
              "1    1949-02         118\n",
              "2    1949-03         132\n",
              "3    1949-04         129\n",
              "4    1949-05         121\n",
              "..       ...         ...\n",
              "134  1960-03         419\n",
              "135  1960-04         461\n",
              "136  1960-05         472\n",
              "137  1960-06         535\n",
              "138  1960-07         622\n",
              "\n",
              "[139 rows x 2 columns]"
            ]
          },
          "metadata": {},
          "execution_count": 2
        }
      ]
    },
    {
      "cell_type": "code",
      "source": [
        "dataset = data.iloc[:,1].values\n",
        "plt.plot(dataset)\n",
        "plt.xlabel(\"time\")\n",
        "plt.ylabel(\"Number of Passenger\")\n",
        "plt.title(\"international airline passenger\")\n",
        "plt.show()"
      ],
      "metadata": {
        "colab": {
          "base_uri": "https://localhost:8080/",
          "height": 295
        },
        "id": "LP1qE8Qnc2uw",
        "outputId": "1509706b-35af-4f02-8cbc-e81bd834645f"
      },
      "execution_count": 4,
      "outputs": [
        {
          "output_type": "display_data",
          "data": {
            "image/png": "[encoded data removed]",
            "text/plain": [
              "<Figure size 432x288 with 1 Axes>"
            ]
          },
          "metadata": {
            "needs_background": "light"
          }
        }
      ]
    },
    {
      "cell_type": "markdown",
      "source": [
        "Preprocessing Data"
      ],
      "metadata": {
        "id": "tETJGFilc9aQ"
      }
    },
    {
      "cell_type": "code",
      "source": [
        "dataset = dataset.reshape(-1,1)\n",
        "dataset = dataset.astype(\"float32\")\n",
        "dataset.shape"
      ],
      "metadata": {
        "colab": {
          "base_uri": "https://localhost:8080/"
        },
        "id": "nnrJuA9wdAMN",
        "outputId": "878b6c7a-1d5f-4d48-81b8-6c7a11658f8f"
      },
      "execution_count": 5,
      "outputs": [
        {
          "output_type": "execute_result",
          "data": {
            "text/plain": [
              "(139, 1)"
            ]
          },
          "metadata": {},
          "execution_count": 5
        }
      ]
    },
    {
      "cell_type": "code",
      "source": [
        "# scaling \n",
        "scaler = MinMaxScaler(feature_range=(0, 1))\n",
        "dataset = scaler.fit_transform(dataset)"
      ],
      "metadata": {
        "id": "KwoiwNxndFyZ"
      },
      "execution_count": 6,
      "outputs": []
    },
    {
      "cell_type": "code",
      "source": [
        "def create_dataset(dataset, look_back):\n",
        "    dataX, dataY = [], []\n",
        "    for i in range(len(dataset)-look_back-1):\n",
        "        a = dataset[i:(i+look_back), 0]\n",
        "        dataX.append(a)\n",
        "        dataY.append(dataset[i + look_back, 0])\n",
        "    return numpy.array(dataX), numpy.array(dataY)"
      ],
      "metadata": {
        "id": "-qPaaRiYdIS8"
      },
      "execution_count": 7,
      "outputs": []
    },
    {
      "cell_type": "code",
      "source": [
        "def split_data(X, y, test_size):\n",
        "    pos = int(round(len(X) * (1-test_size)))\n",
        "    X_train, y_train = X[:pos], y[:pos]\n",
        "    X_test, y_test = X[pos:], y[pos:]\n",
        "    return X_train, y_train, X_test, y_test"
      ],
      "metadata": {
        "id": "3IyYWmlCdK3u"
      },
      "execution_count": 8,
      "outputs": []
    },
    {
      "cell_type": "code",
      "source": [
        "look_back = 1\n",
        "X, y = create_dataset(dataset, look_back)\n",
        "print(\"X:{},y:{}\".format(X.shape, y.shape))\n",
        "X_train, y_train, X_test, y_test = split_data(X, y, 0.33)\n",
        "print(\"X_train:{},y_train:{},X_test:{},y_test{}\".format(X_train.shape, y_train.shape, X_test.shape, y_test.shape))"
      ],
      "metadata": {
        "colab": {
          "base_uri": "https://localhost:8080/"
        },
        "id": "mDAR15aIdNrq",
        "outputId": "7fb12773-c2c8-4a1c-a6ba-f0a99afa7cad"
      },
      "execution_count": 9,
      "outputs": [
        {
          "output_type": "stream",
          "name": "stdout",
          "text": [
            "X:(137, 1),y:(137,)\n",
            "X_train:(92, 1),y_train:(92,),X_test:(45, 1),y_test(45,)\n"
          ]
        }
      ]
    },
    {
      "cell_type": "code",
      "source": [
        "#reshape\n",
        "y = y.reshape(-1,1)\n",
        "y_train=y_train.reshape(-1,1)\n",
        "y_test=y_test.reshape(-1,1)\n",
        "print(\"X_train:{},y_train:{},X_test:{},y_test{}\".format(X_train.shape, y_train.shape, X_test.shape, y_test.shape))"
      ],
      "metadata": {
        "colab": {
          "base_uri": "https://localhost:8080/"
        },
        "id": "bHVsBm4pdTPy",
        "outputId": "50ab9e4f-91de-4cbc-f8a8-51eb6c289d84"
      },
      "execution_count": 10,
      "outputs": [
        {
          "output_type": "stream",
          "name": "stdout",
          "text": [
            "X_train:(92, 1),y_train:(92, 1),X_test:(45, 1),y_test(45, 1)\n"
          ]
        }
      ]
    },
    {
      "cell_type": "code",
      "source": [
        "# reshape input to be [samples, time steps, features]\n",
        "\n",
        "X_train = np.reshape(X_train, (X_train.shape[0], 1, X_train.shape[1]))\n",
        "X_test = np.reshape(X_test, (X_test.shape[0], 1, X_test.shape[1]))"
      ],
      "metadata": {
        "id": "ZDPeWozNdYfJ"
      },
      "execution_count": 11,
      "outputs": []
    },
    {
      "cell_type": "code",
      "source": [
        "Create LSTM Model"
      ],
      "metadata": {
        "id": "eFeKr2-4dcyV"
      },
      "execution_count": null,
      "outputs": []
    },
    {
      "cell_type": "code",
      "source": [
        "# model\n",
        "model = Sequential()\n",
        "model.add(LSTM(4, input_shape=(1, look_back)))\n",
        "model.add(Dense(1))\n",
        "model.compile(loss='mean_squared_error', optimizer='adam')\n",
        "model.fit(X_train, y_train, epochs=50, batch_size=1)"
      ],
      "metadata": {
        "colab": {
          "base_uri": "https://localhost:8080/"
        },
        "id": "Y2ouRFkSddWk",
        "outputId": "fb31bdf1-8745-49b6-cc7c-6b2906cbc09b"
      },
      "execution_count": 12,
      "outputs": [
        {
          "output_type": "stream",
          "name": "stdout",
          "text": [
            "Epoch 1/50\n",
            "92/92 [==============================] - 2s 2ms/step - loss: 0.0448\n",
            "Epoch 2/50\n",
            "92/92 [==============================] - 0s 2ms/step - loss: 0.0236\n",
            "Epoch 3/50\n",
            "92/92 [==============================] - 0s 3ms/step - loss: 0.0175\n",
            "Epoch 4/50\n",
            "92/92 [==============================] - 0s 2ms/step - loss: 0.0160\n",
            "Epoch 5/50\n",
            "92/92 [==============================] - 0s 2ms/step - loss: 0.0151\n",
            "Epoch 6/50\n",
            "92/92 [==============================] - 0s 2ms/step - loss: 0.0144\n",
            "Epoch 7/50\n",
            "92/92 [==============================] - 0s 2ms/step - loss: 0.0136\n",
            "Epoch 8/50\n",
            "92/92 [==============================] - 0s 2ms/step - loss: 0.0128\n",
            "Epoch 9/50\n",
            "92/92 [==============================] - 0s 2ms/step - loss: 0.0121\n",
            "Epoch 10/50\n",
            "92/92 [==============================] - 0s 2ms/step - loss: 0.0112\n",
            "Epoch 11/50\n",
            "92/92 [==============================] - 0s 2ms/step - loss: 0.0105\n",
            "Epoch 12/50\n",
            "92/92 [==============================] - 0s 2ms/step - loss: 0.0098\n",
            "Epoch 13/50\n",
            "92/92 [==============================] - 0s 2ms/step - loss: 0.0088\n",
            "Epoch 14/50\n",
            "92/92 [==============================] - 0s 2ms/step - loss: 0.0081\n",
            "Epoch 15/50\n",
            "92/92 [==============================] - 0s 2ms/step - loss: 0.0074\n",
            "Epoch 16/50\n",
            "92/92 [==============================] - 0s 2ms/step - loss: 0.0066\n",
            "Epoch 17/50\n",
            "92/92 [==============================] - 0s 2ms/step - loss: 0.0058\n",
            "Epoch 18/50\n",
            "92/92 [==============================] - 0s 2ms/step - loss: 0.0051\n",
            "Epoch 19/50\n",
            "92/92 [==============================] - 0s 2ms/step - loss: 0.0045\n",
            "Epoch 20/50\n",
            "92/92 [==============================] - 0s 2ms/step - loss: 0.0040\n",
            "Epoch 21/50\n",
            "92/92 [==============================] - 0s 2ms/step - loss: 0.0035\n",
            "Epoch 22/50\n",
            "92/92 [==============================] - 0s 2ms/step - loss: 0.0031\n",
            "Epoch 23/50\n",
            "92/92 [==============================] - 0s 2ms/step - loss: 0.0027\n",
            "Epoch 24/50\n",
            "92/92 [==============================] - 0s 2ms/step - loss: 0.0025\n",
            "Epoch 25/50\n",
            "92/92 [==============================] - 0s 2ms/step - loss: 0.0023\n",
            "Epoch 26/50\n",
            "92/92 [==============================] - 0s 2ms/step - loss: 0.0022\n",
            "Epoch 27/50\n",
            "92/92 [==============================] - 0s 2ms/step - loss: 0.0020\n",
            "Epoch 28/50\n",
            "92/92 [==============================] - 0s 2ms/step - loss: 0.0020\n",
            "Epoch 29/50\n",
            "92/92 [==============================] - 0s 2ms/step - loss: 0.0020\n",
            "Epoch 30/50\n",
            "92/92 [==============================] - 0s 2ms/step - loss: 0.0019\n",
            "Epoch 31/50\n",
            "92/92 [==============================] - 0s 2ms/step - loss: 0.0019\n",
            "Epoch 32/50\n",
            "92/92 [==============================] - 0s 2ms/step - loss: 0.0020\n",
            "Epoch 33/50\n",
            "92/92 [==============================] - 0s 2ms/step - loss: 0.0019\n",
            "Epoch 34/50\n",
            "92/92 [==============================] - 0s 2ms/step - loss: 0.0019\n",
            "Epoch 35/50\n",
            "92/92 [==============================] - 0s 2ms/step - loss: 0.0019\n",
            "Epoch 36/50\n",
            "92/92 [==============================] - 0s 2ms/step - loss: 0.0019\n",
            "Epoch 37/50\n",
            "92/92 [==============================] - 0s 2ms/step - loss: 0.0019\n",
            "Epoch 38/50\n",
            "92/92 [==============================] - 0s 2ms/step - loss: 0.0019\n",
            "Epoch 39/50\n",
            "92/92 [==============================] - 0s 2ms/step - loss: 0.0019\n",
            "Epoch 40/50\n",
            "92/92 [==============================] - 0s 2ms/step - loss: 0.0020\n",
            "Epoch 41/50\n",
            "92/92 [==============================] - 0s 2ms/step - loss: 0.0019\n",
            "Epoch 42/50\n",
            "92/92 [==============================] - 0s 2ms/step - loss: 0.0019\n",
            "Epoch 43/50\n",
            "92/92 [==============================] - 0s 2ms/step - loss: 0.0019\n",
            "Epoch 44/50\n",
            "92/92 [==============================] - 0s 2ms/step - loss: 0.0019\n",
            "Epoch 45/50\n",
            "92/92 [==============================] - 0s 2ms/step - loss: 0.0019\n",
            "Epoch 46/50\n",
            "92/92 [==============================] - 0s 3ms/step - loss: 0.0019\n",
            "Epoch 47/50\n",
            "92/92 [==============================] - 0s 2ms/step - loss: 0.0020\n",
            "Epoch 48/50\n",
            "92/92 [==============================] - 0s 2ms/step - loss: 0.0019\n",
            "Epoch 49/50\n",
            "92/92 [==============================] - 0s 2ms/step - loss: 0.0019\n",
            "Epoch 50/50\n",
            "92/92 [==============================] - 0s 2ms/step - loss: 0.0019\n"
          ]
        },
        {
          "output_type": "execute_result",
          "data": {
            "text/plain": [
              "<keras.callbacks.History at 0x7fb93a9cf710>"
            ]
          },
          "metadata": {},
          "execution_count": 12
        }
      ]
    },
    {
      "cell_type": "markdown",
      "source": [
        "Predictions and Visualising LSTM Model"
      ],
      "metadata": {
        "id": "OYuJadOndmje"
      }
    },
    {
      "cell_type": "code",
      "source": [
        "X_train = numpy.reshape(X_train, (X_train.shape[0], 1, X_train.shape[1]))\n",
        "X_test = numpy.reshape(X_test, (X_test.shape[0], 1, X_test.shape[1]))\n",
        "print(X_train.shape)\n",
        "print(y_train.shape)\n",
        "print(X_test.shape)\n",
        "print(y_test.shape)\n",
        "trainPredict = model.predict(X_train)\n",
        "testPredict = model.predict(X_test)"
      ],
      "metadata": {
        "colab": {
          "base_uri": "https://localhost:8080/"
        },
        "id": "idUN1lHRdnbr",
        "outputId": "023fddb7-8f01-4120-bd5f-8b43a8aabcef"
      },
      "execution_count": 13,
      "outputs": [
        {
          "output_type": "stream",
          "name": "stdout",
          "text": [
            "(92, 1, 1)\n",
            "(92, 1)\n",
            "(45, 1, 1)\n",
            "(45, 1)\n"
          ]
        }
      ]
    },
    {
      "cell_type": "code",
      "source": [
        "trainPredict = scaler.inverse_transform(trainPredict)\n",
        "trainY = scaler.inverse_transform(y_train)\n",
        "testPredict = scaler.inverse_transform(testPredict)\n",
        "testY = scaler.inverse_transform(y_test)"
      ],
      "metadata": {
        "id": "w7VcyY9PdrhT"
      },
      "execution_count": 14,
      "outputs": []
    },
    {
      "cell_type": "code",
      "source": [
        "trainY=trainY.reshape(1,-1)\n",
        "testY = testY.reshape(1,-1)\n",
        "# calculate root mean squared error\n",
        "trainScore = math.sqrt(mean_squared_error(trainY[0], trainPredict[:,0]))\n",
        "print('Train Score: %.2f RMSE' % (trainScore))\n",
        "testScore = math.sqrt(mean_squared_error(testY[0], testPredict[:,0]))\n",
        "print('Test Score: %.2f RMSE' % (testScore))"
      ],
      "metadata": {
        "colab": {
          "base_uri": "https://localhost:8080/"
        },
        "id": "go_8tthHdu36",
        "outputId": "6f0c494f-a126-4f7d-d1bc-fe1a2b09617b"
      },
      "execution_count": 16,
      "outputs": [
        {
          "output_type": "stream",
          "name": "stdout",
          "text": [
            "Train Score: 22.35 RMSE\n",
            "Test Score: 43.39 RMSE\n"
          ]
        }
      ]
    },
    {
      "cell_type": "code",
      "source": [
        "trainPredictPlot = numpy.empty_like(dataset)\n",
        "trainPredictPlot[:, :] = numpy.nan\n",
        "trainPredictPlot[look_back:len(trainPredict)+look_back, :] = trainPredict\n",
        "# shift test predictions for plotting\n",
        "testPredictPlot = numpy.empty_like(dataset)\n",
        "testPredictPlot[:, :] = numpy.nan\n",
        "testPredictPlot[len(trainPredict)+(look_back):len(dataset)-1, :] = testPredict\n",
        "# plot baseline and predictions\n",
        "plt.plot(scaler.inverse_transform(dataset))\n",
        "plt.plot(trainPredictPlot)\n",
        "plt.plot(testPredictPlot)\n",
        "plt.show()"
      ],
      "metadata": {
        "colab": {
          "base_uri": "https://localhost:8080/",
          "height": 265
        },
        "id": "IyWpH6ENePVI",
        "outputId": "fdbb4cd3-3219-410b-ccc2-efdeb6c9596a"
      },
      "execution_count": 17,
      "outputs": [
        {
          "output_type": "display_data",
          "data": {
            "image/png": "[encoded data removed]",
            "text/plain": [
              "<Figure size 432x288 with 1 Axes>"
            ]
          },
          "metadata": {
            "needs_background": "light"
          }
        }
      ]
    }
  ]
}