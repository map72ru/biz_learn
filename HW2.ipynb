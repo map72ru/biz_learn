{
  "nbformat": 4,
  "nbformat_minor": 0,
  "metadata": {
    "colab": {
      "name": "HW2.ipynb",
      "provenance": [],
      "collapsed_sections": [],
      "authorship_tag": "ABX9TyODaelnN6Ecqpd1TElwtohh",
      "include_colab_link": true
    },
    "kernelspec": {
      "name": "python3",
      "display_name": "Python 3"
    },
    "language_info": {
      "name": "python"
    }
  },
  "cells": [
    {
      "cell_type": "markdown",
      "metadata": {
        "id": "view-in-github",
        "colab_type": "text"
      },
      "source": [
        "<a href=\"https://colab.research.google.com/github/map72ru/biz_learn/blob/main/HW2.ipynb\" target=\"_parent\"><img src=\"https://colab.research.google.com/assets/colab-badge.svg\" alt=\"Open In Colab\"/></a>"
      ]
    },
    {
      "cell_type": "code",
      "metadata": {
        "colab": {
          "base_uri": "https://localhost:8080/"
        },
        "id": "Xp9d5NmK9YHQ",
        "outputId": "6c3ec40d-54a0-437d-da16-c3737799d519"
      },
      "source": [
        "!pip install razdel"
      ],
      "execution_count": 1,
      "outputs": [
        {
          "output_type": "stream",
          "text": [
            "Collecting razdel\n",
            "  Downloading https://files.pythonhosted.org/packages/15/2c/664223a3924aa6e70479f7d37220b3a658765b9cfe760b4af7ffdc50d38f/razdel-0.5.0-py3-none-any.whl\n",
            "Installing collected packages: razdel\n",
            "Successfully installed razdel-0.5.0\n"
          ],
          "name": "stdout"
        }
      ]
    },
    {
      "cell_type": "code",
      "metadata": {
        "colab": {
          "base_uri": "https://localhost:8080/"
        },
        "id": "IwVhFjNY9cur",
        "outputId": "d45440eb-e706-409f-b05c-f7ba979a1254"
      },
      "source": [
        "!pip install pymorphy2"
      ],
      "execution_count": 2,
      "outputs": [
        {
          "output_type": "stream",
          "text": [
            "Collecting pymorphy2\n",
            "\u001b[?25l  Downloading https://files.pythonhosted.org/packages/07/57/b2ff2fae3376d4f3c697b9886b64a54b476e1a332c67eee9f88e7f1ae8c9/pymorphy2-0.9.1-py3-none-any.whl (55kB)\n",
            "\r\u001b[K     |██████                          | 10kB 9.0MB/s eta 0:00:01\r\u001b[K     |███████████▉                    | 20kB 12.0MB/s eta 0:00:01\r\u001b[K     |█████████████████▊              | 30kB 8.1MB/s eta 0:00:01\r\u001b[K     |███████████████████████▋        | 40kB 3.7MB/s eta 0:00:01\r\u001b[K     |█████████████████████████████▌  | 51kB 4.4MB/s eta 0:00:01\r\u001b[K     |████████████████████████████████| 61kB 3.2MB/s \n",
            "\u001b[?25hRequirement already satisfied: docopt>=0.6 in /usr/local/lib/python3.7/dist-packages (from pymorphy2) (0.6.2)\n",
            "Collecting pymorphy2-dicts-ru<3.0,>=2.4\n",
            "\u001b[?25l  Downloading https://files.pythonhosted.org/packages/3a/79/bea0021eeb7eeefde22ef9e96badf174068a2dd20264b9a378f2be1cdd9e/pymorphy2_dicts_ru-2.4.417127.4579844-py2.py3-none-any.whl (8.2MB)\n",
            "\u001b[K     |████████████████████████████████| 8.2MB 6.1MB/s \n",
            "\u001b[?25hCollecting dawg-python>=0.7.1\n",
            "  Downloading https://files.pythonhosted.org/packages/6a/84/ff1ce2071d4c650ec85745766c0047ccc3b5036f1d03559fd46bb38b5eeb/DAWG_Python-0.7.2-py2.py3-none-any.whl\n",
            "Installing collected packages: pymorphy2-dicts-ru, dawg-python, pymorphy2\n",
            "Successfully installed dawg-python-0.7.2 pymorphy2-0.9.1 pymorphy2-dicts-ru-2.4.417127.4579844\n"
          ],
          "name": "stdout"
        }
      ]
    },
    {
      "cell_type": "code",
      "metadata": {
        "colab": {
          "base_uri": "https://localhost:8080/"
        },
        "id": "kcBNCUmg9gvL",
        "outputId": "958485e8-226f-4572-ba6c-cf1f0cb686ab"
      },
      "source": [
        "from google.colab import drive\n",
        "drive.mount('/content/hw2')"
      ],
      "execution_count": 15,
      "outputs": [
        {
          "output_type": "stream",
          "text": [
            "Mounted at /content/hw2\n"
          ],
          "name": "stdout"
        }
      ]
    },
    {
      "cell_type": "code",
      "metadata": {
        "colab": {
          "base_uri": "https://localhost:8080/"
        },
        "id": "xbavAQOarQj_",
        "outputId": "fe1de63a-fe27-4d8e-bc15-5dca874f52f1"
      },
      "source": [
        "!ls hw2/MyDrive"
      ],
      "execution_count": 16,
      "outputs": [
        {
          "output_type": "stream",
          "text": [
            " 7851L_Mihailov_AP.doc\t    Backup\t       data     temp\n",
            " 7851L_Mihailov_APOut.pdf  'Colab Notebooks'   Devops\n"
          ],
          "name": "stdout"
        }
      ]
    },
    {
      "cell_type": "code",
      "metadata": {
        "id": "UhlmZtbn-fp9"
      },
      "source": [
        "import pandas as pd"
      ],
      "execution_count": 17,
      "outputs": []
    },
    {
      "cell_type": "code",
      "metadata": {
        "colab": {
          "base_uri": "https://localhost:8080/",
          "height": 159
        },
        "id": "xS2o6BGV-mMj",
        "outputId": "322b5179-cebe-44b8-fec1-0b8cad3f08e9"
      },
      "source": [
        "news = pd.read_csv(\"hw2/MyDrive/data/articles.csv\")\n",
        "print(news.shape)\n",
        "news.head(3)"
      ],
      "execution_count": 19,
      "outputs": [
        {
          "output_type": "stream",
          "text": [
            "(27000, 2)\n"
          ],
          "name": "stdout"
        },
        {
          "output_type": "execute_result",
          "data": {
            "text/html": [
              "<div>\n",
              "<style scoped>\n",
              "    .dataframe tbody tr th:only-of-type {\n",
              "        vertical-align: middle;\n",
              "    }\n",
              "\n",
              "    .dataframe tbody tr th {\n",
              "        vertical-align: top;\n",
              "    }\n",
              "\n",
              "    .dataframe thead th {\n",
              "        text-align: right;\n",
              "    }\n",
              "</style>\n",
              "<table border=\"1\" class=\"dataframe\">\n",
              "  <thead>\n",
              "    <tr style=\"text-align: right;\">\n",
              "      <th></th>\n",
              "      <th>doc_id</th>\n",
              "      <th>title</th>\n",
              "    </tr>\n",
              "  </thead>\n",
              "  <tbody>\n",
              "    <tr>\n",
              "      <th>0</th>\n",
              "      <td>6</td>\n",
              "      <td>Заместитель председателяnправительства РФnСерг...</td>\n",
              "    </tr>\n",
              "    <tr>\n",
              "      <th>1</th>\n",
              "      <td>4896</td>\n",
              "      <td>Матч 1/16 финала Кубка России по футболу был п...</td>\n",
              "    </tr>\n",
              "    <tr>\n",
              "      <th>2</th>\n",
              "      <td>4897</td>\n",
              "      <td>Форвард «Авангарда» Томаш Заборский прокоммент...</td>\n",
              "    </tr>\n",
              "  </tbody>\n",
              "</table>\n",
              "</div>"
            ],
            "text/plain": [
              "   doc_id                                              title\n",
              "0       6  Заместитель председателяnправительства РФnСерг...\n",
              "1    4896  Матч 1/16 финала Кубка России по футболу был п...\n",
              "2    4897  Форвард «Авангарда» Томаш Заборский прокоммент..."
            ]
          },
          "metadata": {
            "tags": []
          },
          "execution_count": 19
        }
      ]
    },
    {
      "cell_type": "code",
      "metadata": {
        "colab": {
          "base_uri": "https://localhost:8080/",
          "height": 142
        },
        "id": "tmD1uRLX_D2U",
        "outputId": "cbbe6814-2c17-404d-d887-0b18a99e742e"
      },
      "source": [
        "users = pd.read_csv(\"hw2/MyDrive/data/users_articles.csv\")\n",
        "users.head(3)"
      ],
      "execution_count": 20,
      "outputs": [
        {
          "output_type": "execute_result",
          "data": {
            "text/html": [
              "<div>\n",
              "<style scoped>\n",
              "    .dataframe tbody tr th:only-of-type {\n",
              "        vertical-align: middle;\n",
              "    }\n",
              "\n",
              "    .dataframe tbody tr th {\n",
              "        vertical-align: top;\n",
              "    }\n",
              "\n",
              "    .dataframe thead th {\n",
              "        text-align: right;\n",
              "    }\n",
              "</style>\n",
              "<table border=\"1\" class=\"dataframe\">\n",
              "  <thead>\n",
              "    <tr style=\"text-align: right;\">\n",
              "      <th></th>\n",
              "      <th>uid</th>\n",
              "      <th>articles</th>\n",
              "    </tr>\n",
              "  </thead>\n",
              "  <tbody>\n",
              "    <tr>\n",
              "      <th>0</th>\n",
              "      <td>u105138</td>\n",
              "      <td>[293672, 293328, 293001, 293622, 293126, 1852]</td>\n",
              "    </tr>\n",
              "    <tr>\n",
              "      <th>1</th>\n",
              "      <td>u108690</td>\n",
              "      <td>[3405, 1739, 2972, 1158, 1599, 322665]</td>\n",
              "    </tr>\n",
              "    <tr>\n",
              "      <th>2</th>\n",
              "      <td>u108339</td>\n",
              "      <td>[1845, 2009, 2356, 1424, 2939, 323389]</td>\n",
              "    </tr>\n",
              "  </tbody>\n",
              "</table>\n",
              "</div>"
            ],
            "text/plain": [
              "       uid                                        articles\n",
              "0  u105138  [293672, 293328, 293001, 293622, 293126, 1852]\n",
              "1  u108690          [3405, 1739, 2972, 1158, 1599, 322665]\n",
              "2  u108339          [1845, 2009, 2356, 1424, 2939, 323389]"
            ]
          },
          "metadata": {
            "tags": []
          },
          "execution_count": 20
        }
      ]
    },
    {
      "cell_type": "code",
      "metadata": {
        "id": "fOGPTTg1_Ok0"
      },
      "source": [
        "#from gensim.test.utils import common_texts\n",
        "# https://webdevblog.ru/gensim-rukovodstvo-dlya-nachinajushhih/\n",
        "from gensim.corpora.dictionary import Dictionary"
      ],
      "execution_count": 21,
      "outputs": []
    },
    {
      "cell_type": "code",
      "metadata": {
        "id": "OcoalDs3_PXE"
      },
      "source": [
        "#предобработка текстов\n",
        "import re\n",
        "import numpy as np\n",
        "from nltk.corpus import stopwords\n",
        "#from nltk.tokenize import word_tokenize\n",
        "\n",
        "from razdel import tokenize # https://github.com/natasha/razdel\n",
        "#!pip install razdel\n",
        "\n",
        "import pymorphy2  # pip install pymorphy2"
      ],
      "execution_count": 22,
      "outputs": []
    },
    {
      "cell_type": "code",
      "metadata": {
        "colab": {
          "base_uri": "https://localhost:8080/"
        },
        "id": "wkzgCH3u_SKn",
        "outputId": "76b3c26d-1be9-40de-c8bc-ffd7e75c0591"
      },
      "source": [
        "import nltk\n",
        "nltk.download('stopwords')"
      ],
      "execution_count": 23,
      "outputs": [
        {
          "output_type": "stream",
          "text": [
            "[nltk_data] Downloading package stopwords to /root/nltk_data...\n",
            "[nltk_data]   Unzipping corpora/stopwords.zip.\n"
          ],
          "name": "stdout"
        },
        {
          "output_type": "execute_result",
          "data": {
            "text/plain": [
              "True"
            ]
          },
          "metadata": {
            "tags": []
          },
          "execution_count": 23
        }
      ]
    },
    {
      "cell_type": "code",
      "metadata": {
        "id": "8m_5KLhw_USk"
      },
      "source": [
        "stopword_ru = stopwords.words('russian')\n",
        "morph = pymorphy2.MorphAnalyzer()"
      ],
      "execution_count": 25,
      "outputs": []
    },
    {
      "cell_type": "code",
      "metadata": {
        "colab": {
          "base_uri": "https://localhost:8080/"
        },
        "id": "XSzOJYUX_YFe",
        "outputId": "02567f91-9be8-427d-8f8b-4674131b3486"
      },
      "source": [
        "len(stopword_ru)"
      ],
      "execution_count": 26,
      "outputs": [
        {
          "output_type": "execute_result",
          "data": {
            "text/plain": [
              "151"
            ]
          },
          "metadata": {
            "tags": []
          },
          "execution_count": 26
        }
      ]
    },
    {
      "cell_type": "code",
      "metadata": {
        "colab": {
          "base_uri": "https://localhost:8080/"
        },
        "id": "Bhst25sY_aDr",
        "outputId": "432290b2-8f0f-4d16-e99e-42f7ad76b0a8"
      },
      "source": [
        "with open('hw2/MyDrive/data/stopwords.txt') as f:\n",
        "    additional_stopwords = [w.strip() for w in f.readlines() if w]\n",
        "stopword_ru += additional_stopwords\n",
        "len(stopword_ru)"
      ],
      "execution_count": 28,
      "outputs": [
        {
          "output_type": "execute_result",
          "data": {
            "text/plain": [
              "776"
            ]
          },
          "metadata": {
            "tags": []
          },
          "execution_count": 28
        }
      ]
    },
    {
      "cell_type": "code",
      "metadata": {
        "colab": {
          "base_uri": "https://localhost:8080/",
          "height": 35
        },
        "id": "0g73u67L_a4z",
        "outputId": "4aeb819e-0eed-40bc-fd6e-35b26216e88c"
      },
      "source": [
        "stopword_ru[-1]"
      ],
      "execution_count": 29,
      "outputs": [
        {
          "output_type": "execute_result",
          "data": {
            "application/vnd.google.colaboratory.intrinsic+json": {
              "type": "string"
            },
            "text/plain": [
              "'thru'"
            ]
          },
          "metadata": {
            "tags": []
          },
          "execution_count": 29
        }
      ]
    },
    {
      "cell_type": "code",
      "metadata": {
        "id": "Dpy8LXV0_dTb"
      },
      "source": [
        "def clean_text(text):\n",
        "    '''\n",
        "    очистка текста\n",
        "    \n",
        "    на выходе очищеный текст\n",
        "    \n",
        "    '''\n",
        "    if not isinstance(text, str):\n",
        "        text = str(text)\n",
        "    \n",
        "    text = text.lower()\n",
        "    text = text.strip('\\n').strip('\\r').strip('\\t')\n",
        "    text = re.sub(\"-\\s\\r\\n\\|-\\s\\r\\n|\\r\\n\", '', str(text))\n",
        "\n",
        "    text = re.sub(\"[0-9]|[-—.,:;_%©«»?*!@#№$^•·&()]|[+=]|[[]|[]]|[/]|\", '', text)\n",
        "    text = re.sub(r\"\\r\\n\\t|\\n|\\\\s|\\r\\t|\\\\n\", ' ', text)\n",
        "    text = re.sub(r'[\\xad]|[\\s+]', ' ', text.strip())\n",
        "    text = re.sub(\"n\", ' ', text)\n",
        "\n",
        "    \n",
        "    #tokens = list(tokenize(text))\n",
        "    #words = [_.text for _ in tokens]\n",
        "    #words = [w for w in words if w not in stopword_ru]\n",
        "    \n",
        "    #return \" \".join(words)\n",
        "    return text\n",
        "\n",
        "cache = {}\n",
        "\n",
        "def lemmatization(text):\n",
        "    '''\n",
        "    лемматизация\n",
        "        [0] если зашел тип не `str` делаем его `str`\n",
        "        [1] токенизация предложения через razdel\n",
        "        [2] проверка есть ли в начале слова '-'\n",
        "        [3] проверка токена с одного символа\n",
        "        [4] проверка есть ли данное слово в кэше\n",
        "        [5] лемматизация слова\n",
        "        [6] проверка на стоп-слова\n",
        "\n",
        "    на выходе лист отлемматизированых токенов\n",
        "    '''\n",
        "\n",
        "    # [0]\n",
        "    if not isinstance(text, str):\n",
        "        text = str(text)\n",
        "    \n",
        "    # [1]\n",
        "    tokens = list(tokenize(text))\n",
        "    #print(tokens)\n",
        "    words = [_.text for _ in tokens]\n",
        "\n",
        "    words_lem = []\n",
        "    for w in words:\n",
        "        if w[0] == '-': # [2]\n",
        "            w = w[1:]\n",
        "        if len(w)>1: # [3]\n",
        "            if w in cache: # [4]\n",
        "                words_lem.append(cache[w])\n",
        "                #print(temp_cach)\n",
        "            else: # [5]\n",
        "                temp_cach = cache[w] = morph.parse(w)[0].normal_form\n",
        "                words_lem.append(temp_cach)\n",
        "                #print(w,' : ',temp_cach)\n",
        "    \n",
        "    words_lem_without_stopwords=[i for i in words_lem if not i in stopword_ru] # [6]\n",
        "    #print(words_lem_without_stopwords)\n",
        "    return words_lem_without_stopwords"
      ],
      "execution_count": 30,
      "outputs": []
    },
    {
      "cell_type": "code",
      "metadata": {
        "colab": {
          "base_uri": "https://localhost:8080/"
        },
        "id": "GiJ4ZVm1_hub",
        "outputId": "2ca01229-3494-4561-956f-e2f84c49f831"
      },
      "source": [
        "list(tokenize(news.iloc[0,1][:100],   ))"
      ],
      "execution_count": 31,
      "outputs": [
        {
          "output_type": "execute_result",
          "data": {
            "text/plain": [
              "[Substring(0, 11, 'Заместитель'),\n",
              " Substring(12, 24, 'председателя'),\n",
              " Substring(24, 25, 'n'),\n",
              " Substring(25, 38, 'правительства'),\n",
              " Substring(39, 41, 'РФ'),\n",
              " Substring(41, 42, 'n'),\n",
              " Substring(42, 48, 'Сергей'),\n",
              " Substring(48, 49, 'n'),\n",
              " Substring(49, 55, 'Иванов'),\n",
              " Substring(55, 56, 'n'),\n",
              " Substring(56, 62, 'избран'),\n",
              " Substring(63, 76, 'председателем'),\n",
              " Substring(77, 83, 'совета'),\n",
              " Substring(83, 84, 'n'),\n",
              " Substring(84, 87, 'ПБК'),\n",
              " Substring(88, 92, 'ЦСКА'),\n",
              " Substring(92, 93, 'n'),\n",
              " Substring(93, 94, '.'),\n",
              " Substring(95, 98, 'Как'),\n",
              " Substring(99, 100, 'с')]"
            ]
          },
          "metadata": {
            "tags": []
          },
          "execution_count": 31
        }
      ]
    },
    {
      "cell_type": "code",
      "metadata": {
        "colab": {
          "base_uri": "https://localhost:8080/"
        },
        "id": "yc6MKweu_j9m",
        "outputId": "1790fe37-565e-4c2c-cc74-02c6bfc4c830"
      },
      "source": [
        "norm_text = news.iloc[:2,1].apply(lambda x: clean_text(x), 1)\n",
        "norm_text"
      ],
      "execution_count": 32,
      "outputs": [
        {
          "output_type": "stream",
          "text": [
            "/usr/local/lib/python3.7/dist-packages/ipykernel_launcher.py:15: FutureWarning: Possible nested set at position 39\n",
            "  from ipykernel import kernelapp as app\n"
          ],
          "name": "stderr"
        },
        {
          "output_type": "execute_result",
          "data": {
            "text/plain": [
              "0    заместитель председателя правительства рф серг...\n",
              "1    матч  финала кубка россии по футболу был приос...\n",
              "Name: title, dtype: object"
            ]
          },
          "metadata": {
            "tags": []
          },
          "execution_count": 32
        }
      ]
    },
    {
      "cell_type": "code",
      "metadata": {
        "colab": {
          "base_uri": "https://localhost:8080/"
        },
        "id": "iLxTGJ2__mMM",
        "outputId": "ade218f6-be84-4206-b7e6-4cec66429640"
      },
      "source": [
        "lemmatization(norm_text[0])"
      ],
      "execution_count": 33,
      "outputs": [
        {
          "output_type": "execute_result",
          "data": {
            "text/plain": [
              "['заместитель',\n",
              " 'председатель',\n",
              " 'правительство',\n",
              " 'рф',\n",
              " 'сергей',\n",
              " 'иванов',\n",
              " 'избрать',\n",
              " 'председатель',\n",
              " 'совет',\n",
              " 'пбк',\n",
              " 'цска',\n",
              " 'прессслужба',\n",
              " 'армеец',\n",
              " 'решение',\n",
              " 'единогласно',\n",
              " 'принять',\n",
              " 'первый',\n",
              " 'заседание',\n",
              " 'совет',\n",
              " 'клуб',\n",
              " 'основной',\n",
              " 'функция',\n",
              " 'орган',\n",
              " 'обсуждение',\n",
              " 'текущий',\n",
              " 'состояние',\n",
              " 'планирование',\n",
              " 'утверждение',\n",
              " 'стратегия',\n",
              " 'развитие',\n",
              " 'клуб',\n",
              " 'близкий',\n",
              " 'перспектива',\n",
              " 'состав',\n",
              " 'совет',\n",
              " 'войти',\n",
              " 'георгий',\n",
              " 'полтавченко',\n",
              " 'полномочный',\n",
              " 'центральный',\n",
              " 'федеральный',\n",
              " 'округ',\n",
              " 'алексей',\n",
              " 'седов',\n",
              " 'генералполковник',\n",
              " 'начальник',\n",
              " 'служба',\n",
              " 'защита',\n",
              " 'конституционный',\n",
              " 'строй',\n",
              " 'борьба',\n",
              " 'терроризм',\n",
              " 'фсб',\n",
              " 'рф',\n",
              " 'александр',\n",
              " 'новак',\n",
              " 'заместитель',\n",
              " 'министр',\n",
              " 'финансы',\n",
              " 'рф',\n",
              " 'вячеслав',\n",
              " 'полтавец',\n",
              " 'заместитель',\n",
              " 'генеральный',\n",
              " 'директор',\n",
              " 'руководитель',\n",
              " 'блок',\n",
              " 'взаимодействие',\n",
              " 'орган',\n",
              " 'власть',\n",
              " 'социальный',\n",
              " 'корпоративный',\n",
              " 'политика',\n",
              " 'гмк',\n",
              " 'норильский',\n",
              " 'никель',\n",
              " 'леонид',\n",
              " 'исакович',\n",
              " 'генеральный',\n",
              " 'директор',\n",
              " 'ооо',\n",
              " 'ук',\n",
              " 'спортивный',\n",
              " 'проект',\n",
              " 'ольга',\n",
              " 'плешаков',\n",
              " 'генеральный',\n",
              " 'директор',\n",
              " 'трансаэро',\n",
              " 'александр',\n",
              " 'провоторов',\n",
              " 'генеральный',\n",
              " 'директор',\n",
              " 'оао',\n",
              " 'ростелеком',\n",
              " 'андрей',\n",
              " 'лопат',\n",
              " 'эксигрок',\n",
              " 'цска',\n",
              " 'чемпион',\n",
              " 'мир',\n",
              " 'трёхкратный',\n",
              " 'чемпион',\n",
              " 'европа',\n",
              " 'баскетбол',\n",
              " 'председатель',\n",
              " 'правление',\n",
              " 'банк',\n",
              " 'клиентский',\n",
              " 'андрей',\n",
              " 'ватутин',\n",
              " 'пбк',\n",
              " 'цска']"
            ]
          },
          "metadata": {
            "tags": []
          },
          "execution_count": 33
        }
      ]
    },
    {
      "cell_type": "code",
      "metadata": {
        "colab": {
          "base_uri": "https://localhost:8080/"
        },
        "id": "HaxXPRkC_ttk",
        "outputId": "60dcb7c8-3e14-48d7-a59a-ae159e244a7b"
      },
      "source": [
        "%%time\n",
        "#Запускаем очистку текста. Будет долго...\n",
        "news['title'] = news['title'].apply(lambda x: clean_text(x), 1)"
      ],
      "execution_count": 34,
      "outputs": [
        {
          "output_type": "stream",
          "text": [
            "CPU times: user 25.3 s, sys: 2.15 s, total: 27.5 s\n",
            "Wall time: 27.5 s\n"
          ],
          "name": "stdout"
        }
      ]
    },
    {
      "cell_type": "code",
      "metadata": {
        "colab": {
          "base_uri": "https://localhost:8080/"
        },
        "id": "DYD1Jeme_xJE",
        "outputId": "1e1202e3-69c8-4868-d8f2-43c687765148"
      },
      "source": [
        "%%time\n",
        "#Запускаем лемматизацию текста. Будет очень долго...\n",
        "news['title'] = news['title'].apply(lambda x: lemmatization(x), 1)"
      ],
      "execution_count": 35,
      "outputs": [
        {
          "output_type": "stream",
          "text": [
            "CPU times: user 4min 1s, sys: 716 ms, total: 4min 2s\n",
            "Wall time: 4min 2s\n"
          ],
          "name": "stdout"
        }
      ]
    },
    {
      "cell_type": "code",
      "metadata": {
        "id": "_7AOyh3i_zpU"
      },
      "source": [
        "#сформируем список наших текстов, разбив еще и на пробелы\n",
        "texts = [t for t in news['title'].values]\n",
        "\n",
        "# Create a corpus from a list of texts\n",
        "common_dictionary = Dictionary(texts)\n",
        "common_corpus = [common_dictionary.doc2bow(text) for text in texts]"
      ],
      "execution_count": 36,
      "outputs": []
    },
    {
      "cell_type": "code",
      "metadata": {
        "colab": {
          "base_uri": "https://localhost:8080/",
          "height": 35
        },
        "id": "FrCDsM-a_2RM",
        "outputId": "359b9c12-16af-46fb-cf4f-5b61da76b1e8"
      },
      "source": [
        "common_dictionary[4]"
      ],
      "execution_count": 37,
      "outputs": [
        {
          "output_type": "execute_result",
          "data": {
            "application/vnd.google.colaboratory.intrinsic+json": {
              "type": "string"
            },
            "text/plain": [
              "'банк'"
            ]
          },
          "metadata": {
            "tags": []
          },
          "execution_count": 37
        }
      ]
    },
    {
      "cell_type": "code",
      "metadata": {
        "colab": {
          "base_uri": "https://localhost:8080/"
        },
        "id": "gXlEhLLB_4n8",
        "outputId": "d707bad5-93d6-475c-a934-7977e1011898"
      },
      "source": [
        "common_dictionary.id2token"
      ],
      "execution_count": 38,
      "outputs": [
        {
          "output_type": "execute_result",
          "data": {
            "text/plain": [
              "{0: 'александр',\n",
              " 1: 'алексей',\n",
              " 2: 'андрей',\n",
              " 3: 'армеец',\n",
              " 4: 'банк',\n",
              " 5: 'баскетбол',\n",
              " 6: 'близкий',\n",
              " 7: 'блок',\n",
              " 8: 'борьба',\n",
              " 9: 'ватутин',\n",
              " 10: 'взаимодействие',\n",
              " 11: 'власть',\n",
              " 12: 'войти',\n",
              " 13: 'вячеслав',\n",
              " 14: 'генералполковник',\n",
              " 15: 'генеральный',\n",
              " 16: 'георгий',\n",
              " 17: 'гмк',\n",
              " 18: 'директор',\n",
              " 19: 'европа',\n",
              " 20: 'единогласно',\n",
              " 21: 'заместитель',\n",
              " 22: 'заседание',\n",
              " 23: 'защита',\n",
              " 24: 'иванов',\n",
              " 25: 'избрать',\n",
              " 26: 'исакович',\n",
              " 27: 'клиентский',\n",
              " 28: 'клуб',\n",
              " 29: 'конституционный',\n",
              " 30: 'корпоративный',\n",
              " 31: 'леонид',\n",
              " 32: 'лопат',\n",
              " 33: 'министр',\n",
              " 34: 'мир',\n",
              " 35: 'начальник',\n",
              " 36: 'никель',\n",
              " 37: 'новак',\n",
              " 38: 'норильский',\n",
              " 39: 'оао',\n",
              " 40: 'обсуждение',\n",
              " 41: 'округ',\n",
              " 42: 'ольга',\n",
              " 43: 'ооо',\n",
              " 44: 'орган',\n",
              " 45: 'основной',\n",
              " 46: 'пбк',\n",
              " 47: 'первый',\n",
              " 48: 'перспектива',\n",
              " 49: 'планирование',\n",
              " 50: 'плешаков',\n",
              " 51: 'политика',\n",
              " 52: 'полномочный',\n",
              " 53: 'полтавец',\n",
              " 54: 'полтавченко',\n",
              " 55: 'правительство',\n",
              " 56: 'правление',\n",
              " 57: 'председатель',\n",
              " 58: 'прессслужба',\n",
              " 59: 'принять',\n",
              " 60: 'провоторов',\n",
              " 61: 'проект',\n",
              " 62: 'развитие',\n",
              " 63: 'решение',\n",
              " 64: 'ростелеком',\n",
              " 65: 'руководитель',\n",
              " 66: 'рф',\n",
              " 67: 'седов',\n",
              " 68: 'сергей',\n",
              " 69: 'служба',\n",
              " 70: 'совет',\n",
              " 71: 'состав',\n",
              " 72: 'состояние',\n",
              " 73: 'социальный',\n",
              " 74: 'спортивный',\n",
              " 75: 'стратегия',\n",
              " 76: 'строй',\n",
              " 77: 'текущий',\n",
              " 78: 'терроризм',\n",
              " 79: 'трансаэро',\n",
              " 80: 'трёхкратный',\n",
              " 81: 'ук',\n",
              " 82: 'утверждение',\n",
              " 83: 'федеральный',\n",
              " 84: 'финансы',\n",
              " 85: 'фсб',\n",
              " 86: 'функция',\n",
              " 87: 'центральный',\n",
              " 88: 'цска',\n",
              " 89: 'чемпион',\n",
              " 90: 'эксигрок',\n",
              " 91: 'ru',\n",
              " 92: 'болельщик',\n",
              " 93: 'вести',\n",
              " 94: 'взрыв',\n",
              " 95: 'выбросить',\n",
              " 96: 'газета',\n",
              " 97: 'динамовец',\n",
              " 98: 'изз',\n",
              " 99: 'команда',\n",
              " 100: 'корреспондент',\n",
              " 101: 'кромка',\n",
              " 102: 'кубок',\n",
              " 103: 'матч',\n",
              " 104: 'минута',\n",
              " 105: 'онлайнтрансляция',\n",
              " 106: 'остановить',\n",
              " 107: 'остаться',\n",
              " 108: 'передавать',\n",
              " 109: 'петарда',\n",
              " 110: 'пиротехнический',\n",
              " 111: 'подтрибунный',\n",
              " 112: 'поле',\n",
              " 113: 'помещение',\n",
              " 114: 'приостановить',\n",
              " 115: 'пять',\n",
              " 116: 'россия',\n",
              " 117: 'снаряд',\n",
              " 118: 'судья',\n",
              " 119: 'торпедовец',\n",
              " 120: 'увести',\n",
              " 121: 'уйти',\n",
              " 122: 'финал',\n",
              " 123: 'футбол',\n",
              " 124: 'авангард',\n",
              " 125: 'атланта',\n",
              " 126: 'быстрый',\n",
              " 127: 'включиться',\n",
              " 128: 'выезд',\n",
              " 129: 'гол',\n",
              " 130: 'девять',\n",
              " 131: 'заборский',\n",
              " 132: 'забросить',\n",
              " 133: 'задать',\n",
              " 134: 'игра',\n",
              " 135: 'играть',\n",
              " 136: 'кхл',\n",
              " 137: 'настраиваться',\n",
              " 138: 'нижний',\n",
              " 139: 'новгород',\n",
              " 140: 'очко',\n",
              " 141: 'плохой',\n",
              " 142: 'поединок',\n",
              " 143: 'получиться',\n",
              " 144: 'прокомментировать',\n",
              " 145: 'против',\n",
              " 146: 'сторона',\n",
              " 147: 'темп',\n",
              " 148: 'томаш',\n",
              " 149: 'торпедо',\n",
              " 150: 'форвард',\n",
              " 151: 'хороший',\n",
              " 152: 'чемпионат',\n",
              " 153: 'афолаби',\n",
              " 154: 'бальда',\n",
              " 155: 'возможно',\n",
              " 156: 'всё',\n",
              " 157: 'второй',\n",
              " 158: 'выпустить',\n",
              " 159: 'главный',\n",
              " 160: 'го',\n",
              " 161: 'дать',\n",
              " 162: 'действительно',\n",
              " 163: 'жизнь',\n",
              " 164: 'закончить',\n",
              " 165: 'замена',\n",
              " 166: 'заменить',\n",
              " 167: 'заработать',\n",
              " 168: 'заявка',\n",
              " 169: 'здорово',\n",
              " 170: 'игрок',\n",
              " 171: 'идти',\n",
              " 172: 'конец',\n",
              " 173: 'красножанин',\n",
              " 174: 'крыло',\n",
              " 175: 'кубань',\n",
              " 176: 'лидер',\n",
              " 177: 'менее',\n",
              " 178: 'момент',\n",
              " 179: 'наверное',\n",
              " 180: 'настроение',\n",
              " 181: 'немало',\n",
              " 182: 'неплохо',\n",
              " 183: 'овладевать',\n",
              " 184: 'осложнить',\n",
              " 185: 'отпускной',\n",
              " 186: 'отсюда',\n",
              " 187: 'отыграть',\n",
              " 188: 'победа',\n",
              " 189: 'подряд',\n",
              " 190: 'позиция',\n",
              " 191: 'пока',\n",
              " 192: 'понемногу',\n",
              " 193: 'попасть',\n",
              " 194: 'попов',\n",
              " 195: 'почему',\n",
              " 196: 'пребывать',\n",
              " 197: 'преимущество',\n",
              " 198: 'привыкать',\n",
              " 199: 'самоуспокоенность',\n",
              " 200: 'сезон',\n",
              " 201: 'смочь',\n",
              " 202: 'создать',\n",
              " 203: 'спокойствие',\n",
              " 204: 'статус',\n",
              " 205: 'счёт',\n",
              " 206: 'сэ',\n",
              " 207: 'требоваться',\n",
              " 208: 'тренер',\n",
              " 209: 'тур',\n",
              " 210: 'уверенно',\n",
              " 211: 'успокаиваться',\n",
              " 212: 'хотеть',\n",
              " 213: 'целое',\n",
              " 214: 'частично',\n",
              " 215: 'чувствовать',\n",
              " 216: 'юрий',\n",
              " 217: 'балан',\n",
              " 218: 'вицегубернатор',\n",
              " 219: 'вицепрезидент',\n",
              " 220: 'владивостокский',\n",
              " 221: 'владимир',\n",
              " 222: 'дальневосточный',\n",
              " 223: 'должность',\n",
              " 224: 'занимать',\n",
              " 225: 'информировать',\n",
              " 226: 'край',\n",
              " 227: 'менеджер',\n",
              " 228: 'насонов',\n",
              " 229: 'оставаться',\n",
              " 230: 'официальный',\n",
              " 231: 'попечительский',\n",
              " 232: 'попрежний',\n",
              " 233: 'пост',\n",
              " 234: 'приморский',\n",
              " 235: 'сайт',\n",
              " 236: 'сандлера',\n",
              " 237: 'спартак',\n",
              " 238: 'упразднить',\n",
              " 239: 'член',\n",
              " 240: 'эдуард',\n",
              " 241: 'буцай',\n",
              " 242: 'входить',\n",
              " 243: 'гдеть',\n",
              " 244: 'главное',\n",
              " 245: 'дневный',\n",
              " 246: 'долго',\n",
              " 247: 'дотерпеть',\n",
              " 248: 'заслуженно',\n",
              " 249: 'ио',\n",
              " 250: 'начинаться',\n",
              " 251: 'непривычный',\n",
              " 252: 'очень',\n",
              " 253: 'период',\n",
              " 254: 'плюс',\n",
              " 255: 'победить',\n",
              " 256: 'поблагодарить',\n",
              " 257: 'показать',\n",
              " 258: 'появиться',\n",
              " 259: 'правильно',\n",
              " 260: 'прежде',\n",
              " 261: 'пропустить',\n",
              " 262: 'разбежаться',\n",
              " 263: 'ребята',\n",
              " 264: 'регулярный',\n",
              " 265: 'связать',\n",
              " 266: 'сибирь',\n",
              " 267: 'скажем',\n",
              " 268: 'смена',\n",
              " 269: 'сонный',\n",
              " 270: 'третий',\n",
              " 271: 'удачно',\n",
              " 272: 'югра',\n",
              " 273: 'будник',\n",
              " 274: 'ворскла',\n",
              " 275: 'встреча',\n",
              " 276: 'голый',\n",
              " 277: 'громов',\n",
              " 278: 'дом',\n",
              " 279: 'завершиться',\n",
              " 280: 'запорожский',\n",
              " 281: 'материал',\n",
              " 282: 'металлург',\n",
              " 283: 'новость',\n",
              " 284: 'поражение',\n",
              " 285: 'посмотреть',\n",
              " 286: 'потерпеть',\n",
              " 287: 'разгромный',\n",
              " 288: 'страница',\n",
              " 289: 'украина',\n",
              " 290: 'украинский',\n",
              " 291: 'чеснаковы',\n",
              " 292: 'австрия',\n",
              " 293: 'бол',\n",
              " 294: 'бьюгстадо',\n",
              " 295: 'вельзер',\n",
              " 296: 'день',\n",
              " 297: 'джонсон',\n",
              " 298: 'иберер',\n",
              " 299: 'игровой',\n",
              " 300: 'кристо',\n",
              " 301: 'латуз',\n",
              " 302: 'леблан',\n",
              " 303: 'лукас',\n",
              " 304: 'макбэйн',\n",
              " 305: 'мосс',\n",
              " 306: 'одержать',\n",
              " 307: 'пайнтнер',\n",
              " 308: 'палушать',\n",
              " 309: 'сборная',\n",
              " 310: 'стартовый',\n",
              " 311: 'стэплтон',\n",
              " 312: 'сша',\n",
              " 313: 'фолкнуть',\n",
              " 314: 'хоккей',\n",
              " 315: 'хундертпфунда',\n",
              " 316: 'штястный',\n",
              " 317: 'шуллера',\n",
              " 318: 'больший',\n",
              " 319: 'бывший',\n",
              " 320: 'взять',\n",
              " 321: 'внести',\n",
              " 322: 'вырасти',\n",
              " 323: 'выступление',\n",
              " 324: 'дарюс',\n",
              " 325: 'защитник',\n",
              " 326: 'илья',\n",
              " 327: 'илюха',\n",
              " 328: 'каспарайтис',\n",
              " 329: 'качество',\n",
              " 330: 'ковальчук',\n",
              " 331: 'латвия',\n",
              " 332: 'малкин',\n",
              " 333: 'национальный',\n",
              " 334: 'ожидание',\n",
              " 335: 'ознакомиться',\n",
              " 336: 'поделиться',\n",
              " 337: 'пойти',\n",
              " 338: 'последний',\n",
              " 339: 'потрясающе',\n",
              " 340: 'прошлый',\n",
              " 341: 'сильно',\n",
              " 342: 'статистика',\n",
              " 343: 'выиграть',\n",
              " 344: 'данил',\n",
              " 345: 'делать',\n",
              " 346: 'добиться',\n",
              " 347: 'думать',\n",
              " 348: 'жиляев',\n",
              " 349: 'завтра',\n",
              " 350: 'зоран',\n",
              " 351: 'известно',\n",
              " 352: 'исполниться',\n",
              " 353: 'капитан',\n",
              " 354: 'касаться',\n",
              " 355: 'крупный',\n",
              " 356: 'надеяться',\n",
              " 357: 'подарок',\n",
              " 358: 'пожелать',\n",
              " 359: 'полузащитник',\n",
              " 360: 'произнести',\n",
              " 361: 'просто',\n",
              " 362: 'речь',\n",
              " 363: 'сделать',\n",
              " 364: 'сербский',\n",
              " 365: 'серьёзный',\n",
              " 366: 'слуцкий',\n",
              " 367: 'терек',\n",
              " 368: 'тошич',\n",
              " 369: 'травма',\n",
              " 370: 'удачный',\n",
              " 371: 'ушибить',\n",
              " 372: 'характер',\n",
              " 373: 'хромать',\n",
              " 374: 'чемпионство',\n",
              " 375: 'шаг',\n",
              " 376: 'барселона',\n",
              " 377: 'бетис',\n",
              " 378: 'вальдес',\n",
              " 379: 'виктор',\n",
              " 380: 'воспаление',\n",
              " 381: 'вратарь',\n",
              " 382: 'испания',\n",
              " 383: 'каталонец',\n",
              " 384: 'кость',\n",
              " 385: 'левый',\n",
              " 386: 'нога',\n",
              " 387: 'подошвенный',\n",
              " 388: 'стопа',\n",
              " 389: 'фасциит',\n",
              " 390: 'анастасия',\n",
              " 391: 'испанка',\n",
              " 392: 'карл',\n",
              " 393: 'обыграть',\n",
              " 394: 'оэйраша',\n",
              " 395: 'павлюченков',\n",
              " 396: 'победительница',\n",
              " 397: 'призовой',\n",
              " 398: 'решающий',\n",
              " 399: 'россиянка',\n",
              " 400: 'суареснаварро',\n",
              " 401: 'теннис',\n",
              " 402: 'турнир',\n",
              " 403: 'тыс',\n",
              " 404: 'фонд',\n",
              " 405: 'анжи',\n",
              " 406: 'бедро',\n",
              " 407: 'вернуться',\n",
              " 408: 'волга',\n",
              " 409: 'задний',\n",
              " 410: 'ивуариец',\n",
              " 411: 'казанский',\n",
              " 412: 'лассина',\n",
              " 413: 'махачкала',\n",
              " 414: 'нападать',\n",
              " 415: 'общий',\n",
              " 416: 'поверхность',\n",
              " 417: 'премьерлига',\n",
              " 418: 'рамка',\n",
              " 419: 'российский',\n",
              " 420: 'рубин',\n",
              " 421: 'траор',\n",
              " 422: 'тренировка',\n",
              " 423: 'бохара',\n",
              " 424: 'железнодорожник',\n",
              " 425: 'завершить',\n",
              " 426: 'касейдо',\n",
              " 427: 'контрольный',\n",
              " 428: 'кучук',\n",
              " 429: 'локомотив',\n",
              " 430: 'марибора',\n",
              " 431: 'местный',\n",
              " 432: 'металлист',\n",
              " 433: 'московский',\n",
              " 434: 'подопечный',\n",
              " 435: 'предупреждеие',\n",
              " 436: 'проиграть',\n",
              " 437: 'сбор',\n",
              " 438: 'следующий',\n",
              " 439: 'словения',\n",
              " 440: 'соперник',\n",
              " 441: 'таварес',\n",
              " 442: 'торбинский',\n",
              " 443: 'учебнотренировочный',\n",
              " 444: 'харьковский',\n",
              " 445: 'хорватский',\n",
              " 446: 'atp',\n",
              " 447: 'важный',\n",
              " 448: 'возраст',\n",
              " 449: 'возрастной',\n",
              " 450: 'вокруг',\n",
              " 451: 'вообще',\n",
              " 452: 'врач',\n",
              " 453: 'далёкий',\n",
              " 454: 'действовать',\n",
              " 455: 'джокович',\n",
              " 456: 'достаточно',\n",
              " 457: 'желание',\n",
              " 458: 'круг',\n",
              " 459: 'мнение',\n",
              " 460: 'множество',\n",
              " 461: 'мудрость',\n",
              " 462: 'начинать',\n",
              " 463: 'немец',\n",
              " 464: 'нужно',\n",
              " 465: 'оно',\n",
              " 466: 'опыт',\n",
              " 467: 'оценивать',\n",
              " 468: 'питание',\n",
              " 469: 'позволять',\n",
              " 470: 'понимать',\n",
              " 471: 'правило',\n",
              " 472: 'правильный',\n",
              " 473: 'приводить',\n",
              " 474: 'ракетка',\n",
              " 475: 'сила',\n",
              " 476: 'собирать',\n",
              " 477: 'согласно',\n",
              " 478: 'специалист',\n",
              " 479: 'существовать',\n",
              " 480: 'сыграть',\n",
              " 481: 'теннисист',\n",
              " 482: 'ти',\n",
              " 483: 'томми',\n",
              " 484: 'трезво',\n",
              " 485: 'уимблдон',\n",
              " 486: 'успех',\n",
              " 487: 'фактор',\n",
              " 488: 'физиотерапевт',\n",
              " 489: 'форма',\n",
              " 490: 'хаас',\n",
              " 491: 'четвёртый',\n",
              " 492: 'гомис',\n",
              " 493: 'груда',\n",
              " 494: 'дюмерс',\n",
              " 495: 'женский',\n",
              " 496: 'литтл',\n",
              " 497: 'место',\n",
              " 498: 'одолеть',\n",
              " 499: 'орша',\n",
              " 500: 'сербия',\n",
              " 501: 'торренс',\n",
              " 502: 'турция',\n",
              " 503: 'франция',\n",
              " 504: 'французский',\n",
              " 505: 'шаргай',\n",
              " 506: 'cbs',\n",
              " 507: 'агент',\n",
              " 508: 'айлендерс',\n",
              " 509: 'взамен',\n",
              " 510: 'выбрать',\n",
              " 511: 'драфт',\n",
              " 512: 'клаттербак',\n",
              " 513: 'количество',\n",
              " 514: 'контракт',\n",
              " 515: 'кэла',\n",
              " 516: 'летний',\n",
              " 517: 'миннесота',\n",
              " 518: 'минувший',\n",
              " 519: 'молодой',\n",
              " 520: 'набрать',\n",
              " 521: 'нидеррайтер',\n",
              " 522: 'нино',\n",
              " 523: 'новый',\n",
              " 524: 'номер',\n",
              " 525: 'нхл',\n",
              " 526: 'обменять',\n",
              " 527: 'ограниченно',\n",
              " 528: 'островитянин',\n",
              " 529: 'переходить',\n",
              " 530: 'поэтому',\n",
              " 531: 'приём',\n",
              " 532: 'пятый',\n",
              " 533: 'свободный',\n",
              " 534: 'силовой',\n",
              " 535: 'jcom',\n",
              " 536: 'активный',\n",
              " 537: 'бродый',\n",
              " 538: 'ванкувер',\n",
              " 539: 'выбор',\n",
              " 540: 'голкипер',\n",
              " 541: 'девятый',\n",
              " 542: 'дьявол',\n",
              " 543: 'завершение',\n",
              " 544: 'итоговый',\n",
              " 545: 'канадский',\n",
              " 546: 'карьера',\n",
              " 547: 'корь',\n",
              " 548: 'кэнакс',\n",
              " 549: 'луонго',\n",
              " 550: 'мартин',\n",
              " 551: 'многоопытный',\n",
              " 552: 'найти',\n",
              " 553: 'ньюджерси',\n",
              " 554: 'обмен',\n",
              " 555: 'покинуть',\n",
              " 556: 'призвать',\n",
              " 557: 'пристанище',\n",
              " 558: 'раунд',\n",
              " 559: 'роберто',\n",
              " 560: 'солидный',\n",
              " 561: 'удаться',\n",
              " 562: 'шнайдер',\n",
              " 563: 'sportsru',\n",
              " 564: 'аккуратный',\n",
              " 565: 'беспокоить',\n",
              " 566: 'большой',\n",
              " 567: 'видеть',\n",
              " 568: 'десять',\n",
              " 569: 'динамо',\n",
              " 570: 'достойно',\n",
              " 571: 'заслуживать',\n",
              " 572: 'зенит',\n",
              " 573: 'киевлянин',\n",
              " 574: 'киевский',\n",
              " 575: 'кондиция',\n",
              " 576: 'лучано',\n",
              " 577: 'мешать',\n",
              " 578: 'назад',\n",
              " 579: 'например',\n",
              " 580: 'начать',\n",
              " 581: 'неприятно',\n",
              " 582: 'объединить',\n",
              " 583: 'отличие',\n",
              " 584: 'подготовка',\n",
              " 585: 'проигрывать',\n",
              " 586: 'происходить',\n",
              " 587: 'ранний',\n",
              " 588: 'семь',\n",
              " 589: 'спаллетти',\n",
              " 590: 'сражаться',\n",
              " 591: 'травмироваться',\n",
              " 592: 'увидеть',\n",
              " 593: 'улучшение',\n",
              " 594: 'физический',\n",
              " 595: 'хотя',\n",
              " 596: 'широков',\n",
              " 597: 'алвес',\n",
              " 598: 'альба',\n",
              " 599: 'арбелоа',\n",
              " 600: 'бразилия',\n",
              " 601: 'бразильский',\n",
              " 602: 'бускетс',\n",
              " 603: 'давид',\n",
              " 604: 'дань',\n",
              " 605: 'жулио',\n",
              " 606: 'иньест',\n",
              " 607: 'касильяс',\n",
              " 608: 'конфедерация',\n",
              " 609: 'луис',\n",
              " 610: 'маракан',\n",
              " 611: 'марио',\n",
              " 612: 'марсесть',\n",
              " 613: 'мат',\n",
              " 614: 'мск',\n",
              " 615: 'неймара',\n",
              " 616: 'оскар',\n",
              " 617: 'паулиньо',\n",
              " 618: 'педро',\n",
              " 619: 'пик',\n",
              " 620: 'прямой',\n",
              " 621: 'рамос',\n",
              " 622: 'риодежанейро',\n",
              " 623: 'сезара',\n",
              " 624: 'силва',\n",
              " 625: 'состояться',\n",
              " 626: 'стадион',\n",
              " 627: 'текстовый',\n",
              " 628: 'торрес',\n",
              " 629: 'тьяго',\n",
              " 630: 'филья',\n",
              " 631: 'финальный',\n",
              " 632: 'фред',\n",
              " 633: 'хавить',\n",
              " 634: 'халк',\n",
              " 635: 'эрнанести',\n",
              " 636: 'абсолютный',\n",
              " 637: 'ажиотаж',\n",
              " 638: 'алла',\n",
              " 639: 'борисович',\n",
              " 640: 'вид',\n",
              " 641: 'владелец',\n",
              " 642: 'выразить',\n",
              " 643: 'высказывание',\n",
              " 644: 'газзаев',\n",
              " 645: 'господин',\n",
              " 646: 'дабы',\n",
              " 647: 'деньга',\n",
              " 648: 'дорогой',\n",
              " 649: 'зато',\n",
              " 650: 'идея',\n",
              " 651: 'иностранец',\n",
              " 652: 'легионер',\n",
              " 653: 'лимит',\n",
              " 654: 'любимый',\n",
              " 655: 'намерить',\n",
              " 656: 'несерьёзно',\n",
              " 657: 'никто',\n",
              " 658: 'оба',\n",
              " 659: 'объединение',\n",
              " 660: 'организатор',\n",
              " 661: 'оргкомитет',\n",
              " 662: 'относительно',\n",
              " 663: 'перестать',\n",
              " 664: 'петь',\n",
              " 665: 'позитив',\n",
              " 666: 'построение',\n",
              " 667: 'потерять',\n",
              " 668: 'предлагать',\n",
              " 669: 'привести',\n",
              " 670: 'принцип',\n",
              " 671: 'приобрести',\n",
              " 672: 'приходить',\n",
              " 673: 'проводить',\n",
              " 674: 'произойти',\n",
              " 675: 'проституировать',\n",
              " 676: 'противоречить',\n",
              " 677: 'прямо',\n",
              " 678: 'пугачёв',\n",
              " 679: 'пусть',\n",
              " 680: 'разговор',\n",
              " 681: 'рфс',\n",
              " 682: 'свидетельствовать',\n",
              " 683: 'свобода',\n",
              " 684: 'скорее',\n",
              " 685: 'собираться',\n",
              " 686: 'советский',\n",
              " 687: 'спасение',\n",
              " 688: 'спорт',\n",
              " 689: 'сразу',\n",
              " 690: 'стороженко',\n",
              " 691: 'сторонник',\n",
              " 692: 'тонуть',\n",
              " 693: 'тысяча',\n",
              " 694: 'убийство',\n",
              " 695: 'уничтожение',\n",
              " 696: 'федерация',\n",
              " 697: 'ффу',\n",
              " 698: 'ходить',\n",
              " 699: 'черта',\n",
              " 700: 'юношеский',\n",
              " 701: 'бегать',\n",
              " 702: 'блохин',\n",
              " 703: 'временами',\n",
              " 704: 'всетаки',\n",
              " 705: 'вчера',\n",
              " 706: 'выглядеть',\n",
              " 707: 'зритель',\n",
              " 708: 'километраж',\n",
              " 709: 'маленький',\n",
              " 710: 'меняться',\n",
              " 711: 'нагрузка',\n",
              " 712: 'нужный',\n",
              " 713: 'объём',\n",
              " 714: 'олег',\n",
              " 715: 'план',\n",
              " 716: 'поехать',\n",
              " 717: 'поздравлять',\n",
              " 718: 'показывать',\n",
              " 719: 'покупать',\n",
              " 720: 'проявлять',\n",
              " 721: 'роль',\n",
              " 722: 'сбрасывать',\n",
              " 723: 'ставить',\n",
              " 724: 'столько',\n",
              " 725: 'стремиться',\n",
              " 726: 'тактика',\n",
              " 727: 'тяжёлый',\n",
              " 728: 'украинец',\n",
              " 729: 'уровень',\n",
              " 730: 'усталость',\n",
              " 731: 'установка',\n",
              " 732: 'чемуть',\n",
              " 733: 'анатолий',\n",
              " 734: 'аршавин',\n",
              " 735: 'аршавино',\n",
              " 736: 'безнадёжно',\n",
              " 737: 'бойцовский',\n",
              " 738: 'видно',\n",
              " 739: 'возвращение',\n",
              " 740: 'впечатление',\n",
              " 741: 'вряд',\n",
              " 742: 'встретить',\n",
              " 743: 'довольный',\n",
              " 744: 'дух',\n",
              " 745: 'знакомство',\n",
              " 746: 'мастерство',\n",
              " 747: 'набирать',\n",
              " 748: 'начаться',\n",
              " 749: 'небольшой',\n",
              " 750: 'некоторый',\n",
              " 751: 'никуда',\n",
              " 752: 'опытный',\n",
              " 753: 'положительный',\n",
              " 754: 'понятно',\n",
              " 755: 'приятно',\n",
              " 756: 'проблема',\n",
              " 757: 'профессионализм',\n",
              " 758: 'реакция',\n",
              " 759: 'русский',\n",
              " 760: 'тимощука',\n",
              " 761: 'удача',\n",
              " 762: 'уста',\n",
              " 763: 'человеческий',\n",
              " 764: 'возвращаться',\n",
              " 765: 'впереди',\n",
              " 766: 'вывод',\n",
              " 767: 'жаль',\n",
              " 768: 'заметно',\n",
              " 769: 'ломбертс',\n",
              " 770: 'мяч',\n",
              " 771: 'неплохой',\n",
              " 772: 'непросто',\n",
              " 773: 'николас',\n",
              " 774: 'особенно',\n",
              " 775: 'отдавать',\n",
              " 776: 'отличный',\n",
              " 777: 'половина',\n",
              " 778: 'свежий',\n",
              " 779: 'старт',\n",
              " 780: 'стоить',\n",
              " 781: 'тайм',\n",
              " 782: 'тренироваться',\n",
              " 783: 'тренировочный',\n",
              " 784: 'устать',\n",
              " 785: 'футболист',\n",
              " 786: 'частый',\n",
              " 787: 'atio',\n",
              " 788: 'sb',\n",
              " 789: 'америка',\n",
              " 790: 'амрия',\n",
              " 791: 'баффало',\n",
              " 792: 'выступать',\n",
              " 793: 'задор',\n",
              " 794: 'затем',\n",
              " 795: 'красный',\n",
              " 796: 'лига',\n",
              " 797: 'лондон',\n",
              " 798: 'мхл',\n",
              " 799: 'найтс',\n",
              " 800: 'никита',\n",
              " 801: 'новичок',\n",
              " 802: 'онтарио',\n",
              " 803: 'северный',\n",
              " 804: 'уехать',\n",
              " 805: 'хоккеист',\n",
              " 806: 'хоккейный',\n",
              " 807: 'аплодировать',\n",
              " 808: 'армянский',\n",
              " 809: 'бавария',\n",
              " 810: 'биться',\n",
              " 811: 'бомбардир',\n",
              " 812: 'генрих',\n",
              " 813: 'горняк',\n",
              " 814: 'действие',\n",
              " 815: 'демонстрировать',\n",
              " 816: 'донецкий',\n",
              " 817: 'забивать',\n",
              " 818: 'заявление',\n",
              " 819: 'иной',\n",
              " 820: 'исчезнуть',\n",
              " 821: 'каждый',\n",
              " 822: 'какиеть',\n",
              " 823: 'комментировать',\n",
              " 824: 'ливерпуль',\n",
              " 825: 'лучёска',\n",
              " 826: 'мадридский',\n",
              " 827: 'менять',\n",
              " 828: 'мирча',\n",
              " 829: 'мхитарян',\n",
              " 830: 'опуститься',\n",
              " 831: 'остальной',\n",
              " 832: 'отпуск',\n",
              " 833: 'оценить',\n",
              " 834: 'ошибка',\n",
              " 835: 'переговоры',\n",
              " 836: 'переход',\n",
              " 837: 'подумать',\n",
              " 838: 'помогать',\n",
              " 839: 'понять',\n",
              " 840: 'появляться',\n",
              " 841: 'превосходить',\n",
              " 842: 'призывать',\n",
              " 843: 'продлить',\n",
              " 844: 'реал',\n",
              " 845: 'редко',\n",
              " 846: 'руководство',\n",
              " 847: 'самовольно',\n",
              " 848: 'сильный',\n",
              " 849: 'совершать',\n",
              " 850: 'спина',\n",
              " 851: 'травмировать',\n",
              " 852: 'хотеться',\n",
              " 853: 'шахтёр',\n",
              " 854: 'штрафной',\n",
              " 855: 'бельханда',\n",
              " 856: 'вживую',\n",
              " 857: 'впервые',\n",
              " 858: 'джермейн',\n",
              " 859: 'добавить',\n",
              " 860: 'дьемерси',\n",
              " 861: 'интересно',\n",
              " 862: 'интересный',\n",
              " 863: 'краска',\n",
              " 864: 'ленс',\n",
              " 865: 'мбокани',\n",
              " 866: 'официально',\n",
              " 867: 'перерыв',\n",
              " 868: 'представить',\n",
              " 869: 'юнести',\n",
              " 870: 'адам',\n",
              " 871: 'аз',\n",
              " 872: 'аякс',\n",
              " 873: 'вицечемпион',\n",
              " 874: 'голландия',\n",
              " 875: 'достигнуть',\n",
              " 876: 'забить',\n",
              " 877: 'заинтересованный',\n",
              " 878: 'махер',\n",
              " 879: 'молодёжный',\n",
              " 880: 'отдать',\n",
              " 881: 'передача',\n",
              " 882: 'подписать',\n",
              " 883: 'помимо',\n",
              " 884: 'принципиальный',\n",
              " 885: 'псв',\n",
              " 886: 'рассчитать',\n",
              " 887: 'результативный',\n",
              " 888: 'соглашение',\n",
              " 889: 'трансфер',\n",
              " 890: 'выкладываться',\n",
              " 891: 'выходить',\n",
              " 892: 'забывать',\n",
              " 893: 'качественный',\n",
              " 894: 'концентрация',\n",
              " 895: 'любой',\n",
              " 896: 'могилевец',\n",
              " 897: 'независимо',\n",
              " 898: 'неофициальный',\n",
              " 899: 'новинка',\n",
              " 900: 'обидно',\n",
              " 901: 'павел',\n",
              " 902: 'правда',\n",
              " 903: 'прийти',\n",
              " 904: 'реализация',\n",
              " 905: 'соревнование',\n",
              " 906: 'стараться',\n",
              " 907: 'сто',\n",
              " 908: 'хватить',\n",
              " 909: 'шанс',\n",
              " 910: 'эмоция',\n",
              " 911: 'значит',\n",
              " 912: 'полный',\n",
              " 913: 'преддрафтовый',\n",
              " 914: 'признаться',\n",
              " 915: 'равно',\n",
              " 916: 'страшный',\n",
              " 917: 'сюрприз',\n",
              " 918: 'тест',\n",
              " 919: 'торонто',\n",
              " 920: 'yahoosports',\n",
              " 921: 'будущее',\n",
              " 922: 'вариант',\n",
              " 923: 'возможный',\n",
              " 924: 'гиллис',\n",
              " 925: 'движение',\n",
              " 926: 'именно',\n",
              " 927: 'искать',\n",
              " 928: 'курс',\n",
              " 929: 'майк',\n",
              " 930: 'молодёжь',\n",
              " 931: 'необходимо',\n",
              " 932: 'перспективный',\n",
              " 933: 'постоянно',\n",
              " 934: 'постоянный',\n",
              " 935: 'предложение',\n",
              " 936: 'прекрасный',\n",
              " 937: 'приспосабливаться',\n",
              " 938: 'причина',\n",
              " 939: 'различный',\n",
              " 940: 'рассматривать',\n",
              " 941: 'рынок',\n",
              " 942: 'случиться',\n",
              " 943: 'слушать',\n",
              " 944: 'событие',\n",
              " 945: 'трансферный',\n",
              " 946: 'уверенный',\n",
              " 947: 'чтоть',\n",
              " 948: 'балл',\n",
              " 949: 'джей',\n",
              " 950: 'дженять',\n",
              " 951: 'заполучить',\n",
              " 952: 'использовать',\n",
              " 953: 'каролина',\n",
              " 954: 'клинок',\n",
              " 955: 'комфер',\n",
              " 956: 'направление',\n",
              " 957: 'обратный',\n",
              " 958: 'право',\n",
              " 959: 'проследовать',\n",
              " 960: 'секер',\n",
              " 961: 'блэкхоукс',\n",
              " 962: 'болланд',\n",
              " 963: 'двукратный',\n",
              " 964: 'дэйв',\n",
              " 965: 'нынешний',\n",
              " 966: 'обладатель',\n",
              " 967: 'плейофф',\n",
              " 968: 'присоединиться',\n",
              " 969: 'стэнли',\n",
              " 970: 'чикаго',\n",
              " 971: 'чикагский',\n",
              " 972: 'twitter',\n",
              " 973: 'австрийский',\n",
              " 974: 'выходной',\n",
              " 975: 'дагестанский',\n",
              " 976: 'денисов',\n",
              " 977: 'игорь',\n",
              " 978: 'ирднинга',\n",
              " 979: 'леоганг',\n",
              " 980: 'махачкалинский',\n",
              " 981: 'окончание',\n",
              " 982: 'прибыть',\n",
              " 983: 'расположение',\n",
              " 984: 'согласовать',\n",
              " 985: 'условие',\n",
              " 986: 'эксполузащитник',\n",
              " 987: 'болеть',\n",
              " 988: 'буффон',\n",
              " 989: 'вратарский',\n",
              " 990: 'дасаев',\n",
              " 991: 'детство',\n",
              " 992: 'кан',\n",
              " 993: 'коллега',\n",
              " 994: 'нигматуллин',\n",
              " 995: 'нравиться',\n",
              " 996: 'оливер',\n",
              " 997: 'очередь',\n",
              " 998: 'рыжик',\n",
              " 999: 'симпатизировать',\n",
              " ...}"
            ]
          },
          "metadata": {
            "tags": []
          },
          "execution_count": 38
        }
      ]
    },
    {
      "cell_type": "code",
      "metadata": {
        "colab": {
          "base_uri": "https://localhost:8080/"
        },
        "id": "7K3YtFLTAB_5",
        "outputId": "9e57c7c7-6077-45e3-da29-2aa19a0172c2"
      },
      "source": [
        "common_dictionary.doc2bow(['баскетбол' ,'баскетбол' ,'наше', 'все'], allow_update=True)"
      ],
      "execution_count": 39,
      "outputs": [
        {
          "output_type": "execute_result",
          "data": {
            "text/plain": [
              "[(5, 2), (135645, 1), (135646, 1)]"
            ]
          },
          "metadata": {
            "tags": []
          },
          "execution_count": 39
        }
      ]
    },
    {
      "cell_type": "code",
      "metadata": {
        "colab": {
          "base_uri": "https://localhost:8080/"
        },
        "id": "0rl1SJ2uACqM",
        "outputId": "17eea57e-4b83-48ef-86ca-1fa1cb5f81aa"
      },
      "source": [
        "common_corpus[0][0]"
      ],
      "execution_count": 40,
      "outputs": [
        {
          "output_type": "execute_result",
          "data": {
            "text/plain": [
              "(0, 2)"
            ]
          },
          "metadata": {
            "tags": []
          },
          "execution_count": 40
        }
      ]
    },
    {
      "cell_type": "code",
      "metadata": {
        "colab": {
          "base_uri": "https://localhost:8080/"
        },
        "id": "_xd00izIAEmN",
        "outputId": "b14a50e0-cba6-47de-e7c6-0f49ebe93650"
      },
      "source": [
        "len(texts[0])"
      ],
      "execution_count": 41,
      "outputs": [
        {
          "output_type": "execute_result",
          "data": {
            "text/plain": [
              "113"
            ]
          },
          "metadata": {
            "tags": []
          },
          "execution_count": 41
        }
      ]
    },
    {
      "cell_type": "code",
      "metadata": {
        "id": "zykH6gQMAGY3"
      },
      "source": [
        "N_topic = 10 # число тем - гиперпараметр"
      ],
      "execution_count": 42,
      "outputs": []
    },
    {
      "cell_type": "code",
      "metadata": {
        "colab": {
          "base_uri": "https://localhost:8080/"
        },
        "id": "aXWXLyjGAIjc",
        "outputId": "0c095895-828c-49c6-f71b-e88b1178fea6"
      },
      "source": [
        "%%time\n",
        "from gensim.models import LdaModel\n",
        "# Train the model on the corpus.\n",
        "lda = LdaModel(common_corpus, num_topics=N_topic, id2word=common_dictionary)#, passes=10)"
      ],
      "execution_count": 43,
      "outputs": [
        {
          "output_type": "stream",
          "text": [
            "CPU times: user 34 s, sys: 6.21 s, total: 40.2 s\n",
            "Wall time: 33.4 s\n"
          ],
          "name": "stdout"
        }
      ]
    },
    {
      "cell_type": "code",
      "metadata": {
        "id": "JTDgNN2fALDB"
      },
      "source": [
        "from gensim.test.utils import datapath\n",
        "# Save model to disk.\n",
        "temp_file = datapath(\"model.lda\")\n",
        "lda.save(temp_file)\n",
        "\n",
        "# Load a potentially pretrained model from disk.\n",
        "lda = LdaModel.load(temp_file)"
      ],
      "execution_count": 44,
      "outputs": []
    },
    {
      "cell_type": "code",
      "metadata": {
        "colab": {
          "base_uri": "https://localhost:8080/"
        },
        "id": "VLV-n6RiANW1",
        "outputId": "90f94ca0-364a-4425-d7b1-2b72ffec5f66"
      },
      "source": [
        "# Create a new corpus, made of previously unseen documents.\n",
        "other_texts = [t for t in news['title'].iloc[:3]]\n",
        "other_corpus = [common_dictionary.doc2bow(text) for text in other_texts]\n",
        "\n",
        "unseen_doc = other_corpus[2]\n",
        "print(other_texts[2])\n",
        "lda[unseen_doc] "
      ],
      "execution_count": 45,
      "outputs": [
        {
          "output_type": "stream",
          "text": [
            "['форвард', 'авангард', 'томаш', 'заборский', 'прокомментировать', 'игра', 'команда', 'матч', 'чемпионат', 'кхл', 'против', 'атланта', 'плохой', 'матч', 'нижний', 'новгород', 'против', 'торпедо', 'настраиваться', 'первый', 'минута', 'включиться', 'заборский', 'получиться', 'забросить', 'быстрый', 'гол', 'задать', 'хороший', 'темп', 'поединок', 'играть', 'хороший', 'сторона', 'пять', 'очко', 'выезд', 'девять', 'хороший']\n"
          ],
          "name": "stdout"
        },
        {
          "output_type": "execute_result",
          "data": {
            "text/plain": [
              "[(3, 0.11247601), (7, 0.21995454), (9, 0.6500658)]"
            ]
          },
          "metadata": {
            "tags": []
          },
          "execution_count": 45
        }
      ]
    },
    {
      "cell_type": "code",
      "metadata": {
        "colab": {
          "base_uri": "https://localhost:8080/"
        },
        "id": "0zaXdojqASj0",
        "outputId": "763b73b3-7210-46ed-a174-3720aa235967"
      },
      "source": [
        "x=lda.show_topics(num_topics=N_topic, num_words=15,formatted=False)\n",
        "topics_words = [(tp[0], [wd[0] for wd in tp[1]]) for tp in x]\n",
        "\n",
        "#Below Code Prints Only Words \n",
        "for topic,words in topics_words:\n",
        "    print(\"topic_{}: \".format(topic)+\" \".join(words))"
      ],
      "execution_count": 46,
      "outputs": [
        {
          "output_type": "stream",
          "text": [
            "topic_0: россия москва глава российский вопрос закон ребёнок крым решение пенсия день рак депутат квартира женщина\n",
            "topic_1: учёный всё исследование рост большой уровень первый гражданин новый ребёнок риск очень жизнь мозг проблема\n",
            "topic_2: учёный исследователь научный фонд земля исследование область турист ребёнок смерть место тыс день обнаружить первый\n",
            "topic_3: млн тыс составить руб рынок стоимость доллар журнал банк ставка составлять ген общий новый продажа\n",
            "topic_4: ракета космический первый орбита животное взрыв произойти планета солнечный asa вода запуск торговый самолёт пациент\n",
            "topic_5: погибнуть тело убийство египет мужчина следователь фильм космонавт инвестиция восток ссср бомба юг днк второй\n",
            "topic_6: россия российский сша военный газ система власть новый сторона глава территория американский данные санкция рф\n",
            "topic_7: украина украинский россия население научный всё поверхность новый банк эксперт журнал иметь киев метод мнение\n",
            "topic_8: млрд рубль самолёт российский нефть корабль полёт средство газета цб авиакомпания баррель медведев добыча белый\n",
            "topic_9: снижение университет статья проверка банк всё фестиваль форум рубль первый журнал эксперимент программа автор москва\n"
          ],
          "name": "stdout"
        }
      ]
    },
    {
      "cell_type": "code",
      "metadata": {
        "colab": {
          "base_uri": "https://localhost:8080/"
        },
        "id": "YswkbpEHAUds",
        "outputId": "300dc26a-ad2a-459a-d0e5-a6a71897378b"
      },
      "source": [
        "news['title'].iloc[5]"
      ],
      "execution_count": 47,
      "outputs": [
        {
          "output_type": "execute_result",
          "data": {
            "text/plain": [
              "['ио',\n",
              " 'главное',\n",
              " 'тренер',\n",
              " 'вячеслав',\n",
              " 'буцай',\n",
              " 'прокомментировать',\n",
              " 'победа',\n",
              " 'югра',\n",
              " 'матч',\n",
              " 'регулярный',\n",
              " 'чемпионат',\n",
              " 'кхл',\n",
              " 'прежде',\n",
              " 'хотеть',\n",
              " 'поблагодарить',\n",
              " 'ребята',\n",
              " 'команда',\n",
              " 'передавать',\n",
              " 'официальный',\n",
              " 'сайт',\n",
              " 'югра',\n",
              " 'игра',\n",
              " 'начинаться',\n",
              " 'очень',\n",
              " 'удачно',\n",
              " 'пропустить',\n",
              " 'гол',\n",
              " 'первый',\n",
              " 'смена',\n",
              " 'долго',\n",
              " 'входить',\n",
              " 'игра',\n",
              " 'связать',\n",
              " 'дневный',\n",
              " 'матч',\n",
              " 'непривычный',\n",
              " 'плюс',\n",
              " 'третий',\n",
              " 'матч',\n",
              " 'сибирь',\n",
              " 'гдеть',\n",
              " 'ребята',\n",
              " 'чувствовать',\n",
              " 'скажем',\n",
              " 'сонный',\n",
              " 'второй',\n",
              " 'третий',\n",
              " 'период',\n",
              " 'показать',\n",
              " 'разбежаться',\n",
              " 'играть',\n",
              " 'правильно',\n",
              " 'появиться',\n",
              " 'момент',\n",
              " 'дотерпеть',\n",
              " 'заслуженно',\n",
              " 'победить']"
            ]
          },
          "metadata": {
            "tags": []
          },
          "execution_count": 47
        }
      ]
    },
    {
      "cell_type": "code",
      "metadata": {
        "colab": {
          "base_uri": "https://localhost:8080/"
        },
        "id": "FETGLXkHAXlV",
        "outputId": "eb7f6a60-4a90-48f0-837c-fbbb3a6df657"
      },
      "source": [
        "lda[common_dictionary.doc2bow(news['title'].iloc[1])]"
      ],
      "execution_count": 48,
      "outputs": [
        {
          "output_type": "execute_result",
          "data": {
            "text/plain": [
              "[(2, 0.071633846), (4, 0.72358), (9, 0.18770944)]"
            ]
          },
          "metadata": {
            "tags": []
          },
          "execution_count": 48
        }
      ]
    },
    {
      "cell_type": "code",
      "metadata": {
        "id": "zHeX4bd1AbGF"
      },
      "source": [
        "#text = news['title'].iloc[0]\n",
        "\n",
        "def get_lda_vector(text):\n",
        "    unseen_doc = common_dictionary.doc2bow(text)\n",
        "    lda_tuple = lda[unseen_doc]\n",
        "    not_null_topics = dict(zip([i[0] for i in lda_tuple], [i[1] for i in lda_tuple]))\n",
        "\n",
        "    output_vector = []\n",
        "    for i in range(N_topic):\n",
        "        if i not in not_null_topics:\n",
        "            output_vector.append(0)\n",
        "        else:\n",
        "            output_vector.append(not_null_topics[i])\n",
        "    return np.array(output_vector)"
      ],
      "execution_count": 49,
      "outputs": []
    },
    {
      "cell_type": "code",
      "metadata": {
        "colab": {
          "base_uri": "https://localhost:8080/",
          "height": 204
        },
        "id": "29UZls-uAdZF",
        "outputId": "61743b3e-37b3-4fe1-821c-2af1b4e12605"
      },
      "source": [
        "topic_matrix = pd.DataFrame([get_lda_vector(text) for text in news['title'].values])\n",
        "topic_matrix.columns = ['topic_{}'.format(i) for i in range(N_topic)]\n",
        "topic_matrix['doc_id'] = news['doc_id'].values\n",
        "topic_matrix = topic_matrix[['doc_id']+['topic_{}'.format(i) for i in range(N_topic)]]\n",
        "topic_matrix.head(5)"
      ],
      "execution_count": 50,
      "outputs": [
        {
          "output_type": "execute_result",
          "data": {
            "text/html": [
              "<div>\n",
              "<style scoped>\n",
              "    .dataframe tbody tr th:only-of-type {\n",
              "        vertical-align: middle;\n",
              "    }\n",
              "\n",
              "    .dataframe tbody tr th {\n",
              "        vertical-align: top;\n",
              "    }\n",
              "\n",
              "    .dataframe thead th {\n",
              "        text-align: right;\n",
              "    }\n",
              "</style>\n",
              "<table border=\"1\" class=\"dataframe\">\n",
              "  <thead>\n",
              "    <tr style=\"text-align: right;\">\n",
              "      <th></th>\n",
              "      <th>doc_id</th>\n",
              "      <th>topic_0</th>\n",
              "      <th>topic_1</th>\n",
              "      <th>topic_2</th>\n",
              "      <th>topic_3</th>\n",
              "      <th>topic_4</th>\n",
              "      <th>topic_5</th>\n",
              "      <th>topic_6</th>\n",
              "      <th>topic_7</th>\n",
              "      <th>topic_8</th>\n",
              "      <th>topic_9</th>\n",
              "    </tr>\n",
              "  </thead>\n",
              "  <tbody>\n",
              "    <tr>\n",
              "      <th>0</th>\n",
              "      <td>6</td>\n",
              "      <td>0.0</td>\n",
              "      <td>0.000000</td>\n",
              "      <td>0.000000</td>\n",
              "      <td>0.000000</td>\n",
              "      <td>0.000000</td>\n",
              "      <td>0.000000</td>\n",
              "      <td>0.433208</td>\n",
              "      <td>0.104059</td>\n",
              "      <td>0.0</td>\n",
              "      <td>0.456592</td>\n",
              "    </tr>\n",
              "    <tr>\n",
              "      <th>1</th>\n",
              "      <td>4896</td>\n",
              "      <td>0.0</td>\n",
              "      <td>0.000000</td>\n",
              "      <td>0.071495</td>\n",
              "      <td>0.000000</td>\n",
              "      <td>0.723603</td>\n",
              "      <td>0.000000</td>\n",
              "      <td>0.000000</td>\n",
              "      <td>0.000000</td>\n",
              "      <td>0.0</td>\n",
              "      <td>0.187826</td>\n",
              "    </tr>\n",
              "    <tr>\n",
              "      <th>2</th>\n",
              "      <td>4897</td>\n",
              "      <td>0.0</td>\n",
              "      <td>0.000000</td>\n",
              "      <td>0.000000</td>\n",
              "      <td>0.112425</td>\n",
              "      <td>0.000000</td>\n",
              "      <td>0.000000</td>\n",
              "      <td>0.000000</td>\n",
              "      <td>0.219963</td>\n",
              "      <td>0.0</td>\n",
              "      <td>0.650108</td>\n",
              "    </tr>\n",
              "    <tr>\n",
              "      <th>3</th>\n",
              "      <td>4898</td>\n",
              "      <td>0.0</td>\n",
              "      <td>0.551132</td>\n",
              "      <td>0.000000</td>\n",
              "      <td>0.000000</td>\n",
              "      <td>0.000000</td>\n",
              "      <td>0.000000</td>\n",
              "      <td>0.143582</td>\n",
              "      <td>0.296747</td>\n",
              "      <td>0.0</td>\n",
              "      <td>0.000000</td>\n",
              "    </tr>\n",
              "    <tr>\n",
              "      <th>4</th>\n",
              "      <td>4899</td>\n",
              "      <td>0.0</td>\n",
              "      <td>0.000000</td>\n",
              "      <td>0.000000</td>\n",
              "      <td>0.000000</td>\n",
              "      <td>0.000000</td>\n",
              "      <td>0.155336</td>\n",
              "      <td>0.823038</td>\n",
              "      <td>0.000000</td>\n",
              "      <td>0.0</td>\n",
              "      <td>0.000000</td>\n",
              "    </tr>\n",
              "  </tbody>\n",
              "</table>\n",
              "</div>"
            ],
            "text/plain": [
              "   doc_id  topic_0   topic_1   topic_2  ...   topic_6   topic_7  topic_8   topic_9\n",
              "0       6      0.0  0.000000  0.000000  ...  0.433208  0.104059      0.0  0.456592\n",
              "1    4896      0.0  0.000000  0.071495  ...  0.000000  0.000000      0.0  0.187826\n",
              "2    4897      0.0  0.000000  0.000000  ...  0.000000  0.219963      0.0  0.650108\n",
              "3    4898      0.0  0.551132  0.000000  ...  0.143582  0.296747      0.0  0.000000\n",
              "4    4899      0.0  0.000000  0.000000  ...  0.823038  0.000000      0.0  0.000000\n",
              "\n",
              "[5 rows x 11 columns]"
            ]
          },
          "metadata": {
            "tags": []
          },
          "execution_count": 50
        }
      ]
    },
    {
      "cell_type": "code",
      "metadata": {
        "colab": {
          "base_uri": "https://localhost:8080/",
          "height": 204
        },
        "id": "sm5i1UAYAhvc",
        "outputId": "8fe6bb3e-0a26-4466-e6d0-fd2458985422"
      },
      "source": [
        "topic_matrix.head()"
      ],
      "execution_count": 51,
      "outputs": [
        {
          "output_type": "execute_result",
          "data": {
            "text/html": [
              "<div>\n",
              "<style scoped>\n",
              "    .dataframe tbody tr th:only-of-type {\n",
              "        vertical-align: middle;\n",
              "    }\n",
              "\n",
              "    .dataframe tbody tr th {\n",
              "        vertical-align: top;\n",
              "    }\n",
              "\n",
              "    .dataframe thead th {\n",
              "        text-align: right;\n",
              "    }\n",
              "</style>\n",
              "<table border=\"1\" class=\"dataframe\">\n",
              "  <thead>\n",
              "    <tr style=\"text-align: right;\">\n",
              "      <th></th>\n",
              "      <th>doc_id</th>\n",
              "      <th>topic_0</th>\n",
              "      <th>topic_1</th>\n",
              "      <th>topic_2</th>\n",
              "      <th>topic_3</th>\n",
              "      <th>topic_4</th>\n",
              "      <th>topic_5</th>\n",
              "      <th>topic_6</th>\n",
              "      <th>topic_7</th>\n",
              "      <th>topic_8</th>\n",
              "      <th>topic_9</th>\n",
              "    </tr>\n",
              "  </thead>\n",
              "  <tbody>\n",
              "    <tr>\n",
              "      <th>0</th>\n",
              "      <td>6</td>\n",
              "      <td>0.0</td>\n",
              "      <td>0.000000</td>\n",
              "      <td>0.000000</td>\n",
              "      <td>0.000000</td>\n",
              "      <td>0.000000</td>\n",
              "      <td>0.000000</td>\n",
              "      <td>0.433208</td>\n",
              "      <td>0.104059</td>\n",
              "      <td>0.0</td>\n",
              "      <td>0.456592</td>\n",
              "    </tr>\n",
              "    <tr>\n",
              "      <th>1</th>\n",
              "      <td>4896</td>\n",
              "      <td>0.0</td>\n",
              "      <td>0.000000</td>\n",
              "      <td>0.071495</td>\n",
              "      <td>0.000000</td>\n",
              "      <td>0.723603</td>\n",
              "      <td>0.000000</td>\n",
              "      <td>0.000000</td>\n",
              "      <td>0.000000</td>\n",
              "      <td>0.0</td>\n",
              "      <td>0.187826</td>\n",
              "    </tr>\n",
              "    <tr>\n",
              "      <th>2</th>\n",
              "      <td>4897</td>\n",
              "      <td>0.0</td>\n",
              "      <td>0.000000</td>\n",
              "      <td>0.000000</td>\n",
              "      <td>0.112425</td>\n",
              "      <td>0.000000</td>\n",
              "      <td>0.000000</td>\n",
              "      <td>0.000000</td>\n",
              "      <td>0.219963</td>\n",
              "      <td>0.0</td>\n",
              "      <td>0.650108</td>\n",
              "    </tr>\n",
              "    <tr>\n",
              "      <th>3</th>\n",
              "      <td>4898</td>\n",
              "      <td>0.0</td>\n",
              "      <td>0.551132</td>\n",
              "      <td>0.000000</td>\n",
              "      <td>0.000000</td>\n",
              "      <td>0.000000</td>\n",
              "      <td>0.000000</td>\n",
              "      <td>0.143582</td>\n",
              "      <td>0.296747</td>\n",
              "      <td>0.0</td>\n",
              "      <td>0.000000</td>\n",
              "    </tr>\n",
              "    <tr>\n",
              "      <th>4</th>\n",
              "      <td>4899</td>\n",
              "      <td>0.0</td>\n",
              "      <td>0.000000</td>\n",
              "      <td>0.000000</td>\n",
              "      <td>0.000000</td>\n",
              "      <td>0.000000</td>\n",
              "      <td>0.155336</td>\n",
              "      <td>0.823038</td>\n",
              "      <td>0.000000</td>\n",
              "      <td>0.0</td>\n",
              "      <td>0.000000</td>\n",
              "    </tr>\n",
              "  </tbody>\n",
              "</table>\n",
              "</div>"
            ],
            "text/plain": [
              "   doc_id  topic_0   topic_1   topic_2  ...   topic_6   topic_7  topic_8   topic_9\n",
              "0       6      0.0  0.000000  0.000000  ...  0.433208  0.104059      0.0  0.456592\n",
              "1    4896      0.0  0.000000  0.071495  ...  0.000000  0.000000      0.0  0.187826\n",
              "2    4897      0.0  0.000000  0.000000  ...  0.000000  0.219963      0.0  0.650108\n",
              "3    4898      0.0  0.551132  0.000000  ...  0.143582  0.296747      0.0  0.000000\n",
              "4    4899      0.0  0.000000  0.000000  ...  0.823038  0.000000      0.0  0.000000\n",
              "\n",
              "[5 rows x 11 columns]"
            ]
          },
          "metadata": {
            "tags": []
          },
          "execution_count": 51
        }
      ]
    },
    {
      "cell_type": "code",
      "metadata": {
        "colab": {
          "base_uri": "https://localhost:8080/",
          "height": 359
        },
        "id": "6EZRIZmVAnb8",
        "outputId": "0b96b34e-a996-4211-a160-f4ed1b503554"
      },
      "source": [
        "users.head(10)"
      ],
      "execution_count": 52,
      "outputs": [
        {
          "output_type": "execute_result",
          "data": {
            "text/html": [
              "<div>\n",
              "<style scoped>\n",
              "    .dataframe tbody tr th:only-of-type {\n",
              "        vertical-align: middle;\n",
              "    }\n",
              "\n",
              "    .dataframe tbody tr th {\n",
              "        vertical-align: top;\n",
              "    }\n",
              "\n",
              "    .dataframe thead th {\n",
              "        text-align: right;\n",
              "    }\n",
              "</style>\n",
              "<table border=\"1\" class=\"dataframe\">\n",
              "  <thead>\n",
              "    <tr style=\"text-align: right;\">\n",
              "      <th></th>\n",
              "      <th>uid</th>\n",
              "      <th>articles</th>\n",
              "    </tr>\n",
              "  </thead>\n",
              "  <tbody>\n",
              "    <tr>\n",
              "      <th>0</th>\n",
              "      <td>u105138</td>\n",
              "      <td>[293672, 293328, 293001, 293622, 293126, 1852]</td>\n",
              "    </tr>\n",
              "    <tr>\n",
              "      <th>1</th>\n",
              "      <td>u108690</td>\n",
              "      <td>[3405, 1739, 2972, 1158, 1599, 322665]</td>\n",
              "    </tr>\n",
              "    <tr>\n",
              "      <th>2</th>\n",
              "      <td>u108339</td>\n",
              "      <td>[1845, 2009, 2356, 1424, 2939, 323389]</td>\n",
              "    </tr>\n",
              "    <tr>\n",
              "      <th>3</th>\n",
              "      <td>u101138</td>\n",
              "      <td>[5933, 6186, 5055, 6977, 5206, 488389]</td>\n",
              "    </tr>\n",
              "    <tr>\n",
              "      <th>4</th>\n",
              "      <td>u108248</td>\n",
              "      <td>[707, 1144, 2532, 2928, 3133, 324592]</td>\n",
              "    </tr>\n",
              "    <tr>\n",
              "      <th>5</th>\n",
              "      <td>u106662</td>\n",
              "      <td>[323868, 323426, 324267, 322426, 324104, 1550]</td>\n",
              "    </tr>\n",
              "    <tr>\n",
              "      <th>6</th>\n",
              "      <td>u105949</td>\n",
              "      <td>[293138, 294471, 295012, 294736, 293949, 3544]</td>\n",
              "    </tr>\n",
              "    <tr>\n",
              "      <th>7</th>\n",
              "      <td>u102457</td>\n",
              "      <td>[6928, 5009, 6940, 7629, 7644, 512736]</td>\n",
              "    </tr>\n",
              "    <tr>\n",
              "      <th>8</th>\n",
              "      <td>u104124</td>\n",
              "      <td>[322838, 324699, 322991, 322120, 324327, 472331]</td>\n",
              "    </tr>\n",
              "    <tr>\n",
              "      <th>9</th>\n",
              "      <td>u101386</td>\n",
              "      <td>[7827, 6427, 7394, 7151, 6335, 487254]</td>\n",
              "    </tr>\n",
              "  </tbody>\n",
              "</table>\n",
              "</div>"
            ],
            "text/plain": [
              "       uid                                          articles\n",
              "0  u105138    [293672, 293328, 293001, 293622, 293126, 1852]\n",
              "1  u108690            [3405, 1739, 2972, 1158, 1599, 322665]\n",
              "2  u108339            [1845, 2009, 2356, 1424, 2939, 323389]\n",
              "3  u101138            [5933, 6186, 5055, 6977, 5206, 488389]\n",
              "4  u108248             [707, 1144, 2532, 2928, 3133, 324592]\n",
              "5  u106662    [323868, 323426, 324267, 322426, 324104, 1550]\n",
              "6  u105949    [293138, 294471, 295012, 294736, 293949, 3544]\n",
              "7  u102457            [6928, 5009, 6940, 7629, 7644, 512736]\n",
              "8  u104124  [322838, 324699, 322991, 322120, 324327, 472331]\n",
              "9  u101386            [7827, 6427, 7394, 7151, 6335, 487254]"
            ]
          },
          "metadata": {
            "tags": []
          },
          "execution_count": 52
        }
      ]
    },
    {
      "cell_type": "code",
      "metadata": {
        "id": "kc5d-swyAqHU"
      },
      "source": [
        "doc_dict = dict(zip(topic_matrix['doc_id'].values, topic_matrix[['topic_{}'.format(i) for i in range(N_topic)]].values))"
      ],
      "execution_count": 53,
      "outputs": []
    },
    {
      "cell_type": "code",
      "metadata": {
        "colab": {
          "base_uri": "https://localhost:8080/"
        },
        "id": "vhP39MbtA05F",
        "outputId": "240d33cd-e9a1-40e9-9360-d91c5e257f02"
      },
      "source": [
        "doc_dict[293622]"
      ],
      "execution_count": 54,
      "outputs": [
        {
          "output_type": "execute_result",
          "data": {
            "text/plain": [
              "array([0.42314684, 0.08787167, 0.11541931, 0.20994736, 0.02397312,\n",
              "       0.        , 0.        , 0.        , 0.03560435, 0.10084502])"
            ]
          },
          "metadata": {
            "tags": []
          },
          "execution_count": 54
        }
      ]
    },
    {
      "cell_type": "code",
      "metadata": {
        "id": "QvvqCVzZA2pO"
      },
      "source": [
        "def get_user_embedding(user_articles_list, func):\n",
        "    user_articles_list = eval(user_articles_list)\n",
        "    user_vector = np.array([doc_dict[doc_id] for doc_id in user_articles_list])\n",
        "    #print(user_vector)\n",
        "    return func(user_vector, 0)"
      ],
      "execution_count": 84,
      "outputs": []
    },
    {
      "cell_type": "code",
      "metadata": {
        "id": "qtMjjmLrA8IE"
      },
      "source": [
        "user_articles_list = users['articles'].iloc[33]"
      ],
      "execution_count": 86,
      "outputs": []
    },
    {
      "cell_type": "code",
      "metadata": {
        "colab": {
          "base_uri": "https://localhost:8080/"
        },
        "id": "5Z6GlpzsA-JK",
        "outputId": "5896ddbd-0121-45a7-b537-7cd6cf0a8931"
      },
      "source": [
        "vv = get_user_embedding(user_articles_list, np.median)\n",
        "vv"
      ],
      "execution_count": 89,
      "outputs": [
        {
          "output_type": "execute_result",
          "data": {
            "text/plain": [
              "array([0.12725607, 0.05181215, 0.        , 0.        , 0.        ,\n",
              "       0.00741662, 0.22836957, 0.        , 0.0559657 , 0.        ])"
            ]
          },
          "metadata": {
            "tags": []
          },
          "execution_count": 89
        }
      ]
    },
    {
      "cell_type": "code",
      "metadata": {
        "colab": {
          "base_uri": "https://localhost:8080/"
        },
        "id": "fBXBWF9vul9Z",
        "outputId": "88e23dcf-5bed-4eb7-e492-d296a123d85f"
      },
      "source": [
        "vv = get_user_embedding(user_articles_list, np.max)\n",
        "vv"
      ],
      "execution_count": 90,
      "outputs": [
        {
          "output_type": "execute_result",
          "data": {
            "text/plain": [
              "array([0.69631517, 0.2023423 , 0.        , 0.06486122, 0.11404415,\n",
              "       0.08809845, 0.78144181, 0.20341466, 0.56250238, 0.20025888])"
            ]
          },
          "metadata": {
            "tags": []
          },
          "execution_count": 90
        }
      ]
    },
    {
      "cell_type": "code",
      "metadata": {
        "colab": {
          "base_uri": "https://localhost:8080/"
        },
        "id": "XzEFNAqsuqIl",
        "outputId": "78fb3e7e-f86b-41d8-ccdd-b5e021d230e4"
      },
      "source": [
        "vv = get_user_embedding(user_articles_list, np.mean)\n",
        "vv"
      ],
      "execution_count": 91,
      "outputs": [
        {
          "output_type": "execute_result",
          "data": {
            "text/plain": [
              "array([0.2729555 , 0.07625022, 0.        , 0.0108102 , 0.03489695,\n",
              "       0.03057027, 0.29780372, 0.05142085, 0.18297953, 0.03337648])"
            ]
          },
          "metadata": {
            "tags": []
          },
          "execution_count": 91
        }
      ]
    },
    {
      "cell_type": "code",
      "metadata": {
        "id": "bryknPpKBAOE"
      },
      "source": [
        "import matplotlib.pyplot as plt"
      ],
      "execution_count": 92,
      "outputs": []
    },
    {
      "cell_type": "code",
      "metadata": {
        "colab": {
          "base_uri": "https://localhost:8080/",
          "height": 142
        },
        "id": "qDSx8PNBv6L9",
        "outputId": "a8b323dd-ad05-4eb5-e0ba-b1d61107d6ea"
      },
      "source": [
        "target = pd.read_csv(\"hw2/MyDrive/data/users_churn.csv\")\n",
        "target.head(3)"
      ],
      "execution_count": 93,
      "outputs": [
        {
          "output_type": "execute_result",
          "data": {
            "text/html": [
              "<div>\n",
              "<style scoped>\n",
              "    .dataframe tbody tr th:only-of-type {\n",
              "        vertical-align: middle;\n",
              "    }\n",
              "\n",
              "    .dataframe tbody tr th {\n",
              "        vertical-align: top;\n",
              "    }\n",
              "\n",
              "    .dataframe thead th {\n",
              "        text-align: right;\n",
              "    }\n",
              "</style>\n",
              "<table border=\"1\" class=\"dataframe\">\n",
              "  <thead>\n",
              "    <tr style=\"text-align: right;\">\n",
              "      <th></th>\n",
              "      <th>uid</th>\n",
              "      <th>churn</th>\n",
              "    </tr>\n",
              "  </thead>\n",
              "  <tbody>\n",
              "    <tr>\n",
              "      <th>0</th>\n",
              "      <td>u107120</td>\n",
              "      <td>0</td>\n",
              "    </tr>\n",
              "    <tr>\n",
              "      <th>1</th>\n",
              "      <td>u102277</td>\n",
              "      <td>0</td>\n",
              "    </tr>\n",
              "    <tr>\n",
              "      <th>2</th>\n",
              "      <td>u102444</td>\n",
              "      <td>0</td>\n",
              "    </tr>\n",
              "  </tbody>\n",
              "</table>\n",
              "</div>"
            ],
            "text/plain": [
              "       uid  churn\n",
              "0  u107120      0\n",
              "1  u102277      0\n",
              "2  u102444      0"
            ]
          },
          "metadata": {
            "tags": []
          },
          "execution_count": 93
        }
      ]
    },
    {
      "cell_type": "code",
      "metadata": {
        "id": "UHn82s_oBOZl"
      },
      "source": [
        "from sklearn.linear_model import LogisticRegression\n",
        "from sklearn.model_selection import train_test_split\n",
        "#import itertools\n",
        "\n",
        "import matplotlib.pyplot as plt\n",
        "from sklearn.metrics import f1_score, roc_auc_score, precision_score, classification_report, \\\n",
        "precision_recall_curve, confusion_matrix, recall_score\n",
        "import itertools\n",
        "\n",
        "%matplotlib inline\n",
        "methods = dict({'max': np.max, 'median': np.median, 'mean': np.mean})"
      ],
      "execution_count": 105,
      "outputs": []
    },
    {
      "cell_type": "code",
      "metadata": {
        "id": "2KzqA43KzUET"
      },
      "source": [
        "def plot_confusion_matrix(cm, classes,\n",
        "                          normalize=False,\n",
        "                          title='Confusion matrix',\n",
        "                          cmap=plt.cm.Blues):\n",
        "    \"\"\"\n",
        "    This function prints and plots the confusion matrix.\n",
        "    Normalization can be applied by setting `normalize=True`.\n",
        "    \"\"\"\n",
        "    plt.imshow(cm, interpolation='nearest', cmap=cmap)\n",
        "    plt.title(title)\n",
        "    plt.colorbar()\n",
        "    tick_marks = np.arange(len(classes))\n",
        "    plt.xticks(tick_marks, classes, rotation=45)\n",
        "    plt.yticks(tick_marks, classes)\n",
        "\n",
        "    if normalize:\n",
        "        cm = cm.astype('float') / cm.sum(axis=1)[:, np.newaxis]\n",
        "        print(\"Normalized confusion matrix\")\n",
        "    else:\n",
        "        print('Confusion matrix, without normalization')\n",
        "\n",
        "    print(cm)\n",
        "\n",
        "    thresh = cm.max() \n",
        "    for i, j in itertools.product(range(cm.shape[0]), range(cm.shape[1])):\n",
        "        plt.text(j, i, cm[i, j],\n",
        "                 horizontalalignment=\"center\",\n",
        "                 color=\"white\" if cm[i, j] > thresh else \"black\")\n",
        "\n",
        "    plt.tight_layout()\n",
        "    plt.ylabel('True label')\n",
        "    plt.xlabel('Predicted label')\n",
        "    #мы уже нашли ранее \"оптимальный\" порог, когда максимизировали f_score\n",
        "    font = {'size' : 15}\n",
        "\n",
        "    plt.rc('font', **font)"
      ],
      "execution_count": 95,
      "outputs": []
    },
    {
      "cell_type": "code",
      "metadata": {
        "colab": {
          "base_uri": "https://localhost:8080/",
          "height": 1000
        },
        "id": "b2SXj_9UBCml",
        "outputId": "84712ee5-7517-4882-f7bf-0141d07d1cf2"
      },
      "source": [
        "result = dict()\n",
        "for method in methods.keys():\n",
        "  user_embeddings = pd.DataFrame([i for i in users['articles'].apply(lambda x: get_user_embedding(x, methods[method]), 1)])\n",
        "  user_embeddings.columns = ['topic_{}'.format(i) for i in range(N_topic)]\n",
        "  user_embeddings['uid'] = users['uid'].values\n",
        "  user_embeddings = user_embeddings[['uid']+['topic_{}'.format(i) for i in range(N_topic)]]\n",
        "  X = pd.merge(user_embeddings, target, 'left')\n",
        "\n",
        "  #разделим данные на train/test\n",
        "  X_train, X_test, y_train, y_test = train_test_split(X[['topic_{}'.format(i) for i in range(N_topic)]], \n",
        "                                                    X['churn'], random_state=0, test_size=0.25)\n",
        "  \n",
        "  logreg = LogisticRegression(C=1.0)\n",
        "  #обучим наш пайплайн\n",
        "  logreg.fit(X_train, y_train)\n",
        "  preds = logreg.predict_proba(X_test)[:, 1]\n",
        "\n",
        "  plt.plot(preds[:100], label = 'predict')\n",
        "  plt.plot(y_test.values[:100], label = 'true')\n",
        "  plt.title(f'ответ модели по методу {method}')\n",
        "  plt.xlabel(' № примера')\n",
        "  plt.ylabel(' выход')\n",
        "  plt.legend()\n",
        "  plt.grid('On')\n",
        "  plt.show()\n",
        "\n",
        "\n",
        "  precision, recall, thresholds = precision_recall_curve(y_test.values[:1000], preds[:1000])\n",
        "\n",
        "  fscore = (2 * precision * recall) / (precision + recall)\n",
        "\n",
        "  r =  roc_auc_score(y_test, preds)\n",
        "\n",
        "# locate the index of the largest f score\n",
        "  ix = np.argmax(fscore)\n",
        "  print('Method: %s. Best Threshold=%f, F-Score=%.3f, Precision=%.3f, Recall=%.3f' \n",
        "          % (method, thresholds[ix], fscore[ix], precision[ix], recall[ix]))\n",
        "  plt.plot(recall,precision )\n",
        "  plt.title(f'Точность/полнота по методу {method}')\n",
        "  plt.xlabel(' полнота')\n",
        "  plt.ylabel(' точность')\n",
        "  plt.grid('On')\n",
        "  plt.show()\n",
        "\n",
        "  cnf_matrix = confusion_matrix(y_test, preds > thresholds[ix])\n",
        "  plt.figure(figsize=(10, 8))\n",
        "  plot_confusion_matrix(cnf_matrix, classes=['Non-Churn', 'churn'],\n",
        "                      title=f'Confusion matrix by {method}')\n",
        "  plt.show()\n",
        "  \n",
        "  predict = logreg.predict(X_test)\n",
        "\n",
        "  result[method] = dict({'precision': precision_score(y_test.values, predict), \n",
        "                         'recall': recall_score(y_test.values, predict), \n",
        "                         'fscore': f1_score(y_test.values, predict),\n",
        "                         'roc': r})\n",
        "  print(r)\n",
        "\n"
      ],
      "execution_count": 123,
      "outputs": [
        {
          "output_type": "display_data",
          "data": {
            "image/png": "[encoded data removed]",
            "text/plain": [
              "<Figure size 432x288 with 1 Axes>"
            ]
          },
          "metadata": {
            "tags": [],
            "needs_background": "light"
          }
        },
        {
          "output_type": "stream",
          "text": [
            "Method: max. Best Threshold=0.219256, F-Score=0.461, Precision=0.374, Recall=0.598\n"
          ],
          "name": "stdout"
        },
        {
          "output_type": "display_data",
          "data": {
            "image/png": "[encoded data removed]",
            "text/plain": [
              "<Figure size 432x288 with 1 Axes>"
            ]
          },
          "metadata": {
            "tags": [],
            "needs_background": "light"
          }
        },
        {
          "output_type": "stream",
          "text": [
            "Confusion matrix, without normalization\n",
            "[[1508  247]\n",
            " [  90  155]]\n"
          ],
          "name": "stdout"
        },
        {
          "output_type": "display_data",
          "data": {
            "image/png": "[encoded data removed]",
            "text/plain": [
              "<Figure size 720x576 with 2 Axes>"
            ]
          },
          "metadata": {
            "tags": [],
            "needs_background": "light"
          }
        },
        {
          "output_type": "stream",
          "text": [
            "0.8472725158439444\n"
          ],
          "name": "stdout"
        },
        {
          "output_type": "display_data",
          "data": {
            "image/png": "[encoded data removed]",
            "text/plain": [
              "<Figure size 432x288 with 1 Axes>"
            ]
          },
          "metadata": {
            "tags": [],
            "needs_background": "light"
          }
        },
        {
          "output_type": "stream",
          "text": [
            "Method: median. Best Threshold=0.171651, F-Score=0.458, Precision=0.332, Recall=0.738\n"
          ],
          "name": "stdout"
        },
        {
          "output_type": "display_data",
          "data": {
            "image/png": "[encoded data removed]",
            "text/plain": [
              "<Figure size 432x288 with 1 Axes>"
            ]
          },
          "metadata": {
            "tags": [],
            "needs_background": "light"
          }
        },
        {
          "output_type": "stream",
          "text": [
            "Confusion matrix, without normalization\n",
            "[[1406  349]\n",
            " [  65  180]]\n"
          ],
          "name": "stdout"
        },
        {
          "output_type": "display_data",
          "data": {
            "image/png": "[encoded data removed]",
            "text/plain": [
              "<Figure size 720x576 with 2 Axes>"
            ]
          },
          "metadata": {
            "tags": [],
            "needs_background": "light"
          }
        },
        {
          "output_type": "stream",
          "text": [
            "0.8539217396360254\n"
          ],
          "name": "stdout"
        },
        {
          "output_type": "display_data",
          "data": {
            "image/png": "[encoded data removed]",
            "text/plain": [
              "<Figure size 432x288 with 1 Axes>"
            ]
          },
          "metadata": {
            "tags": [],
            "needs_background": "light"
          }
        },
        {
          "output_type": "stream",
          "text": [
            "Method: mean. Best Threshold=0.312974, F-Score=nan, Precision=0.000, Recall=0.000\n"
          ],
          "name": "stdout"
        },
        {
          "output_type": "stream",
          "text": [
            "/usr/local/lib/python3.7/dist-packages/ipykernel_launcher.py:30: RuntimeWarning: invalid value encountered in true_divide\n"
          ],
          "name": "stderr"
        },
        {
          "output_type": "display_data",
          "data": {
            "image/png": "[encoded data removed]",
            "text/plain": [
              "<Figure size 432x288 with 1 Axes>"
            ]
          },
          "metadata": {
            "tags": [],
            "needs_background": "light"
          }
        },
        {
          "output_type": "stream",
          "text": [
            "Confusion matrix, without normalization\n",
            "[[1752    3]\n",
            " [ 245    0]]\n"
          ],
          "name": "stdout"
        },
        {
          "output_type": "display_data",
          "data": {
            "image/png": "[encoded data removed]",
            "text/plain": [
              "<Figure size 720x576 with 2 Axes>"
            ]
          },
          "metadata": {
            "tags": [],
            "needs_background": "light"
          }
        },
        {
          "output_type": "stream",
          "text": [
            "0.7426431769288911\n"
          ],
          "name": "stdout"
        },
        {
          "output_type": "stream",
          "text": [
            "/usr/local/lib/python3.7/dist-packages/sklearn/metrics/_classification.py:1272: UndefinedMetricWarning: Precision is ill-defined and being set to 0.0 due to no predicted samples. Use `zero_division` parameter to control this behavior.\n",
            "  _warn_prf(average, modifier, msg_start, len(result))\n"
          ],
          "name": "stderr"
        }
      ]
    },
    {
      "cell_type": "code",
      "metadata": {
        "colab": {
          "base_uri": "https://localhost:8080/"
        },
        "id": "p_BOZI1uCwpx",
        "outputId": "b760abae-5fcf-489f-8e6c-c264e72dfe9b"
      },
      "source": [
        "result"
      ],
      "execution_count": 124,
      "outputs": [
        {
          "output_type": "execute_result",
          "data": {
            "text/plain": [
              "{'max': {'fscore': 0.22149837133550487,\n",
              "  'precision': 0.5483870967741935,\n",
              "  'recall': 0.13877551020408163,\n",
              "  'roc': 0.8472725158439444},\n",
              " 'mean': {'fscore': 0.0,\n",
              "  'precision': 0.0,\n",
              "  'recall': 0.0,\n",
              "  'roc': 0.7426431769288911},\n",
              " 'median': {'fscore': 0.00806451612903226,\n",
              "  'precision': 0.3333333333333333,\n",
              "  'recall': 0.004081632653061225,\n",
              "  'roc': 0.8539217396360254}}"
            ]
          },
          "metadata": {
            "tags": []
          },
          "execution_count": 124
        }
      ]
    },
    {
      "cell_type": "markdown",
      "metadata": {
        "id": "DbZKYfOO2Lpz"
      },
      "source": [
        "Лучший результат дает использование медианы при расчете эмбедингов.\n"
      ]
    }
  ]
}