{
  "nbformat": 4,
  "nbformat_minor": 0,
  "metadata": {
    "kernelspec": {
      "display_name": "Python 3",
      "language": "python",
      "name": "python3"
    },
    "language_info": {
      "codemirror_mode": {
        "name": "ipython",
        "version": 3
      },
      "file_extension": ".py",
      "mimetype": "text/x-python",
      "name": "python",
      "nbconvert_exporter": "python",
      "pygments_lexer": "ipython3",
      "version": "3.8.3"
    },
    "colab": {
      "name": "HW8.ipynb",
      "provenance": [],
      "collapsed_sections": [],
      "include_colab_link": true
    }
  },
  "cells": [
    {
      "cell_type": "markdown",
      "metadata": {
        "id": "view-in-github",
        "colab_type": "text"
      },
      "source": [
        "<a href=\"https://colab.research.google.com/github/map72ru/biz_learn/blob/main/HW8.ipynb\" target=\"_parent\"><img src=\"https://colab.research.google.com/assets/colab-badge.svg\" alt=\"Open In Colab\"/></a>"
      ]
    },
    {
      "cell_type": "code",
      "metadata": {
        "id": "enmjCfPQQYOd"
      },
      "source": [
        "import pandas as pd\n",
        "import numpy as np\n",
        "import random\n",
        "import scipy\n",
        "import scipy as sp\n",
        "import scipy.stats as sts\n",
        "import matplotlib.pyplot as plt\n",
        "%matplotlib inline\n",
        "\n",
        "random.seed(42)"
      ],
      "execution_count": 3,
      "outputs": []
    },
    {
      "cell_type": "markdown",
      "metadata": {
        "id": "50IIxLyU-ltW"
      },
      "source": [
        "\n",
        "<a id='ab'></a>\n",
        "##  A/B тестирование\n",
        "\n",
        "A/B-тестирование (англ. A/B testing, Split testing) — метод маркетингового исследования, суть которого заключается в том, что контрольная группа элементов сравнивается с набором тестовых групп, в которых один или несколько показателей были изменены, для того, чтобы выяснить, какие из изменений улучшают целевой показатель и улучшают ли.\n",
        "\n",
        "Типичное применение в веб-дизайне — исследование влияния цветовой схемы, расположения и размера элементов интерфейса на конверсию сайта."
      ]
    },
    {
      "cell_type": "markdown",
      "metadata": {
        "id": "JctzO1Gn-ltX"
      },
      "source": [
        "Конверсия (Conversion Rate) в интернет-маркетинге — это отношение числа посетителей сайта, выполнивших на нём какие-либо целевые действия (покупку, регистрацию, подписку, посещение определённой страницы сайта, переход по рекламной ссылке), к общему числу посетителей сайта, выраженное в процентах. \n",
        "\n",
        "\n",
        "\n",
        "В теории принципы A/B тестирования невероятно просты:\n",
        "\n",
        "- Выдвигаем предположение о том, что какое-то изменение (например, персонализация главной страницы) увеличит конверсию интернет-магазина.\n",
        "\n",
        "- Создаем альтернативную версию сайта «Б» — копию исходной версии «А» с изменениями, от которых мы ждем роста эффективности сайта.\n",
        "\n",
        "- Всех посетителей сайта случайным образом делим на две равные группы: одной группе показываем исходный вариант (контрольная группа) , второй группе (тестовой) — альтернативный. Одновременно измеряем конверсию для обеих версий сайта.\n",
        "\n",
        "- Определяем статистически достоверно победивший вариант."
      ]
    },
    {
      "cell_type": "markdown",
      "metadata": {
        "id": "UVNAqfIA-ltX"
      },
      "source": [
        "Мы будем анализировать результаты A/B тестирования двух версий дизайна кнопки сайта интернет-магазина. \n",
        "\n",
        "Целевым действием считаем клик по этой кнопке. \n",
        "\n",
        "Первые три этапа А/В тестирования за нас провели, результаты предоставили в виде файла ab_dataset.csv. Нам осталось выполнить четвертый пункт."
      ]
    },
    {
      "cell_type": "markdown",
      "metadata": {
        "id": "VIV8XgLTQYOg"
      },
      "source": [
        "**Задание **\n",
        "\n",
        "Провести аналогичные исследования но для чека покупок клиентов (колонки `revenue`)  \n",
        "в интернет магазине есть 2-ва типа продуктов:\n",
        "* 100 руб.\n",
        "* 250 руб.\n",
        "\n",
        "ну и конечно клиент может ничего не купить  \n",
        "провести исследование изменился ли средний чек"
      ]
    },
    {
      "cell_type": "markdown",
      "metadata": {
        "id": "rQ4Gzr9o-ltX"
      },
      "source": [
        " <a id='eda'></a>\n",
        "### Первичный анализ данных"
      ]
    },
    {
      "cell_type": "markdown",
      "metadata": {
        "id": "Vo3Whc3h-ltX"
      },
      "source": [
        "Прочитаем данные из файла `ab_datas.csv`. Сохраним их в датафрейм `df`. \n",
        "\n",
        "Прочитаем данные и посмотрим на первые 5 строк:"
      ]
    },
    {
      "cell_type": "code",
      "metadata": {
        "colab": {
          "base_uri": "https://localhost:8080/"
        },
        "id": "JZcT8X-BRYOZ",
        "outputId": "65b870bd-7209-4500-b79a-8e51492548b4"
      },
      "source": [
        "from google.colab import drive\n",
        "drive.mount('/content/hw2')"
      ],
      "execution_count": 1,
      "outputs": [
        {
          "output_type": "stream",
          "name": "stdout",
          "text": [
            "Mounted at /content/hw2\n"
          ]
        }
      ]
    },
    {
      "cell_type": "code",
      "metadata": {
        "colab": {
          "base_uri": "https://localhost:8080/",
          "height": 204
        },
        "id": "WmrvOCGt-ltX",
        "outputId": "65200f95-d27f-4239-f385-b0180fd905e0"
      },
      "source": [
        "df = pd.read_csv('hw2/MyDrive/data/ab_datas.csv')\n",
        "\n",
        "df.head()"
      ],
      "execution_count": 4,
      "outputs": [
        {
          "output_type": "execute_result",
          "data": {
            "text/html": [
              "<div>\n",
              "<style scoped>\n",
              "    .dataframe tbody tr th:only-of-type {\n",
              "        vertical-align: middle;\n",
              "    }\n",
              "\n",
              "    .dataframe tbody tr th {\n",
              "        vertical-align: top;\n",
              "    }\n",
              "\n",
              "    .dataframe thead th {\n",
              "        text-align: right;\n",
              "    }\n",
              "</style>\n",
              "<table border=\"1\" class=\"dataframe\">\n",
              "  <thead>\n",
              "    <tr style=\"text-align: right;\">\n",
              "      <th></th>\n",
              "      <th>user_id</th>\n",
              "      <th>timestamp</th>\n",
              "      <th>group</th>\n",
              "      <th>landing_page</th>\n",
              "      <th>converted</th>\n",
              "      <th>revenue</th>\n",
              "    </tr>\n",
              "  </thead>\n",
              "  <tbody>\n",
              "    <tr>\n",
              "      <th>0</th>\n",
              "      <td>851104</td>\n",
              "      <td>2017-01-21 22:11:48.556739</td>\n",
              "      <td>control</td>\n",
              "      <td>old_page</td>\n",
              "      <td>0</td>\n",
              "      <td>0</td>\n",
              "    </tr>\n",
              "    <tr>\n",
              "      <th>1</th>\n",
              "      <td>804228</td>\n",
              "      <td>2017-01-12 08:01:45.159739</td>\n",
              "      <td>control</td>\n",
              "      <td>old_page</td>\n",
              "      <td>0</td>\n",
              "      <td>0</td>\n",
              "    </tr>\n",
              "    <tr>\n",
              "      <th>2</th>\n",
              "      <td>661590</td>\n",
              "      <td>2017-01-11 16:55:06.154213</td>\n",
              "      <td>treatment</td>\n",
              "      <td>new_page</td>\n",
              "      <td>0</td>\n",
              "      <td>100</td>\n",
              "    </tr>\n",
              "    <tr>\n",
              "      <th>3</th>\n",
              "      <td>853541</td>\n",
              "      <td>2017-01-08 18:28:03.143765</td>\n",
              "      <td>treatment</td>\n",
              "      <td>new_page</td>\n",
              "      <td>0</td>\n",
              "      <td>0</td>\n",
              "    </tr>\n",
              "    <tr>\n",
              "      <th>4</th>\n",
              "      <td>864975</td>\n",
              "      <td>2017-01-21 01:52:26.210827</td>\n",
              "      <td>control</td>\n",
              "      <td>old_page</td>\n",
              "      <td>1</td>\n",
              "      <td>250</td>\n",
              "    </tr>\n",
              "  </tbody>\n",
              "</table>\n",
              "</div>"
            ],
            "text/plain": [
              "   user_id                   timestamp  ... converted revenue\n",
              "0   851104  2017-01-21 22:11:48.556739  ...         0       0\n",
              "1   804228  2017-01-12 08:01:45.159739  ...         0       0\n",
              "2   661590  2017-01-11 16:55:06.154213  ...         0     100\n",
              "3   853541  2017-01-08 18:28:03.143765  ...         0       0\n",
              "4   864975  2017-01-21 01:52:26.210827  ...         1     250\n",
              "\n",
              "[5 rows x 6 columns]"
            ]
          },
          "metadata": {},
          "execution_count": 4
        }
      ]
    },
    {
      "cell_type": "markdown",
      "metadata": {
        "id": "OjE-8Ylg-ltY"
      },
      "source": [
        "Посмотрим, сколько посетителей заходио на сайт (количество строк в нашем датафрейме)"
      ]
    },
    {
      "cell_type": "code",
      "metadata": {
        "colab": {
          "base_uri": "https://localhost:8080/"
        },
        "id": "jyudDfaq-ltY",
        "outputId": "af9b2d5b-2124-4acd-d5e1-9ff347420978"
      },
      "source": [
        "#количество посетителей всего\n",
        "\n",
        "n_rows = df.shape[0]\n",
        "print(\"Число строк: {}\".format(n_rows))"
      ],
      "execution_count": 5,
      "outputs": [
        {
          "output_type": "stream",
          "name": "stdout",
          "text": [
            "Число строк: 294478\n"
          ]
        }
      ]
    },
    {
      "cell_type": "markdown",
      "metadata": {
        "id": "RAOG9bmL-ltY"
      },
      "source": [
        "Сколько уникальных пользователей (уникальных `user_id`) в датасете?"
      ]
    },
    {
      "cell_type": "code",
      "metadata": {
        "colab": {
          "base_uri": "https://localhost:8080/"
        },
        "id": "WFa9Jd7--ltY",
        "outputId": "0d87c184-e232-4e51-babe-73fa113774c0"
      },
      "source": [
        "user_total = df.nunique()['user_id']\n",
        "print(\"Число уникальных пользователей : {}\".format(user_total))"
      ],
      "execution_count": 6,
      "outputs": [
        {
          "output_type": "stream",
          "name": "stdout",
          "text": [
            "Число уникальных пользователей : 290584\n"
          ]
        }
      ]
    },
    {
      "cell_type": "markdown",
      "metadata": {
        "collapsed": true,
        "id": "o3N6lGi5-ltY"
      },
      "source": [
        "Посетителей из контрольной `control` группы должны были направлять на страницу в старом дизайне  `old_page` , пользователей из тестовой группы `treatment` - на страницу в новом дизайне `new_page`. Проверим, были ли ошибки при направлении."
      ]
    },
    {
      "cell_type": "code",
      "metadata": {
        "colab": {
          "base_uri": "https://localhost:8080/"
        },
        "id": "BmE8wUnS-ltY",
        "outputId": "5264588f-b726-4a2e-d226-afb6373f1fa0"
      },
      "source": [
        "mismatch_1 = df.query(\"group == 'treatment' and landing_page == 'old_page'\")\n",
        "print(\"Из тестовой группы неверно направлены {}\".format(len(mismatch_1)) + \" пользователей\")\n",
        "\n",
        "mismatch_2 = df.query(\"group == 'control' and landing_page == 'new_page'\")\n",
        "print(\"Из контрольной группы неверно направлены  {}\".format(len(mismatch_2)) + \" пользователей\")\n"
      ],
      "execution_count": 7,
      "outputs": [
        {
          "output_type": "stream",
          "name": "stdout",
          "text": [
            "Из тестовой группы неверно направлены 1965 пользователей\n",
            "Из контрольной группы неверно направлены  1928 пользователей\n"
          ]
        }
      ]
    },
    {
      "cell_type": "markdown",
      "metadata": {
        "id": "a2XyBHO6-ltY"
      },
      "source": [
        "Выясним, есть ли в данных пропуски."
      ]
    },
    {
      "cell_type": "code",
      "metadata": {
        "colab": {
          "base_uri": "https://localhost:8080/"
        },
        "id": "HZeyu9Vg-ltZ",
        "outputId": "b5d3b066-11a0-4c35-a0e0-6185be659086"
      },
      "source": [
        "df.info()"
      ],
      "execution_count": 8,
      "outputs": [
        {
          "output_type": "stream",
          "name": "stdout",
          "text": [
            "<class 'pandas.core.frame.DataFrame'>\n",
            "RangeIndex: 294478 entries, 0 to 294477\n",
            "Data columns (total 6 columns):\n",
            " #   Column        Non-Null Count   Dtype \n",
            "---  ------        --------------   ----- \n",
            " 0   user_id       294478 non-null  int64 \n",
            " 1   timestamp     294478 non-null  object\n",
            " 2   group         294478 non-null  object\n",
            " 3   landing_page  294478 non-null  object\n",
            " 4   converted     294478 non-null  int64 \n",
            " 5   revenue       294478 non-null  int64 \n",
            "dtypes: int64(3), object(3)\n",
            "memory usage: 13.5+ MB\n"
          ]
        }
      ]
    },
    {
      "cell_type": "markdown",
      "metadata": {
        "id": "fBYhavoY-ltZ"
      },
      "source": [
        "Из сообщений следует, что пропущенных значений нет."
      ]
    },
    {
      "cell_type": "code",
      "metadata": {
        "colab": {
          "base_uri": "https://localhost:8080/",
          "height": 193
        },
        "id": "cywgO088-ltZ",
        "outputId": "9b334f81-e7ff-4c16-8439-b3970a51a22f"
      },
      "source": [
        "df_grp = df.groupby('group')\n",
        "df_grp.describe()"
      ],
      "execution_count": 11,
      "outputs": [
        {
          "output_type": "execute_result",
          "data": {
            "text/html": [
              "<div>\n",
              "<style scoped>\n",
              "    .dataframe tbody tr th:only-of-type {\n",
              "        vertical-align: middle;\n",
              "    }\n",
              "\n",
              "    .dataframe tbody tr th {\n",
              "        vertical-align: top;\n",
              "    }\n",
              "\n",
              "    .dataframe thead tr th {\n",
              "        text-align: left;\n",
              "    }\n",
              "\n",
              "    .dataframe thead tr:last-of-type th {\n",
              "        text-align: right;\n",
              "    }\n",
              "</style>\n",
              "<table border=\"1\" class=\"dataframe\">\n",
              "  <thead>\n",
              "    <tr>\n",
              "      <th></th>\n",
              "      <th colspan=\"8\" halign=\"left\">user_id</th>\n",
              "      <th colspan=\"8\" halign=\"left\">converted</th>\n",
              "      <th colspan=\"8\" halign=\"left\">revenue</th>\n",
              "    </tr>\n",
              "    <tr>\n",
              "      <th></th>\n",
              "      <th>count</th>\n",
              "      <th>mean</th>\n",
              "      <th>std</th>\n",
              "      <th>min</th>\n",
              "      <th>25%</th>\n",
              "      <th>50%</th>\n",
              "      <th>75%</th>\n",
              "      <th>max</th>\n",
              "      <th>count</th>\n",
              "      <th>mean</th>\n",
              "      <th>std</th>\n",
              "      <th>min</th>\n",
              "      <th>25%</th>\n",
              "      <th>50%</th>\n",
              "      <th>75%</th>\n",
              "      <th>max</th>\n",
              "      <th>count</th>\n",
              "      <th>mean</th>\n",
              "      <th>std</th>\n",
              "      <th>min</th>\n",
              "      <th>25%</th>\n",
              "      <th>50%</th>\n",
              "      <th>75%</th>\n",
              "      <th>max</th>\n",
              "    </tr>\n",
              "    <tr>\n",
              "      <th>group</th>\n",
              "      <th></th>\n",
              "      <th></th>\n",
              "      <th></th>\n",
              "      <th></th>\n",
              "      <th></th>\n",
              "      <th></th>\n",
              "      <th></th>\n",
              "      <th></th>\n",
              "      <th></th>\n",
              "      <th></th>\n",
              "      <th></th>\n",
              "      <th></th>\n",
              "      <th></th>\n",
              "      <th></th>\n",
              "      <th></th>\n",
              "      <th></th>\n",
              "      <th></th>\n",
              "      <th></th>\n",
              "      <th></th>\n",
              "      <th></th>\n",
              "      <th></th>\n",
              "      <th></th>\n",
              "      <th></th>\n",
              "      <th></th>\n",
              "    </tr>\n",
              "  </thead>\n",
              "  <tbody>\n",
              "    <tr>\n",
              "      <th>control</th>\n",
              "      <td>147202.0</td>\n",
              "      <td>788123.098035</td>\n",
              "      <td>91278.896888</td>\n",
              "      <td>630002.0</td>\n",
              "      <td>709287.0</td>\n",
              "      <td>788053.5</td>\n",
              "      <td>867155.50</td>\n",
              "      <td>945998.0</td>\n",
              "      <td>147202.0</td>\n",
              "      <td>0.120399</td>\n",
              "      <td>0.325429</td>\n",
              "      <td>0.0</td>\n",
              "      <td>0.0</td>\n",
              "      <td>0.0</td>\n",
              "      <td>0.0</td>\n",
              "      <td>1.0</td>\n",
              "      <td>147202.0</td>\n",
              "      <td>87.431896</td>\n",
              "      <td>102.424926</td>\n",
              "      <td>0.0</td>\n",
              "      <td>0.0</td>\n",
              "      <td>0.0</td>\n",
              "      <td>250.0</td>\n",
              "      <td>250.0</td>\n",
              "    </tr>\n",
              "    <tr>\n",
              "      <th>treatment</th>\n",
              "      <td>147276.0</td>\n",
              "      <td>787825.226283</td>\n",
              "      <td>91142.800641</td>\n",
              "      <td>630000.0</td>\n",
              "      <td>708729.5</td>\n",
              "      <td>787837.5</td>\n",
              "      <td>866693.75</td>\n",
              "      <td>945999.0</td>\n",
              "      <td>147276.0</td>\n",
              "      <td>0.118920</td>\n",
              "      <td>0.323695</td>\n",
              "      <td>0.0</td>\n",
              "      <td>0.0</td>\n",
              "      <td>0.0</td>\n",
              "      <td>0.0</td>\n",
              "      <td>1.0</td>\n",
              "      <td>147276.0</td>\n",
              "      <td>116.496238</td>\n",
              "      <td>102.732069</td>\n",
              "      <td>0.0</td>\n",
              "      <td>0.0</td>\n",
              "      <td>100.0</td>\n",
              "      <td>250.0</td>\n",
              "      <td>250.0</td>\n",
              "    </tr>\n",
              "  </tbody>\n",
              "</table>\n",
              "</div>"
            ],
            "text/plain": [
              "            user_id                               ... revenue              \n",
              "              count           mean           std  ...     50%    75%    max\n",
              "group                                             ...                      \n",
              "control    147202.0  788123.098035  91278.896888  ...     0.0  250.0  250.0\n",
              "treatment  147276.0  787825.226283  91142.800641  ...   100.0  250.0  250.0\n",
              "\n",
              "[2 rows x 24 columns]"
            ]
          },
          "metadata": {},
          "execution_count": 11
        }
      ]
    },
    {
      "cell_type": "markdown",
      "metadata": {
        "id": "BB1aqoKD-ltZ"
      },
      "source": [
        "Ответы на остальные вопросы можно найти, например, так:"
      ]
    },
    {
      "cell_type": "code",
      "metadata": {
        "colab": {
          "base_uri": "https://localhost:8080/"
        },
        "id": "2q4mHg1y-lta",
        "outputId": "e6f0375d-8371-41f1-ccda-12196410c7f8"
      },
      "source": [
        "#объем тестовой группы\n",
        "n_rows_treat = len(df[(df['group'] == 'treatment')])\n",
        "\n",
        "#объем контрольной группы\n",
        "n_rows_contr = len(df[(df['group'] == 'control')])\n",
        "\n",
        "print(\"Соотношение размеров тестовой и контрольной групп: {}\".format(n_rows_treat/n_rows_contr))\n",
        "\n"
      ],
      "execution_count": 40,
      "outputs": [
        {
          "output_type": "stream",
          "name": "stdout",
          "text": [
            "Соотношение размеров тестовой и контрольной групп: 1.0005027105609978\n"
          ]
        }
      ]
    },
    {
      "cell_type": "markdown",
      "metadata": {
        "id": "ORB7gHw3-lta"
      },
      "source": [
        "**Задание **\n",
        "\n",
        "А теперь ответьте на главный вопрос данного этапа:  выявил ли предварительный анализ, что дизайн кнопки влияет на конверсию и если да, то как именно?"
      ]
    },
    {
      "cell_type": "markdown",
      "metadata": {
        "id": "VPk4SoDiTRrt"
      },
      "source": [
        "****Ответ****\n",
        "\n",
        "Предварительно, можно сказать, что ноый дизайн улучшает продажи. Учеличилось среднее значение продаж примерно на 16% при примерно одинковом количестве кликов на старом и новом дизайне."
      ]
    },
    {
      "cell_type": "markdown",
      "metadata": {
        "id": "63ZFf2FT-ltb"
      },
      "source": [
        "<a id='si1'></a>\n",
        "#### Формулировка рабочей гипотезы"
      ]
    },
    {
      "cell_type": "markdown",
      "metadata": {
        "id": "76-2Q9oh-ltb"
      },
      "source": [
        "Нулевая гипотеза: \"Новый дизайн кнопки увеличивает объем продаж\"\n",
        "Альтернативная гипотеза: \"Новый дизайн кнопки не увеличивает объем продаж\""
      ]
    },
    {
      "cell_type": "markdown",
      "metadata": {
        "id": "UTPeiEN1-ltb"
      },
      "source": [
        "<a id='si2'></a>\n",
        "#### Формальное описание нулевой и альтернативной гипотез"
      ]
    },
    {
      "cell_type": "markdown",
      "metadata": {
        "id": "41QMxujG-ltb"
      },
      "source": [
        "$H_{0}$ : $\\theta_{new}$ > $\\theta_{old}$ \n",
        "\n",
        "$H_{1}$ : $\\theta_{new}$ <= $\\theta_{old}$ "
      ]
    },
    {
      "cell_type": "markdown",
      "metadata": {
        "id": "x4saRv3C-ltc"
      },
      "source": [
        "<a id='si4'></a>\n",
        "#### Проведение вычислений. $Z$-критерий."
      ]
    },
    {
      "cell_type": "code",
      "metadata": {
        "colab": {
          "base_uri": "https://localhost:8080/"
        },
        "id": "VpV4OkX2-ltc",
        "outputId": "60522710-c77a-41cc-a5eb-c7d3cf313ccd"
      },
      "source": [
        "#Z-статистика\n",
        "import statsmodels.api as sm\n",
        "import statsmodels\n",
        "\n",
        "convert_contr = len(df.query(\"group == 'control' and revenue > 0\"))\n",
        "convert_treat = len(df.query(\"group == 'treatment' and revenue > 0\"))\n",
        "print(convert_contr, convert_treat, n_rows_treat, n_rows_contr)\n",
        "\n",
        "z_score, p_value = sm.stats.proportions_ztest([convert_treat, convert_contr], [n_rows_treat, n_rows_contr], \n",
        "                                              alternative='smaller')\n",
        "\n",
        "print(\"Z-статистика={},  p_value={}\".format(z_score, p_value))\n"
      ],
      "execution_count": 49,
      "outputs": [
        {
          "output_type": "stream",
          "name": "stdout",
          "text": [
            "73401 98077 147276 147202\n",
            "Z-статистика=92.04185904290561,  p_value=1.0\n"
          ]
        }
      ]
    },
    {
      "cell_type": "markdown",
      "metadata": {
        "id": "DwrbIZttQYOp"
      },
      "source": [
        "#### Проведение вычислений. $T$-test."
      ]
    },
    {
      "cell_type": "code",
      "metadata": {
        "colab": {
          "base_uri": "https://localhost:8080/"
        },
        "id": "ng4hO9V7QYOq",
        "outputId": "9ad09bd3-0418-42ab-a1d9-2b48fcd507e2"
      },
      "source": [
        "t_score, p_value, _ = statsmodels.stats.weightstats.ttest_ind(df.query(\"group == 'control' and revenue > 0\")['revenue'],\n",
        "                                                              df.query(\"group == 'treatment' and revenue > 0\")['revenue'],\n",
        "                                                              alternative=\"smaller\",\n",
        "                                                              usevar='unequal')\n",
        "print(\"T-статистика={},  p_value={}\".format(t_score, p_value))"
      ],
      "execution_count": 46,
      "outputs": [
        {
          "output_type": "stream",
          "name": "stdout",
          "text": [
            "T-статистика=1.1071248128459827,  p_value=0.8658791733007649\n"
          ]
        }
      ]
    },
    {
      "cell_type": "markdown",
      "metadata": {
        "id": "KE0wQrVYQYOq"
      },
      "source": [
        "#### Проведение вычислений. $Mann–Whitney$-test."
      ]
    },
    {
      "cell_type": "code",
      "metadata": {
        "id": "MP-_c4QEQYOq"
      },
      "source": [
        "w_score, p_value = scipy.stats.mannwhitneyu(df.query(\"group == 'control' and revenue > 0\")['converted'], \n",
        "                         df.query(\"group == 'treatment' and revenue > 0\")['converted'],\n",
        "                         alternative=\"less\")"
      ],
      "execution_count": 52,
      "outputs": []
    },
    {
      "cell_type": "code",
      "metadata": {
        "colab": {
          "base_uri": "https://localhost:8080/"
        },
        "id": "QmPJArS2QYOr",
        "outputId": "fa811c4d-486a-4682-f39f-9fa9d9634e14"
      },
      "source": [
        "print(\"W-статистика={},  p_value={}\".format(w_score, p_value))"
      ],
      "execution_count": 53,
      "outputs": [
        {
          "output_type": "stream",
          "name": "stdout",
          "text": [
            "W-статистика=3602757798.5,  p_value=0.7176161513900458\n"
          ]
        }
      ]
    },
    {
      "cell_type": "markdown",
      "metadata": {
        "id": "WEo90JqOQYOr"
      },
      "source": [
        "**Задание **\n",
        "\n",
        "Посмотрели на результаты стат тестов, какая гипотеза оказалась верна"
      ]
    },
    {
      "cell_type": "markdown",
      "metadata": {
        "id": "5pGPmn6webuy"
      },
      "source": [
        "**Ответ**\n",
        "\n",
        "Поскольку p-value достаточно большой, то делаем вывод, что нулевая гипотеза верна: новый дизайн улучшает объем продаж сайта."
      ]
    },
    {
      "cell_type": "markdown",
      "metadata": {
        "id": "03JQLOJ2-ltd"
      },
      "source": [
        "<a id='m12'></a>\n",
        "### Ошибки первого и второго рода"
      ]
    },
    {
      "cell_type": "markdown",
      "metadata": {
        "id": "yTDRFQb3-lte"
      },
      "source": [
        "|  | | | |\n",
        "|----------|:---------|:--------|:---------|\n",
        "|  | | \tВерная гипотеза: | |\n",
        "|  |     | $H_0$   | $H_1$    |\n",
        "| Результат применения критерия: | $H_0$   |$H_0$ верно принята  |$H_0$ неверно принята (ошибка II рода)  |  \n",
        "|  |$H_1$   |$H_0$ неверно отвергнута(ошибка I рода)  | $H_0$ верно отвергнута   |\n",
        "\n"
      ]
    },
    {
      "cell_type": "markdown",
      "metadata": {
        "id": "q5HXVl1S-lte"
      },
      "source": [
        "Уровень значимости (статистическая значимость, statistical significance) $\\alpha$ - это и есть вероятность ошибки первого рода, т. е. вероятность принятия альтернативной гипотезы при условии, что на самом деле верна нулевая гипотеза. \n",
        "\n",
        "Обозначим  $\\beta$  вероятность ошибки второго рода. \n",
        "\n",
        "Величина  $1-\\beta$ называется *статистической мощностью* (statistical power) критерия. По сути мощность показывает, сколько значений, соответствующих альтернативной гипотезе, мы действительно отнесем к альтернативной гипотезе"
      ]
    },
    {
      "cell_type": "markdown",
      "metadata": {
        "id": "4MDUQ9CPQYOs"
      },
      "source": [
        "![asd](https://habrastorage.org/files/475/9e5/ebc/4759e5ebcfc54b11a852704017d2d8ac.png)"
      ]
    },
    {
      "cell_type": "markdown",
      "metadata": {
        "id": "EW4zLDAmQYOs"
      },
      "source": [
        "## bootstrap  \n",
        "Сделаем стат выводы при помощи bootstrap-а"
      ]
    },
    {
      "cell_type": "code",
      "metadata": {
        "colab": {
          "base_uri": "https://localhost:8080/",
          "height": 204
        },
        "id": "2jp1wFEoQYOs",
        "outputId": "0e94f829-5bd6-4ffe-8f80-e73721308ac3"
      },
      "source": [
        "df.head()"
      ],
      "execution_count": 64,
      "outputs": [
        {
          "output_type": "execute_result",
          "data": {
            "text/html": [
              "<div>\n",
              "<style scoped>\n",
              "    .dataframe tbody tr th:only-of-type {\n",
              "        vertical-align: middle;\n",
              "    }\n",
              "\n",
              "    .dataframe tbody tr th {\n",
              "        vertical-align: top;\n",
              "    }\n",
              "\n",
              "    .dataframe thead th {\n",
              "        text-align: right;\n",
              "    }\n",
              "</style>\n",
              "<table border=\"1\" class=\"dataframe\">\n",
              "  <thead>\n",
              "    <tr style=\"text-align: right;\">\n",
              "      <th></th>\n",
              "      <th>user_id</th>\n",
              "      <th>timestamp</th>\n",
              "      <th>group</th>\n",
              "      <th>landing_page</th>\n",
              "      <th>converted</th>\n",
              "      <th>revenue</th>\n",
              "    </tr>\n",
              "  </thead>\n",
              "  <tbody>\n",
              "    <tr>\n",
              "      <th>0</th>\n",
              "      <td>851104</td>\n",
              "      <td>2017-01-21 22:11:48.556739</td>\n",
              "      <td>control</td>\n",
              "      <td>old_page</td>\n",
              "      <td>0</td>\n",
              "      <td>0</td>\n",
              "    </tr>\n",
              "    <tr>\n",
              "      <th>1</th>\n",
              "      <td>804228</td>\n",
              "      <td>2017-01-12 08:01:45.159739</td>\n",
              "      <td>control</td>\n",
              "      <td>old_page</td>\n",
              "      <td>0</td>\n",
              "      <td>0</td>\n",
              "    </tr>\n",
              "    <tr>\n",
              "      <th>2</th>\n",
              "      <td>661590</td>\n",
              "      <td>2017-01-11 16:55:06.154213</td>\n",
              "      <td>treatment</td>\n",
              "      <td>new_page</td>\n",
              "      <td>0</td>\n",
              "      <td>100</td>\n",
              "    </tr>\n",
              "    <tr>\n",
              "      <th>3</th>\n",
              "      <td>853541</td>\n",
              "      <td>2017-01-08 18:28:03.143765</td>\n",
              "      <td>treatment</td>\n",
              "      <td>new_page</td>\n",
              "      <td>0</td>\n",
              "      <td>0</td>\n",
              "    </tr>\n",
              "    <tr>\n",
              "      <th>4</th>\n",
              "      <td>864975</td>\n",
              "      <td>2017-01-21 01:52:26.210827</td>\n",
              "      <td>control</td>\n",
              "      <td>old_page</td>\n",
              "      <td>1</td>\n",
              "      <td>250</td>\n",
              "    </tr>\n",
              "  </tbody>\n",
              "</table>\n",
              "</div>"
            ],
            "text/plain": [
              "   user_id                   timestamp  ... converted revenue\n",
              "0   851104  2017-01-21 22:11:48.556739  ...         0       0\n",
              "1   804228  2017-01-12 08:01:45.159739  ...         0       0\n",
              "2   661590  2017-01-11 16:55:06.154213  ...         0     100\n",
              "3   853541  2017-01-08 18:28:03.143765  ...         0       0\n",
              "4   864975  2017-01-21 01:52:26.210827  ...         1     250\n",
              "\n",
              "[5 rows x 6 columns]"
            ]
          },
          "metadata": {},
          "execution_count": 64
        }
      ]
    },
    {
      "cell_type": "code",
      "metadata": {
        "colab": {
          "base_uri": "https://localhost:8080/",
          "height": 265
        },
        "id": "ouMZwwWeQYOt",
        "outputId": "232929ad-1e7d-41f9-cde5-5ca93b30489c"
      },
      "source": [
        "plt.hist(df.loc[df['group']=='treatment', 'revenue']);"
      ],
      "execution_count": 54,
      "outputs": [
        {
          "output_type": "display_data",
          "data": {
            "image/png": "[encoded data removed]",
            "text/plain": [
              "<Figure size 432x288 with 1 Axes>"
            ]
          },
          "metadata": {
            "needs_background": "light"
          }
        }
      ]
    },
    {
      "cell_type": "code",
      "metadata": {
        "colab": {
          "base_uri": "https://localhost:8080/",
          "height": 265
        },
        "id": "uxEqQRhSQYOt",
        "outputId": "e4d28e0b-0e43-4fc8-b6de-b218044c5a83"
      },
      "source": [
        "plt.hist(df.loc[df['group']=='control', 'revenue']);"
      ],
      "execution_count": 55,
      "outputs": [
        {
          "output_type": "display_data",
          "data": {
            "image/png": "[encoded data removed]",
            "text/plain": [
              "<Figure size 432x288 with 1 Axes>"
            ]
          },
          "metadata": {
            "needs_background": "light"
          }
        }
      ]
    },
    {
      "cell_type": "code",
      "metadata": {
        "id": "419WX9e_QYOt"
      },
      "source": [
        "b = df.loc[df['group']=='treatment', 'revenue'].values\n",
        "a = df.loc[df['group']=='control', 'revenue'].values"
      ],
      "execution_count": 56,
      "outputs": []
    },
    {
      "cell_type": "code",
      "metadata": {
        "id": "8zURoIJEQYOt"
      },
      "source": [
        "from sklearn.utils import resample\n",
        "\n",
        "a_means = []\n",
        "b_means = []\n",
        "\n",
        "for i in range(10000):\n",
        "    a_boot = resample(a, replace=True, n_samples=len(a))\n",
        "    b_boot = resample(b, replace=True, n_samples=len(b))\n",
        "    \n",
        "    a_means.append(a_boot.mean())\n",
        "    b_means.append(b_boot.mean())\n",
        "    \n",
        "a_means = np.array(a_means)\n",
        "b_means = np.array(b_means)"
      ],
      "execution_count": 57,
      "outputs": []
    },
    {
      "cell_type": "code",
      "metadata": {
        "colab": {
          "base_uri": "https://localhost:8080/",
          "height": 265
        },
        "id": "6hmOQvRFQYOu",
        "outputId": "591bcf4f-d753-4de2-f397-4fb9382f8644"
      },
      "source": [
        "plt.hist(a_means, label='A conv', alpha=0.5, bins=100)\n",
        "plt.hist(b_means, label='B conv', alpha=0.5, bins=100)\n",
        "\n",
        "plt.legend()\n",
        "plt.show()"
      ],
      "execution_count": 58,
      "outputs": [
        {
          "output_type": "display_data",
          "data": {
            "image/png": "[encoded data removed]",
            "text/plain": [
              "<Figure size 432x288 with 1 Axes>"
            ]
          },
          "metadata": {
            "needs_background": "light"
          }
        }
      ]
    },
    {
      "cell_type": "code",
      "metadata": {
        "colab": {
          "base_uri": "https://localhost:8080/"
        },
        "id": "DeFnkvdEQYOu",
        "outputId": "4edd2c66-da49-4415-d90e-1b901c493e00"
      },
      "source": [
        "# доверительный интервал\n",
        "np.percentile(a_means, 2.5), np.percentile(a_means, 97.5)"
      ],
      "execution_count": 59,
      "outputs": [
        {
          "output_type": "execute_result",
          "data": {
            "text/plain": [
              "(86.90131587886033, 87.94275892990585)"
            ]
          },
          "metadata": {},
          "execution_count": 59
        }
      ]
    },
    {
      "cell_type": "code",
      "metadata": {
        "colab": {
          "base_uri": "https://localhost:8080/",
          "height": 265
        },
        "id": "u66o01vkQYOu",
        "outputId": "1b22f742-e6ad-475e-a8f4-eb1f1f635ffc"
      },
      "source": [
        "plt.hist(b_means - a_means, bins=100)\n",
        "plt.show()"
      ],
      "execution_count": 67,
      "outputs": [
        {
          "output_type": "display_data",
          "data": {
            "image/png": "[encoded data removed]",
            "text/plain": [
              "<Figure size 432x288 with 1 Axes>"
            ]
          },
          "metadata": {
            "needs_background": "light"
          }
        }
      ]
    },
    {
      "cell_type": "code",
      "metadata": {
        "colab": {
          "base_uri": "https://localhost:8080/"
        },
        "id": "mDxucPiJQYOv",
        "outputId": "2ab6b3c5-d66f-4b0f-cd6c-b27ddc0f5cfd"
      },
      "source": [
        "# сделаем оценку на p_value\n",
        "dff = b_means - a_means\n",
        "\n",
        "len(dff[dff>=0])/len(dff)"
      ],
      "execution_count": 68,
      "outputs": [
        {
          "output_type": "execute_result",
          "data": {
            "text/plain": [
              "1.0"
            ]
          },
          "metadata": {},
          "execution_count": 68
        }
      ]
    },
    {
      "cell_type": "code",
      "metadata": {
        "colab": {
          "base_uri": "https://localhost:8080/"
        },
        "id": "sJdUV3FxQYOv",
        "outputId": "46b0802f-77d6-4abc-e713-d8de09b460d0"
      },
      "source": [
        "dff"
      ],
      "execution_count": 69,
      "outputs": [
        {
          "output_type": "execute_result",
          "data": {
            "text/plain": [
              "array([28.58584546, 28.83227777, 28.79807204, ..., 29.28099269,\n",
              "       28.95036032, 28.28572031])"
            ]
          },
          "metadata": {},
          "execution_count": 69
        }
      ]
    }
  ]
}